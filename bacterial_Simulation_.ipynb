{
  "metadata": {
    "kernelspec": {
      "language": "python",
      "display_name": "Python 3",
      "name": "python3"
    },
    "language_info": {
      "name": "python",
      "version": "3.7.12",
      "mimetype": "text/x-python",
      "codemirror_mode": {
        "name": "ipython",
        "version": 3
      },
      "pygments_lexer": "ipython3",
      "nbconvert_exporter": "python",
      "file_extension": ".py"
    },
    "colab": {
      "provenance": []
    }
  },
  "nbformat_minor": 0,
  "nbformat": 4,
  "cells": [
    {
      "cell_type": "code",
      "source": [
        "import random,numpy as np,pylab as pl\n"
      ],
      "metadata": {
        "_uuid": "8f2839f25d086af736a60e9eeb907d3b93b6e0e5",
        "_cell_guid": "b1076dfc-b9ad-4769-8c92-a6c4dae69d19",
        "execution": {
          "iopub.status.busy": "2022-09-09T10:46:13.339153Z",
          "iopub.execute_input": "2022-09-09T10:46:13.340332Z",
          "iopub.status.idle": "2022-09-09T10:46:13.376949Z",
          "shell.execute_reply.started": "2022-09-09T10:46:13.340226Z",
          "shell.execute_reply": "2022-09-09T10:46:13.375927Z"
        },
        "trusted": true,
        "id": "5UmrQjnhguAV"
      },
      "execution_count": 11,
      "outputs": []
    },
    {
      "cell_type": "code",
      "source": [
        "# Problem Set 4: Simulating the Spread of Disease and Bacteria Population Dynamics\n",
        "# Name:\n",
        "# Collaborators (Discussion):\n",
        "# Time:\n",
        "\n",
        "import math\n",
        "import numpy as np\n",
        "import pylab \n",
        "import random"
      ],
      "metadata": {
        "execution": {
          "iopub.status.busy": "2022-09-09T10:46:13.378973Z",
          "iopub.execute_input": "2022-09-09T10:46:13.379702Z",
          "iopub.status.idle": "2022-09-09T10:46:13.384902Z",
          "shell.execute_reply.started": "2022-09-09T10:46:13.379664Z",
          "shell.execute_reply": "2022-09-09T10:46:13.383696Z"
        },
        "trusted": true,
        "id": "kQNDiHPaguAb"
      },
      "execution_count": 12,
      "outputs": []
    },
    {
      "cell_type": "code",
      "source": [
        "class NoChildException(Exception):\n",
        "    \"\"\"\n",
        "    NoChildException is raised by the reproduce() method in the SimpleBacteria\n",
        "    and ResistantBacteria classes to indicate that a bacteria cell does not\n",
        "    reproduce. You should use NoChildException as is; you do not need to\n",
        "    modify it or add any code.\n",
        "    \"\"\""
      ],
      "metadata": {
        "execution": {
          "iopub.status.busy": "2022-09-09T11:28:11.130648Z",
          "iopub.execute_input": "2022-09-09T11:28:11.131111Z",
          "iopub.status.idle": "2022-09-09T11:28:11.137555Z",
          "shell.execute_reply.started": "2022-09-09T11:28:11.131079Z",
          "shell.execute_reply": "2022-09-09T11:28:11.136277Z"
        },
        "trusted": true,
        "id": "zfJap4pXguAd"
      },
      "execution_count": 13,
      "outputs": []
    },
    {
      "cell_type": "markdown",
      "source": [
        "assignment "
      ],
      "metadata": {
        "id": "UIE-q3PNguAf"
      }
    },
    {
      "cell_type": "code",
      "source": [
        "class SimpleBacteria(object):\n",
        "    def __init__(self, birth_prob, death_prob):\n",
        "        self.birth_prob = birth_prob\n",
        "        self.death_prob = death_prob\n",
        "\n",
        "    def is_killed(self):\n",
        "        if random.random() <= self.death_prob : \n",
        "            return True\n",
        "        else:\n",
        "            return False\n",
        "\n",
        "\n",
        "    def reproduce(self, pop_density):\n",
        "        if random.random() <=  self.birth_prob * (1 - pop_density) : \n",
        "            return SimpleBacteria(self.birth_prob ,self.death_prob)\n",
        "        else:\n",
        "            raise NoChildException\n",
        "    def __str__(self):\n",
        "        return str(self.birth_prob) +' , ' +  str(self.death_prob)\n",
        "\n"
      ],
      "metadata": {
        "execution": {
          "iopub.status.busy": "2022-09-09T10:53:12.104310Z",
          "iopub.execute_input": "2022-09-09T10:53:12.104762Z",
          "iopub.status.idle": "2022-09-09T10:53:12.114726Z",
          "shell.execute_reply.started": "2022-09-09T10:53:12.104727Z",
          "shell.execute_reply": "2022-09-09T10:53:12.113225Z"
        },
        "trusted": true,
        "id": "OBj3toX8guAi"
      },
      "execution_count": 14,
      "outputs": []
    },
    {
      "cell_type": "code",
      "source": [
        "class Patient(object):\n",
        "\n",
        "    def __init__(self, bacteria, max_pop):\n",
        "        self.bacteria_list = bacteria\n",
        "        self.max_pop = max_pop\n",
        "\n",
        "\n",
        "    def get_total_pop(self):\n",
        "        return len(self.bacteria_list)\n",
        "\n",
        "\n",
        "    def update(self):\n",
        "        survivors = [ i for i in self.bacteria_list if not i.is_killed()]\n",
        "        self.pop_density = len(survivors)/self.max_pop\n",
        "        progeny = []\n",
        "        for i in survivors:\n",
        "            try :\n",
        "                progeny.append(i.reproduce(self.pop_density))\n",
        "            except NoChildException:\n",
        "                continue \n",
        "        self.bacteria_list = survivors +  progeny\n",
        "        return len(self.bacteria_list)"
      ],
      "metadata": {
        "execution": {
          "iopub.status.busy": "2022-09-09T10:57:52.027545Z",
          "iopub.execute_input": "2022-09-09T10:57:52.028011Z",
          "iopub.status.idle": "2022-09-09T10:57:52.038354Z",
          "shell.execute_reply.started": "2022-09-09T10:57:52.027976Z",
          "shell.execute_reply": "2022-09-09T10:57:52.036988Z"
        },
        "trusted": true,
        "id": "v0h39R-kguAk"
      },
      "execution_count": 15,
      "outputs": []
    },
    {
      "cell_type": "code",
      "source": [
        "class Test(object):\n",
        "    def __init__(self,name,birth_prob):\n",
        "        self.name = name \n",
        "        self.birth_prob = birth_prob\n",
        "    def test(self):\n",
        "        if random.random()<=0.5:\n",
        "            return True \n",
        "        else:\n",
        "            return False\n",
        "    def __str__(self):\n",
        "        return str(self.name)\n",
        "    def recreate(self,pop):\n",
        "        if random.random() <= self.birth_prob * (1-pop):\n",
        "            return Test(self.name,self.birth_prob)\n",
        "        else:\n",
        "            raise NoChildException"
      ],
      "metadata": {
        "execution": {
          "iopub.status.busy": "2022-09-08T05:02:25.431654Z",
          "iopub.execute_input": "2022-09-08T05:02:25.432270Z",
          "iopub.status.idle": "2022-09-08T05:02:25.439129Z",
          "shell.execute_reply.started": "2022-09-08T05:02:25.432235Z",
          "shell.execute_reply": "2022-09-08T05:02:25.437806Z"
        },
        "trusted": true,
        "id": "JM3nsG8jguAl"
      },
      "execution_count": 16,
      "outputs": []
    },
    {
      "cell_type": "code",
      "source": [
        "def calc_pop_avg(populations, n):\n",
        "    return float(sum([i[n] for i in populations])/len(populations))"
      ],
      "metadata": {
        "execution": {
          "iopub.status.busy": "2022-09-09T11:01:00.741759Z",
          "iopub.execute_input": "2022-09-09T11:01:00.742195Z",
          "iopub.status.idle": "2022-09-09T11:01:00.749243Z",
          "shell.execute_reply.started": "2022-09-09T11:01:00.742165Z",
          "shell.execute_reply": "2022-09-09T11:01:00.747863Z"
        },
        "trusted": true,
        "id": "vf9JqrcLguAm"
      },
      "execution_count": 17,
      "outputs": []
    },
    {
      "cell_type": "code",
      "source": [
        "def make_one_curve_plot(x_coords, y_coords, x_label, y_label, title):\n",
        "    pl.figure()\n",
        "    pl.plot(x_coords, y_coords)\n",
        "    pl.xlabel(x_label)\n",
        "    pl.ylabel(y_label)\n",
        "    pl.title(title)\n",
        "    pl.show()"
      ],
      "metadata": {
        "execution": {
          "iopub.status.busy": "2022-09-09T11:01:01.334211Z",
          "iopub.execute_input": "2022-09-09T11:01:01.334902Z",
          "iopub.status.idle": "2022-09-09T11:01:01.340987Z",
          "shell.execute_reply.started": "2022-09-09T11:01:01.334864Z",
          "shell.execute_reply": "2022-09-09T11:01:01.340036Z"
        },
        "trusted": true,
        "id": "wTvrKzofguAm"
      },
      "execution_count": 18,
      "outputs": []
    },
    {
      "cell_type": "code",
      "source": [
        "def simulation_without_antibiotic(num_bacteria,\n",
        "                                  max_pop,\n",
        "                                  birth_prob,\n",
        "                                  death_prob,\n",
        "                                  num_trials):\n",
        "   \n",
        "    bacterial_avg = []\n",
        "    for i in  range(num_trials):\n",
        "        bacteria = [SimpleBacteria(birth_prob,death_prob) for i in range(num_bacteria)]\n",
        "        patient = Patient(bacteria,max_pop)\n",
        "        bacterial_tag = [num_bacteria]\n",
        "        for i in range(299):\n",
        "            bacterial_tag.append(patient.update())\n",
        "        bacterial_avg.append(bacterial_tag)\n",
        "    x = range(300)\n",
        "    y=[(calc_pop_avg(bacterial_avg,i)) for  i in x ]\n",
        "    make_one_curve_plot(x,y,'Time Step','Average Population','Without Antibiotic')\n",
        "    return bacterial_avg \n",
        "                    \n",
        "    "
      ],
      "metadata": {
        "execution": {
          "iopub.status.busy": "2022-09-09T12:26:24.749894Z",
          "iopub.execute_input": "2022-09-09T12:26:24.750362Z",
          "iopub.status.idle": "2022-09-09T12:26:24.759934Z",
          "shell.execute_reply.started": "2022-09-09T12:26:24.750330Z",
          "shell.execute_reply": "2022-09-09T12:26:24.758486Z"
        },
        "trusted": true,
        "id": "IibSyOowguAn"
      },
      "execution_count": 19,
      "outputs": []
    },
    {
      "cell_type": "code",
      "source": [
        "base = simulation_without_antibiotic(100, 1000, 0.1, 0.025, 50)"
      ],
      "metadata": {
        "execution": {
          "iopub.status.busy": "2022-09-09T12:26:25.125197Z",
          "iopub.execute_input": "2022-09-09T12:26:25.125671Z",
          "iopub.status.idle": "2022-09-09T12:26:36.890600Z",
          "shell.execute_reply.started": "2022-09-09T12:26:25.125632Z",
          "shell.execute_reply": "2022-09-09T12:26:36.889338Z"
        },
        "trusted": true,
        "colab": {
          "base_uri": "https://localhost:8080/",
          "height": 295
        },
        "id": "dByNahzPguAo",
        "outputId": "79258dfc-2f48-46d8-ea52-70dc722498bc"
      },
      "execution_count": 20,
      "outputs": [
        {
          "output_type": "display_data",
          "data": {
            "text/plain": [
              "<Figure size 432x288 with 1 Axes>"
            ],
            "image/png": "[encoded data removed]"
          },
          "metadata": {
            "needs_background": "light"
          }
        }
      ]
    },
    {
      "cell_type": "code",
      "source": [
        "\n",
        "def std(x):\n",
        "    res = 0 \n",
        "    mean = sum(x)/len(x)\n",
        "    for i in x:\n",
        "        res += (mean - i)**2\n",
        "    return (res/len(x))**0.5"
      ],
      "metadata": {
        "execution": {
          "iopub.status.busy": "2022-09-09T11:01:49.430314Z",
          "iopub.execute_input": "2022-09-09T11:01:49.430754Z",
          "iopub.status.idle": "2022-09-09T11:01:49.436552Z",
          "shell.execute_reply.started": "2022-09-09T11:01:49.430722Z",
          "shell.execute_reply": "2022-09-09T11:01:49.435269Z"
        },
        "trusted": true,
        "id": "OY00qi3zguAo"
      },
      "execution_count": 21,
      "outputs": []
    },
    {
      "cell_type": "code",
      "source": [
        "def calc_pop_std(populations, t):\n",
        "    x = [i[t] for i in populations]\n",
        "    return float(std(x))"
      ],
      "metadata": {
        "execution": {
          "iopub.status.busy": "2022-09-09T11:02:09.680554Z",
          "iopub.execute_input": "2022-09-09T11:02:09.681006Z",
          "iopub.status.idle": "2022-09-09T11:02:09.687728Z",
          "shell.execute_reply.started": "2022-09-09T11:02:09.680971Z",
          "shell.execute_reply": "2022-09-09T11:02:09.686476Z"
        },
        "trusted": true,
        "id": "TrFffYYKguAp"
      },
      "execution_count": 22,
      "outputs": []
    },
    {
      "cell_type": "code",
      "source": [
        "def calc_95_ci(populations, t):\n",
        "    sample_mean = calc_pop_avg(populations, t)\n",
        "    sample_std = calc_pop_std(populations, t)\n",
        "    SEM = sample_std/len(populations)\n",
        "    return (sample_mean-1.96 * SEM, sample_mean+1.96 * SEM) \n",
        "    \n"
      ],
      "metadata": {
        "execution": {
          "iopub.status.busy": "2022-09-09T13:43:22.252990Z",
          "iopub.execute_input": "2022-09-09T13:43:22.253409Z",
          "iopub.status.idle": "2022-09-09T13:43:22.259720Z",
          "shell.execute_reply.started": "2022-09-09T13:43:22.253377Z",
          "shell.execute_reply": "2022-09-09T13:43:22.258576Z"
        },
        "trusted": true,
        "id": "yIc6kGxYguAp"
      },
      "execution_count": 23,
      "outputs": []
    },
    {
      "cell_type": "code",
      "source": [
        "class ResistantBacteria(SimpleBacteria):\n",
        "    \"\"\"A bacteria cell that can have antibiotic resistance.\"\"\"\n",
        "\n",
        "    def __init__(self, birth_prob, death_prob, resistant, mut_prob):\n",
        "        SimpleBacteria.__init__(self,birth_prob,death_prob)\n",
        "        self.resistant  = resistant \n",
        "        self.mut_prob = mut_prob\n",
        "        \n",
        "        \"\"\"\n",
        "        Args:\n",
        "            birth_prob (float in [0, 1]): reproduction probability\n",
        "            death_prob (float in [0, 1]): death probability\n",
        "            resistant (bool): whether this bacteria has antibiotic resistance\n",
        "            mut_prob (float): mutation probability for this\n",
        "                bacteria cell. This is the maximum probability of the\n",
        "                offspring acquiring antibiotic resistance\n",
        "        \"\"\"\n",
        "    def __str__(self):\n",
        "        return str(self.birth_prob) + ' , ' + str(self.death_prob) + ' , ' + str(self.resistant) + '  , ' +  str(self.mut_prob)\n",
        "    def get_resistant(self):\n",
        "        return self.resistant\n",
        "    def is_killed(self):\n",
        "        if self.resistant:\n",
        "            if random.random() <= self.death_prob:\n",
        "                return True \n",
        "            else:\n",
        "                return False\n",
        "        elif random.random() <= self.death_prob/4:\n",
        "                return True \n",
        "        else:\n",
        "            return False\n",
        "        \n",
        "        \"\"\"Stochastically determines whether this bacteria cell is killed in\n",
        "        the patient's body at a given time step.\n",
        "\n",
        "        Checks whether the bacteria has antibiotic resistance. If resistant,\n",
        "        the bacteria dies with the regular death probability. If not resistant,\n",
        "        the bacteria dies with the regular death probability / 4.\n",
        "\n",
        "        Returns:\n",
        "            bool: True if the bacteria dies with the appropriate probability\n",
        "                and False otherwise.\n",
        "        \"\"\"\n",
        "  \n",
        "\n",
        "    def reproduce(self, pop_density):\n",
        "        if  random.random()<=self.birth_prob * (1 - pop_density):\n",
        "            if self.get_resistant():\n",
        "                return ResistantBacteria(self.birth_prob,self.death_prob,self.resistant,self.mut_prob)\n",
        "            else:\n",
        "                resistant = random.random()<=self.mut_prob * (1-pop_density) \n",
        "                return ResistantBacteria(self.birth_prob,self.death_prob,resistant,self.mut_prob)\n",
        "        else:\n",
        "            raise NoChildException\n",
        "\n",
        "                    \n",
        "            \n",
        "        \"\"\"\n",
        "        Stochastically determines whether this bacteria cell reproduces at a\n",
        "        time step. Called by the update() method in the TreatedPatient class.\n",
        "\n",
        "        A surviving bacteria cell will reproduce with probability:\n",
        "        self.birth_prob * (1 - pop_density).\n",
        "\n",
        "        If the bacteria cell reproduces, then reproduce() creates and returns\n",
        "        an instance of the offspring ResistantBacteria, which will have the\n",
        "        same birth_prob, death_prob, and mut_prob values as its parent.\n",
        "\n",
        "        If the bacteria has antibiotic resistance, the offspring will also be\n",
        "        resistant. If the bacteria does not have antibiotic resistance, its\n",
        "        offspring have a probability of self.mut_prob * (1-pop_density) of\n",
        "        developing that resistance trait. That is, bacteria in less densely\n",
        "        populated environments have a greater chance of mutating to have\n",
        "        antibiotic resistance.\n",
        "\n",
        "        Args:\n",
        "            pop_density (float): the population density\n",
        "\n",
        "        Returns:\n",
        "            ResistantBacteria: an instance representing the offspring of\n",
        "            this bacteria cell (if the bacteria reproduces). The child should\n",
        "            have the same birth_prob, death_prob values and mut_prob\n",
        "            as this bacteria. Otherwise, raises a NoChildException if this\n",
        "            bacteria cell does not reproduce.\n",
        "             \"\"\""
      ],
      "metadata": {
        "execution": {
          "iopub.status.busy": "2022-09-09T13:18:22.410583Z",
          "iopub.execute_input": "2022-09-09T13:18:22.411091Z",
          "iopub.status.idle": "2022-09-09T13:18:22.424825Z",
          "shell.execute_reply.started": "2022-09-09T13:18:22.411053Z",
          "shell.execute_reply": "2022-09-09T13:18:22.423484Z"
        },
        "trusted": true,
        "id": "COSIsVUfguAq"
      },
      "execution_count": 24,
      "outputs": []
    },
    {
      "cell_type": "code",
      "source": [
        "class TreatedPatient(Patient):\n",
        "    \"\"\"\n",
        "    Representation of a treated patient. The patient is able to take an\n",
        "    antibiotic and his/her bacteria population can acquire antibiotic\n",
        "    resistance. The patient cannot go off an antibiotic once on it.\n",
        "    \"\"\"\n",
        "    def __init__(self, bacteria, max_pop):\n",
        "        Patient.__init__(self,bacteria,max_pop)\n",
        "        self.on_antibiotic=False\n",
        "        \"\"\"\n",
        "        Args:\n",
        "            bacteria: The list representing the bacteria population (a list of\n",
        "                      bacteria instances)\n",
        "            max_pop: The maximum bacteria population for this patient (int)\n",
        "\n",
        "        This function should initialize self.on_antibiotic, which represents\n",
        "        whether a patient has been given an antibiotic. Initially, the\n",
        "        patient has not been given an antibiotic.\n",
        "\n",
        "        Don't forget to call Patient's __init__ method at the start of this\n",
        "        method.\n",
        "        \"\"\"\n",
        "\n",
        "    def set_on_antibiotic(self):\n",
        "        self.on_antibiotic = True \n",
        "        \"\"\"\n",
        "        Administer an antibiotic to this patient. The antibiotic acts on the\n",
        "        bacteria population for all subsequent time steps.\n",
        "        \"\"\"\n",
        "\n",
        "\n",
        "    def get_resist_pop(self):\n",
        "        return sum ([1 for i in self.bacteria_list if i.get_resistant()])\n",
        "        \n",
        "        \"\"\"\n",
        "        Get the population size of bacteria cells with antibiotic resistance\n",
        "\n",
        "        Returns:\n",
        "            int: the number of bacteria with antibiotic resistance\n",
        "        \"\"\"\n",
        "\n",
        "\n",
        "    def update(self):\n",
        "        survivors = [i for i in self.bacteria_list if not i.is_killed()]\n",
        "        if self.on_antibiotic:\n",
        "            survivors = [  i for i in survivors if i.resistant]\n",
        "        self.pop_density = len(survivors)/self.max_pop\n",
        "        progeny = []\n",
        "        for i in survivors:\n",
        "            try :\n",
        "                progeny.append(i.reproduce(self.pop_density))\n",
        "            except NoChildException:\n",
        "                continue \n",
        "        self.bacteria_list = survivors +  progeny\n",
        "        return  len(self.bacteria_list)\n",
        "        \"\"\"\n",
        "        Update the state of the bacteria population in this patient for a\n",
        "        single time step. update() should execute these actions in order:\n",
        "\n",
        "        1. Determine whether each bacteria cell dies (according to the\n",
        "           is_killed method) and create a new list of surviving bacteria cells.\n",
        "\n",
        "        2. If the patient is on antibiotics, the surviving bacteria cells from\n",
        "           (1) only survive further if they are resistant. If the patient is\n",
        "           not on the antibiotic, keep all surviving bacteria cells from (1)\n",
        "\n",
        "        3. Calculate the current population density. This value is used until\n",
        "           the next call to update(). Use the same calculation as in Patient\n",
        "\n",
        "        4. Based on this value of population density, determine whether each\n",
        "           surviving bacteria cell should reproduce and add offspring bacteria\n",
        "           cells to the list of bacteria in this patient.\n",
        "\n",
        "        5. Reassign the patient's bacteria list to be the list of survived\n",
        "           bacteria and new offspring bacteria\n",
        "\n",
        "        Returns:\n",
        "            int: The total bacteria population at the end of the update\n",
        "        \"\"\"\n",
        "\n"
      ],
      "metadata": {
        "execution": {
          "iopub.status.busy": "2022-09-09T13:18:23.065603Z",
          "iopub.execute_input": "2022-09-09T13:18:23.066034Z",
          "iopub.status.idle": "2022-09-09T13:18:23.078157Z",
          "shell.execute_reply.started": "2022-09-09T13:18:23.065997Z",
          "shell.execute_reply": "2022-09-09T13:18:23.076953Z"
        },
        "trusted": true,
        "id": "9r1RjuyHguAr"
      },
      "execution_count": 25,
      "outputs": []
    },
    {
      "cell_type": "code",
      "source": [
        "def simulation_with_antibiotic(num_bacteria,\n",
        "                               max_pop,\n",
        "                               birth_prob,\n",
        "                               death_prob,\n",
        "                               resistant,\n",
        "                               mut_prob,\n",
        "                               num_trials):\n",
        "    bacterial_array = []\n",
        "    resistant_array = []\n",
        "    for  i in range(num_trials):\n",
        "        bacteria =[ResistantBacteria(birth_prob,death_prob,resistant,mut_prob) for i in range(num_bacteria)]\n",
        "        patient = TreatedPatient(bacteria,max_pop)\n",
        "        bacterial_count = [num_bacteria]\n",
        "        resistant_count = [patient.get_resist_pop()]\n",
        "        for i in range(149):\n",
        "            bacterial_count.append(patient.update())\n",
        "            resistant_count.append(patient.get_resist_pop())\n",
        "        patient.set_on_antibiotic()\n",
        "        for i in range(250):\n",
        "            bacterial_count.append(patient.update())\n",
        "            resistant_count.append(patient.get_resist_pop())\n",
        "        bacterial_array.append(bacterial_count)\n",
        "        resistant_array.append(resistant_count)\n",
        "    x = range(400)\n",
        "    y = [calc_pop_avg(bacterial_array,i) for i in x]\n",
        "    r = [calc_pop_avg(resistant_array,i) for i in x]\n",
        "    pylab.figure()\n",
        "    pylab.plot(x, y , label = 'Total')\n",
        "    pylab.plot(x,r,label ='resistant bacteria')\n",
        "    pylab.xlabel('Time Step')\n",
        "    pylab.ylabel('Average Population')\n",
        "    pylab.title('with antibiotic at 150 ts ')\n",
        "    pylab.legend()\n",
        "    return bacterial_array,resistant_array\n",
        "        \n",
        "    \"\"\"\n",
        "    Runs simulations and plots graphs for problem 4.\n",
        "\n",
        "    For each of num_trials trials:\n",
        "        * instantiate a list of ResistantBacteria\n",
        "        * instantiate a patient\n",
        "        * run a simulation for 150 timesteps, add the antibiotic, and run the\n",
        "          simulation for an additional 250 timesteps, recording the total\n",
        "          bacteria population and the resistance bacteria population after\n",
        "          each time step\n",
        "\n",
        "    Plot the average bacteria population size for both the total bacteria\n",
        "    population and the antibiotic-resistant bacteria population (y-axis) as a\n",
        "    function of elapsed time steps (x-axis) on the same plot. You might find\n",
        "    the helper function make_two_curve_plot helpful\n",
        "\n",
        "    Args:\n",
        "        num_bacteria (int): number of ResistantBacteria to create for\n",
        "            the patient\n",
        "        max_pop (int): maximum bacteria population for patient\n",
        "        birth_prob (float int [0-1]): reproduction probability\n",
        "        death_prob (float in [0, 1]): probability of a bacteria cell dying\n",
        "        resistant (bool): whether the bacteria initially have\n",
        "            antibiotic resistance\n",
        "        mut_prob (float in [0, 1]): mutation probability for the\n",
        "            ResistantBacteria cells\n",
        "        num_trials (int): number of simulation runs to execute\n",
        "\n",
        "    Returns: a tuple of two lists of lists, or two 2D arrays\n",
        "        populations (list of lists or 2D array): the total number of bacteria\n",
        "            at each time step for each trial; total_population[i][j] is the\n",
        "            total population for trial i at time step j\n",
        "        resistant_pop (list of lists or 2D array): the total number of\n",
        "            resistant bacteria at each time step for each trial;\n",
        "            resistant_pop[i][j] is the number of resistant bacteria for\n",
        "            trial i at time step j\n",
        "    \"\"\"\n"
      ],
      "metadata": {
        "execution": {
          "iopub.status.busy": "2022-09-09T13:34:37.249753Z",
          "iopub.execute_input": "2022-09-09T13:34:37.250205Z",
          "iopub.status.idle": "2022-09-09T13:34:37.264045Z",
          "shell.execute_reply.started": "2022-09-09T13:34:37.250167Z",
          "shell.execute_reply": "2022-09-09T13:34:37.262944Z"
        },
        "trusted": true,
        "id": "eeRpjfXQguAt"
      },
      "execution_count": 26,
      "outputs": []
    },
    {
      "cell_type": "code",
      "source": [
        "random.seed(40)\n",
        "total_pop, resistant_pop = simulation_with_antibiotic(num_bacteria=100,\n",
        "                                                      max_pop=1000,\n",
        "                                                      birth_prob=0.3,\n",
        "                                                      death_prob=0.2,\n",
        "                                                      resistant=False,\n",
        "                                                      mut_prob=0.8,\n",
        "                                                      num_trials=50)"
      ],
      "metadata": {
        "execution": {
          "iopub.status.busy": "2022-09-09T13:39:16.333160Z",
          "iopub.execute_input": "2022-09-09T13:39:16.333704Z",
          "iopub.status.idle": "2022-09-09T13:39:27.511862Z",
          "shell.execute_reply.started": "2022-09-09T13:39:16.333663Z",
          "shell.execute_reply": "2022-09-09T13:39:27.510380Z"
        },
        "trusted": true,
        "colab": {
          "base_uri": "https://localhost:8080/",
          "height": 295
        },
        "id": "CmrlyIA7guAv",
        "outputId": "f75637f6-39f5-4d19-caa9-64c60ea8d656"
      },
      "execution_count": 27,
      "outputs": [
        {
          "output_type": "display_data",
          "data": {
            "text/plain": [
              "<Figure size 432x288 with 1 Axes>"
            ],
            "image/png": "[encoded data removed]"
          },
          "metadata": {
            "needs_background": "light"
          }
        }
      ]
    },
    {
      "cell_type": "code",
      "source": [
        "calc_95_ci(total_pop, 299),calc_95_ci(resistant_pop, 299)\n",
        "\n",
        "\n",
        "\n",
        "\n"
      ],
      "metadata": {
        "execution": {
          "iopub.status.busy": "2022-09-09T13:45:26.272946Z",
          "iopub.execute_input": "2022-09-09T13:45:26.273364Z",
          "iopub.status.idle": "2022-09-09T13:45:26.282081Z",
          "shell.execute_reply.started": "2022-09-09T13:45:26.273331Z",
          "shell.execute_reply": "2022-09-09T13:45:26.281265Z"
        },
        "trusted": true,
        "colab": {
          "base_uri": "https://localhost:8080/"
        },
        "id": "9zEPrU9UguAv",
        "outputId": "ddbb791b-3c50-4fc3-f7ca-1471eb058c2c"
      },
      "execution_count": 28,
      "outputs": [
        {
          "output_type": "execute_result",
          "data": {
            "text/plain": [
              "((205.5384938461559, 207.82150615384413),\n",
              " (205.5384938461559, 207.82150615384413))"
            ]
          },
          "metadata": {},
          "execution_count": 28
        }
      ]
    },
    {
      "cell_type": "code",
      "source": [
        "random.seed(40)\n",
        "total_pop, resistant_pop = simulation_with_antibiotic(num_bacteria=100,\n",
        "                                                      max_pop=1000,\n",
        "                                                      birth_prob=0.17,\n",
        "                                                      death_prob=0.2,\n",
        "                                                      resistant=False,\n",
        "                                                      mut_prob=0.8,\n",
        "                                                      num_trials=50)"
      ],
      "metadata": {
        "execution": {
          "iopub.status.busy": "2022-09-09T13:45:38.384881Z",
          "iopub.execute_input": "2022-09-09T13:45:38.385310Z",
          "iopub.status.idle": "2022-09-09T13:45:40.200197Z",
          "shell.execute_reply.started": "2022-09-09T13:45:38.385275Z",
          "shell.execute_reply": "2022-09-09T13:45:40.199193Z"
        },
        "trusted": true,
        "colab": {
          "base_uri": "https://localhost:8080/",
          "height": 295
        },
        "id": "SBmQoz_UguAw",
        "outputId": "c7341798-3775-4e95-f543-bc32d2187b02"
      },
      "execution_count": 29,
      "outputs": [
        {
          "output_type": "display_data",
          "data": {
            "text/plain": [
              "<Figure size 432x288 with 1 Axes>"
            ],
            "image/png": "[encoded data removed]"
          },
          "metadata": {
            "needs_background": "light"
          }
        }
      ]
    },
    {
      "cell_type": "code",
      "source": [
        "calc_95_ci(total_pop, 299),calc_95_ci(resistant_pop, 299)\n",
        "\n",
        "\n",
        "\n",
        "\n"
      ],
      "metadata": {
        "execution": {
          "iopub.status.busy": "2022-09-09T13:45:52.184496Z",
          "iopub.execute_input": "2022-09-09T13:45:52.184994Z",
          "iopub.status.idle": "2022-09-09T13:45:52.194726Z",
          "shell.execute_reply.started": "2022-09-09T13:45:52.184954Z",
          "shell.execute_reply": "2022-09-09T13:45:52.193121Z"
        },
        "trusted": true,
        "colab": {
          "base_uri": "https://localhost:8080/"
        },
        "id": "LROysJn9guAw",
        "outputId": "4e192531-bbc9-41f2-b51f-280cd018cbc7"
      },
      "execution_count": 30,
      "outputs": [
        {
          "output_type": "execute_result",
          "data": {
            "text/plain": [
              "((0.0, 0.0), (0.0, 0.0))"
            ]
          },
          "metadata": {},
          "execution_count": 30
        }
      ]
    },
    {
      "cell_type": "code",
      "source": [
        " "
      ],
      "metadata": {
        "id": "fhWxMmaeguAx"
      },
      "execution_count": null,
      "outputs": []
    }
  ]
}