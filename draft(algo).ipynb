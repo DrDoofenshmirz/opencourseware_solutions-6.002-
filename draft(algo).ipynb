{
  "nbformat": 4,
  "nbformat_minor": 0,
  "metadata": {
    "colab": {
      "name": "draft(algo)",
      "provenance": []
    },
    "kernelspec": {
      "name": "python3",
      "display_name": "Python 3"
    },
    "language_info": {
      "name": "python"
    }
  },
  "cells": [
    {
      "cell_type": "code",
      "source": [
        "class Food(object):\n",
        "  def __init__(self,name,value,weight):\n",
        "    self.name = name\n",
        "    self.value = value \n",
        "    self.calories = weight \n",
        "  def getValue(self):\n",
        "    return self.value\n",
        "  def getCost(self):\n",
        "    return self.calories\n",
        "  def density(self):\n",
        "    return self.getValue()/self.getCost()\n",
        "  def __str__(self):\n",
        "    return self.name + ':<' + str(self.value) + \",\" + str(self.calories) + '>'"
      ],
      "metadata": {
        "id": "AiCAUTvHGVxI"
      },
      "execution_count": 34,
      "outputs": []
    },
    {
      "cell_type": "code",
      "source": [
        "names = ['wine', 'beer', 'pizza', 'burger', 'fries',\n",
        "         'cola', 'apple', 'donut', 'cake']\n",
        "values = [89,90,95,100,90,79,50,10]\n",
        "calories = [123,154,258,354,365,150,95,195]"
      ],
      "metadata": {
        "id": "cGsRbkHH6QnT"
      },
      "execution_count": 35,
      "outputs": []
    },
    {
      "cell_type": "code",
      "source": [
        "def buildmenu(names,values,calories):\n",
        "  menu = []\n",
        "  for i in range(len(values)):\n",
        "    menu.append(Food(names[i],values[i],calories[i]))\n",
        "  return menu "
      ],
      "metadata": {
        "id": "8Qid7YYI6iTL"
      },
      "execution_count": 36,
      "outputs": []
    },
    {
      "cell_type": "code",
      "source": [
        "def greedy(list,max,f):\n",
        "  List = sorted(list,key = f , reverse = True)\n",
        "  result = []\n",
        "  cost , value = 0, 0 \n",
        "  for i in range(len(List)):\n",
        "    if (cost + List[i].getCost()) < max:\n",
        "      result.append(List[i])\n",
        "      cost += List[i].getCost()\n",
        "      value += List[i].getValue()\n",
        "  return value,result"
      ],
      "metadata": {
        "id": "W5WjOV827k_0"
      },
      "execution_count": 37,
      "outputs": []
    },
    {
      "cell_type": "code",
      "source": [
        "def greedy(items, maxCost, keyFunction):\n",
        "  itemsCopy = sorted(items, key = keyFunction,\n",
        "                     reverse = True)\n",
        "  result = []\n",
        "  totalValue, totalCost = 0.0, 0.0\n",
        "  for i in range(len(itemsCopy)):\n",
        "    if (totalCost+itemsCopy[i].getCost()) <= maxCost:\n",
        "      result.append(itemsCopy[i])\n",
        "      totalCost += itemsCopy[i].getCost()\n",
        "      totalValue += itemsCopy[i].getValue()\n",
        "  return (result, totalValue) "
      ],
      "metadata": {
        "id": "ZiVLmbOC9zNY"
      },
      "execution_count": 38,
      "outputs": []
    },
    {
      "cell_type": "code",
      "source": [
        "\n",
        "class Food(object):\n",
        "    def __init__(self, n, v, w):\n",
        "        self.name = n\n",
        "        self.value = v\n",
        "        self.calories = w\n",
        "    def getValue(self):\n",
        "        return self.value\n",
        "    def getCost(self):\n",
        "        return self.calories\n",
        "    def density(self):\n",
        "        return self.getValue()/self.getCost()\n",
        "    def __str__(self):\n",
        "        return self.name + ': <' + str(self.value)\\\n",
        "                 + ', ' + str(self.calories) + '>'\n",
        "\n",
        "def buildMenu(names, values, calories):\n",
        "    \"\"\"names, values, calories lists of same length.\n",
        "       name a list of strings\n",
        "       values and calories lists of numbers\n",
        "       returns list of Foods\"\"\"\n",
        "    menu = []\n",
        "    for i in range(len(values)):\n",
        "        menu.append(Food(names[i], values[i],\n",
        "                          calories[i]))\n",
        "    return menu\n",
        "\n",
        "def greedy(items, maxCost, keyFunction):\n",
        "    \"\"\"Assumes items a list, maxCost >= 0,\n",
        "         keyFunction maps elements of items to numbers\"\"\"\n",
        "    itemsCopy = sorted(items, key = keyFunction,\n",
        "                       reverse = True)\n",
        "    result = []\n",
        "    totalValue, totalCost = 0.0, 0.0\n",
        "    for i in range(len(itemsCopy)):\n",
        "        if (totalCost+itemsCopy[i].getCost()) <= maxCost:\n",
        "            result.append(itemsCopy[i])\n",
        "            totalCost += itemsCopy[i].getCost()\n",
        "            totalValue += itemsCopy[i].getValue()\n",
        "    return (result, totalValue)\n",
        "\n",
        "def testGreedy(items, constraint, keyFunction):\n",
        "    taken, val = greedy(items, constraint, keyFunction)\n",
        "    print('Total value of items taken =', val)\n",
        "    for item in taken:\n",
        "        print('   ', item)\n",
        "\n",
        "def testGreedys(foods, maxUnits):\n",
        "    print('Use greedy by value to allocate', maxUnits,\n",
        "          'calories')\n",
        "    testGreedy(foods, maxUnits, Food.getValue)\n",
        "    print('\\nUse greedy by cost to allocate', maxUnits,\n",
        "          'calories')\n",
        "    testGreedy(foods, maxUnits,\n",
        "               lambda x: 1/Food.getCost(x))\n",
        "    print('\\nUse greedy by density to allocate', maxUnits,\n",
        "          'calories')\n",
        "    testGreedy(foods, maxUnits, Food.density)\n"
      ],
      "metadata": {
        "id": "3O-6_ZW1n_yc"
      },
      "execution_count": 39,
      "outputs": []
    },
    {
      "cell_type": "code",
      "source": [
        "names = ['wine', 'beer', 'pizza', 'burger', 'fries',\n",
        "         'cola', 'apple', 'donut', 'cake']\n",
        "values = [89,90,95,100,90,79,50,10]\n",
        "calories = [123,154,258,354,365,150,95,195]\n",
        "foods = buildMenu(names, values, calories)\n",
        "testGreedys(foods, 800)"
      ],
      "metadata": {
        "colab": {
          "base_uri": "https://localhost:8080/"
        },
        "id": "UOGa-ImZof3V",
        "outputId": "bed34d20-9a82-4286-d02e-3766f142994c"
      },
      "execution_count": 40,
      "outputs": [
        {
          "output_type": "stream",
          "name": "stdout",
          "text": [
            "Use greedy by value to allocate 800 calories\n",
            "Total value of items taken = 285.0\n",
            "    burger: <100, 354>\n",
            "    pizza: <95, 258>\n",
            "    beer: <90, 154>\n",
            "\n",
            "Use greedy by cost to allocate 800 calories\n",
            "Total value of items taken = 318.0\n",
            "    apple: <50, 95>\n",
            "    wine: <89, 123>\n",
            "    cola: <79, 150>\n",
            "    beer: <90, 154>\n",
            "    donut: <10, 195>\n",
            "\n",
            "Use greedy by density to allocate 800 calories\n",
            "Total value of items taken = 403.0\n",
            "    wine: <89, 123>\n",
            "    beer: <90, 154>\n",
            "    cola: <79, 150>\n",
            "    apple: <50, 95>\n",
            "    pizza: <95, 258>\n"
          ]
        }
      ]
    },
    {
      "cell_type": "code",
      "source": [
        "def maxVal(List,avail):\n",
        "  if List == [] or avail == 0 :\n",
        "    return (0 , ())\n",
        "  elif List[0].getCost() > avail :\n",
        "    return maxselect(List[1:],avail)\n",
        "  else:\n",
        "    item_to_consider = List[0]\n",
        "    with1,with2 = maxselect(List[1:],avail - item_to_consider.getCost())\n",
        "    not1,not2 = maxselect(List[1:],avail)\n",
        "    with1 += item_to_consider.getValue()\n",
        "    if with1 >  not1 :\n",
        "      result = (with1,with2 + (item_to_consider,))\n",
        "    else:\n",
        "      result = (not1,not2)\n",
        "    return result "
      ],
      "metadata": {
        "id": "v6j_JtgeojRA"
      },
      "execution_count": 41,
      "outputs": []
    },
    {
      "cell_type": "code",
      "source": [
        "def fastfib(n , memo = {}):\n",
        "  if n == 1 or n == 0 :\n",
        "    return 1 \n",
        "  try:\n",
        "    return memo[n]\n",
        "  except KeyError:\n",
        "    result = fastfib(n-2,memo) + fastfib(n - 1 , memo )\n",
        "    memo[n] = result\n",
        "    return result\n",
        "def fib(n):\n",
        "  if n == 1 or n == 0 :\n",
        "    return 1\n",
        "  else:\n",
        "    return fib(n-2) + fib(n -1)"
      ],
      "metadata": {
        "id": "amq7RroVR0TC"
      },
      "execution_count": 42,
      "outputs": []
    },
    {
      "cell_type": "code",
      "source": [
        "def fastMaxVal(toConsider, avail, memo = {}):\n",
        "    if (len(toConsider), avail) in memo:\n",
        "        result = memo[(len(toConsider), avail)]\n",
        "    elif toConsider == [] or avail == 0:\n",
        "        result = (0, ())\n",
        "    elif toConsider[0].getCost() > avail:\n",
        "        result = fastMaxVal(toConsider[1:], avail, memo)\n",
        "    else:\n",
        "        nextItem = toConsider[0]\n",
        "        withVal, withToTake =fastMaxVal(toConsider[1:],avail - nextItem.getCost(), memo)\n",
        "        withVal += nextItem.getValue()\n",
        "        withoutVal, withoutToTake = fastMaxVal(toConsider[1:], avail, memo)\n",
        "        if withVal > withoutVal:\n",
        "            result = (withVal, withToTake + (nextItem,))\n",
        "        else:\n",
        "            result = (withoutVal, withoutToTake)\n",
        "    memo[(len(toConsider), avail)] = result\n",
        "    return result"
      ],
      "metadata": {
        "id": "0_vwXhhFV9gA"
      },
      "execution_count": 43,
      "outputs": []
    },
    {
      "cell_type": "code",
      "source": [
        "import random\n",
        "\n",
        "def buildLargeMenu(numItems, maxVal, maxCost):\n",
        "    items = []\n",
        "    for i in range(numItems):\n",
        "        items.append(Food(str(i), random.randint(1, maxVal),random.randint(1, maxCost)))\n",
        "    return items\n",
        "\n",
        "for numItems in (5, 10, 15, 20, 25, 30, 35, 40, 45):\n",
        "  print('Try a menu with', numItems, 'items')\n",
        "  items = buildLargeMenu(numItems, 90, 250)\n",
        "\n"
      ],
      "metadata": {
        "colab": {
          "base_uri": "https://localhost:8080/"
        },
        "id": "QrcSUPHjaNml",
        "outputId": "11668cb5-13b3-44c3-ce61-5de9063643ad"
      },
      "execution_count": 44,
      "outputs": [
        {
          "output_type": "stream",
          "name": "stdout",
          "text": [
            "Try a menu with 5 items\n",
            "Try a menu with 10 items\n",
            "Try a menu with 15 items\n",
            "Try a menu with 20 items\n",
            "Try a menu with 25 items\n",
            "Try a menu with 30 items\n",
            "Try a menu with 35 items\n",
            "Try a menu with 40 items\n",
            "Try a menu with 45 items\n"
          ]
        }
      ]
    },
    {
      "cell_type": "code",
      "source": [
        "def testMaxVal(foods, maxUnits, printItems = True):\n",
        "    print('Use search tree to allocate', maxUnits,\n",
        "          'calories')\n",
        "    val, taken = maxVal(foods, maxUnits)\n",
        "    print('Total value of items taken =', val)\n",
        "    if printItems:\n",
        "        for item in taken:\n",
        "            print('   ', item)"
      ],
      "metadata": {
        "id": "22hyYtEgbfYP"
      },
      "execution_count": 45,
      "outputs": []
    },
    {
      "cell_type": "code",
      "source": [
        "def testMaxVal(foods, maxUnits, algorithm, printItems = True):\n",
        "    print('Menu contains', len(foods), 'items')\n",
        "    print('Use search tree to allocate', maxUnits,'calories')\n",
        "    val, taken = algorithm(foods, maxUnits)\n",
        "    if printItems:\n",
        "        print('Total value of items taken =', val)\n",
        "        for item in taken:\n",
        "            print('   ', item)\n",
        "          \n",
        "for numItems in (5, 10, 15, 20, 25, 30, 35, 40, 45, 50):\n",
        "    items = buildLargeMenu(numItems, 90, 250)\n",
        "    testMaxVal(items, 750, fastMaxVal, True)\n"
      ],
      "metadata": {
        "colab": {
          "base_uri": "https://localhost:8080/"
        },
        "id": "zy7zdxK0cKrT",
        "outputId": "3a38683a-2fba-4216-cd48-a3a5a2488a23"
      },
      "execution_count": 46,
      "outputs": [
        {
          "output_type": "stream",
          "name": "stdout",
          "text": [
            "Menu contains 5 items\n",
            "Use search tree to allocate 750 calories\n",
            "Total value of items taken = 240\n",
            "    4: <5, 64>\n",
            "    3: <75, 212>\n",
            "    2: <75, 70>\n",
            "    1: <36, 45>\n",
            "    0: <49, 136>\n",
            "Menu contains 10 items\n",
            "Use search tree to allocate 750 calories\n",
            "Total value of items taken = 484\n",
            "    9: <81, 122>\n",
            "    8: <23, 27>\n",
            "    7: <78, 161>\n",
            "    6: <51, 52>\n",
            "    5: <38, 92>\n",
            "    4: <34, 75>\n",
            "    3: <25, 34>\n",
            "    2: <71, 29>\n",
            "    1: <83, 118>\n",
            "Menu contains 15 items\n",
            "Use search tree to allocate 750 calories\n",
            "Total value of items taken = 508\n",
            "    9: <81, 122>\n",
            "    13: <78, 84>\n",
            "    12: <32, 21>\n",
            "    9: <90, 178>\n",
            "    7: <34, 9>\n",
            "    5: <67, 147>\n",
            "    4: <50, 41>\n",
            "    2: <76, 108>\n",
            "Menu contains 20 items\n",
            "Use search tree to allocate 750 calories\n",
            "Total value of items taken = 596\n",
            "    9: <81, 122>\n",
            "    8: <23, 27>\n",
            "    7: <78, 161>\n",
            "    16: <65, 36>\n",
            "    15: <50, 19>\n",
            "    14: <69, 26>\n",
            "    10: <45, 22>\n",
            "    9: <48, 2>\n",
            "    8: <10, 67>\n",
            "    5: <88, 48>\n",
            "    2: <39, 113>\n",
            "Menu contains 25 items\n",
            "Use search tree to allocate 750 calories\n",
            "Total value of items taken = 802\n",
            "    9: <81, 122>\n",
            "    13: <78, 84>\n",
            "    12: <32, 21>\n",
            "    15: <50, 19>\n",
            "    14: <69, 26>\n",
            "    9: <48, 2>\n",
            "    5: <88, 48>\n",
            "    2: <39, 113>\n",
            "    6: <48, 21>\n",
            "    5: <52, 41>\n",
            "    4: <73, 52>\n",
            "    1: <77, 72>\n",
            "    0: <67, 89>\n",
            "Menu contains 30 items\n",
            "Use search tree to allocate 750 calories\n",
            "Total value of items taken = 916\n",
            "    14: <4, 3>\n",
            "    13: <78, 84>\n",
            "    12: <32, 21>\n",
            "    16: <65, 36>\n",
            "    14: <69, 26>\n",
            "    11: <29, 104>\n",
            "    10: <45, 22>\n",
            "    9: <48, 2>\n",
            "    12: <58, 86>\n",
            "    11: <39, 41>\n",
            "    14: <75, 33>\n",
            "    13: <86, 60>\n",
            "    6: <48, 33>\n",
            "    5: <75, 1>\n",
            "    4: <88, 112>\n",
            "    0: <77, 78>\n",
            "Menu contains 35 items\n",
            "Use search tree to allocate 750 calories\n",
            "Total value of items taken = 927\n",
            "    14: <4, 3>\n",
            "    12: <32, 21>\n",
            "    14: <69, 26>\n",
            "    10: <45, 22>\n",
            "    9: <48, 2>\n",
            "    12: <58, 86>\n",
            "    11: <39, 41>\n",
            "    14: <75, 33>\n",
            "    13: <86, 60>\n",
            "    9: <75, 99>\n",
            "    6: <48, 33>\n",
            "    5: <75, 1>\n",
            "    9: <58, 63>\n",
            "    8: <86, 84>\n",
            "    5: <86, 91>\n",
            "    3: <43, 68>\n",
            "Menu contains 40 items\n",
            "Use search tree to allocate 750 calories\n",
            "Total value of items taken = 1018\n",
            "    14: <4, 3>\n",
            "    13: <78, 84>\n",
            "    12: <32, 21>\n",
            "    10: <72, 134>\n",
            "    14: <69, 26>\n",
            "    10: <45, 22>\n",
            "    9: <48, 2>\n",
            "    5: <88, 48>\n",
            "    13: <86, 60>\n",
            "    12: <45, 83>\n",
            "    15: <88, 18>\n",
            "    14: <69, 19>\n",
            "    12: <76, 10>\n",
            "    10: <58, 41>\n",
            "    7: <69, 126>\n",
            "    3: <62, 51>\n",
            "    1: <29, 1>\n",
            "Menu contains 45 items\n",
            "Use search tree to allocate 750 calories\n",
            "Total value of items taken = 1018\n",
            "    14: <4, 3>\n",
            "    13: <78, 84>\n",
            "    12: <32, 21>\n",
            "    10: <72, 134>\n",
            "    14: <69, 26>\n",
            "    10: <45, 22>\n",
            "    9: <48, 2>\n",
            "    5: <88, 48>\n",
            "    13: <86, 60>\n",
            "    12: <45, 83>\n",
            "    15: <88, 18>\n",
            "    14: <69, 19>\n",
            "    12: <76, 10>\n",
            "    10: <58, 41>\n",
            "    7: <69, 126>\n",
            "    3: <62, 51>\n",
            "    1: <29, 1>\n",
            "Menu contains 50 items\n",
            "Use search tree to allocate 750 calories\n",
            "Total value of items taken = 1148\n",
            "    14: <4, 3>\n",
            "    13: <78, 84>\n",
            "    12: <32, 21>\n",
            "    15: <50, 19>\n",
            "    14: <69, 26>\n",
            "    10: <45, 22>\n",
            "    9: <48, 2>\n",
            "    12: <58, 86>\n",
            "    11: <39, 41>\n",
            "    15: <34, 58>\n",
            "    14: <75, 33>\n",
            "    15: <88, 18>\n",
            "    12: <76, 10>\n",
            "    9: <58, 63>\n",
            "    20: <83, 48>\n",
            "    15: <48, 15>\n",
            "    12: <78, 41>\n",
            "    10: <71, 51>\n",
            "    8: <60, 7>\n",
            "    3: <54, 83>\n"
          ]
        }
      ]
    },
    {
      "cell_type": "markdown",
      "source": [
        "Roll over optimization test run"
      ],
      "metadata": {
        "id": "Z81GLGP2URoE"
      }
    },
    {
      "cell_type": "code",
      "source": [
        "def get_permutations(word):\n",
        "  if len(word)==1:\n",
        "    return word\n",
        "  else:\n",
        "    perms = get_permutations(word[1:])\n",
        "    char = word[0]\n",
        "    result = []\n",
        "    for perm in perms:\n",
        "      for i in range(len(perm)+1):\n",
        "        result.append(perm[:i]+char+perm[i:])\n",
        "    return result"
      ],
      "metadata": {
        "id": "jwjyivEXcsrd"
      },
      "execution_count": 47,
      "outputs": []
    },
    {
      "cell_type": "markdown",
      "source": [
        "Brute force method."
      ],
      "metadata": {
        "id": "Pe7UaRwxAjTg"
      }
    },
    {
      "cell_type": "code",
      "source": [
        "dict = {}\n",
        "dict['a'] = 0\n",
        "dict['b']=0\n",
        "dict['c'] = 10\n",
        "dict['d'] = 0\n",
        "dict['e'] = 0\n",
        "draft = get_permutations('abcde')\n",
        "res = []\n",
        "for i in draft:\n",
        "  new = []\n",
        "  for j in i :\n",
        "    new.append(dict[j])\n",
        "    res.append(new)\n",
        "result = []\n",
        "for i in res:\n",
        "  if i not in result:\n",
        "    result.append(i)\n",
        "result\n",
        "result.append([0,0,0,0,0])\n",
        "Dict = {}\n",
        "Dict['a'] = 0\n",
        "Dict['b'] = 0\n",
        "Dict['c'] = 10\n",
        "Dict['d'] = 0\n",
        "Dict['e'] = 10\n",
        "Draft = get_permutations('abcde')\n",
        "Res = []\n",
        "for i in Draft:\n",
        "  new = []\n",
        "  for j in i :\n",
        "    new.append(Dict[j])\n",
        "    Res.append(new)\n",
        "Result = []\n",
        "for i in Res:\n",
        "  if i not in Result:\n",
        "    Result.append(i)\n",
        "final_list = result + Result\n"
      ],
      "metadata": {
        "id": "QsOTEWcoUkO2"
      },
      "execution_count": 48,
      "outputs": []
    },
    {
      "cell_type": "markdown",
      "source": [
        "creating a dictionary in which the letters are matched to values of 0 and 10 . Done as I have no clue how to create permutations for a number list but can do so for a string. \n",
        "Then creating a list which has elements of 10 and 0 in all possible arrangments corresponding to permutations of string."
      ],
      "metadata": {
        "id": "uRa1QiLtAz3v"
      }
    },
    {
      "cell_type": "code",
      "source": [
        "def create_dict_list(string,List = []):\n",
        "  for i in final_list:\n",
        "    Dict =  {}\n",
        "    for j,k in zip(i,string) :\n",
        "      Dict[k] = j\n",
        "    List.append(Dict)\n",
        "  return List\n",
        "Dictionary = create_dict_list('abcde')\n",
        "Dictionary\n",
        "\n",
        "\n",
        "   "
      ],
      "metadata": {
        "id": "USbAsR2qvItP",
        "colab": {
          "base_uri": "https://localhost:8080/"
        },
        "outputId": "70207464-2eac-4ff8-b247-a093a41f4ef1"
      },
      "execution_count": 49,
      "outputs": [
        {
          "output_type": "execute_result",
          "data": {
            "text/plain": [
              "[{'a': 0, 'b': 0, 'c': 10, 'd': 0, 'e': 0},\n",
              " {'a': 0, 'b': 10, 'c': 0, 'd': 0, 'e': 0},\n",
              " {'a': 10, 'b': 0, 'c': 0, 'd': 0, 'e': 0},\n",
              " {'a': 0, 'b': 0, 'c': 0, 'd': 10, 'e': 0},\n",
              " {'a': 0, 'b': 0, 'c': 0, 'd': 0, 'e': 10},\n",
              " {'a': 0, 'b': 0, 'c': 0, 'd': 0, 'e': 0},\n",
              " {'a': 0, 'b': 0, 'c': 10, 'd': 0, 'e': 10},\n",
              " {'a': 0, 'b': 10, 'c': 0, 'd': 0, 'e': 10},\n",
              " {'a': 0, 'b': 10, 'c': 0, 'd': 10, 'e': 0},\n",
              " {'a': 10, 'b': 0, 'c': 0, 'd': 0, 'e': 10},\n",
              " {'a': 10, 'b': 0, 'c': 0, 'd': 10, 'e': 0},\n",
              " {'a': 10, 'b': 0, 'c': 10, 'd': 0, 'e': 0},\n",
              " {'a': 0, 'b': 0, 'c': 0, 'd': 10, 'e': 10},\n",
              " {'a': 0, 'b': 0, 'c': 10, 'd': 10, 'e': 0},\n",
              " {'a': 0, 'b': 10, 'c': 10, 'd': 0, 'e': 0},\n",
              " {'a': 10, 'b': 10, 'c': 0, 'd': 0, 'e': 0}]"
            ]
          },
          "metadata": {},
          "execution_count": 49
        }
      ]
    },
    {
      "cell_type": "markdown",
      "source": [
        "Now we have the total number of dictionaries we can have for the possible values of 0 and 10 that the variables 'abcde' can have while obeying the constraint that their sum shall be less than 20.\n"
      ],
      "metadata": {
        "id": "4eSbGzY5BRK5"
      }
    },
    {
      "cell_type": "code",
      "source": [
        "Factor,ps1,ps2,ps3,ps4,ps5  = 1,1,2,3,1,2\n",
        "final = {}\n",
        "for i in Dictionary:\n",
        "  score = (60 - (i['a'] + i['b'] + i['c'] + i['d'] + i['e'])) * Factor  + i['a']*ps1 + i['b']*ps2 + i['c']*ps3 + i['d']*ps4 + i['e']*ps5\n",
        "  final[score] = i \n",
        "final"
      ],
      "metadata": {
        "id": "rm7VP5hV0FSC",
        "colab": {
          "base_uri": "https://localhost:8080/"
        },
        "outputId": "e6d74b00-0dca-41a8-ebf9-d6b6e1893ced"
      },
      "execution_count": 163,
      "outputs": [
        {
          "output_type": "execute_result",
          "data": {
            "text/plain": [
              "{60: {'a': 10, 'b': 0, 'c': 0, 'd': 10, 'e': 0},\n",
              " 70: {'a': 10, 'b': 10, 'c': 0, 'd': 0, 'e': 0},\n",
              " 80: {'a': 0, 'b': 0, 'c': 10, 'd': 10, 'e': 0},\n",
              " 90: {'a': 0, 'b': 10, 'c': 10, 'd': 0, 'e': 0}}"
            ]
          },
          "metadata": {},
          "execution_count": 163
        }
      ]
    },
    {
      "cell_type": "code",
      "source": [
        "Factor,ps1,ps2,ps3,ps4,ps5"
      ],
      "metadata": {
        "colab": {
          "base_uri": "https://localhost:8080/"
        },
        "id": "GOHNYxnn3h9x",
        "outputId": "037f231a-a969-49fa-e3f9-c0e19e747c20"
      },
      "execution_count": 112,
      "outputs": [
        {
          "output_type": "execute_result",
          "data": {
            "text/plain": [
              "(1, 1, 7, 4, 2, 4)"
            ]
          },
          "metadata": {},
          "execution_count": 112
        }
      ]
    },
    {
      "cell_type": "markdown",
      "source": [
        "test  run : optimization method trial "
      ],
      "metadata": {
        "id": "QvKrU2GD-6-A"
      }
    },
    {
      "cell_type": "code",
      "source": [
        "class variable(object):\n",
        "    def __init__(self, name , value):\n",
        "        self.name = name\n",
        "        self.value = value\n",
        "    def getname(self) :\n",
        "        return self.name\n",
        "    def getValue(self):\n",
        "        return self.value\n",
        "    def __str__(self):\n",
        "        return 'name:' + str(self.name) + '; value : ' + str(self.value) \n",
        "\n",
        "\n",
        "A = variable('A',10)\n",
        "B = variable('B',10)\n",
        "C = variable('C',10)\n",
        "D = variable('D',10)\n",
        "E = variable('E',10)\n",
        "x = [A,B,C,D,E]\n",
        "F,c1,c2,c3,c4,c5 = 1,1,2,3,1,2\n",
        "constants = [c1,c2,c3,c4,c5]\n"
      ],
      "metadata": {
        "id": "Pr9OQK6Gy0X4"
      },
      "execution_count": 164,
      "outputs": []
    },
    {
      "cell_type": "code",
      "source": [
        "for i in [A,B,C,D,E]:\n",
        "  print(i)"
      ],
      "metadata": {
        "colab": {
          "base_uri": "https://localhost:8080/"
        },
        "id": "MSuRaTqpjUBc",
        "outputId": "fa0d1d07-8e25-426f-bc75-d917af6e156d"
      },
      "execution_count": 165,
      "outputs": [
        {
          "output_type": "stream",
          "name": "stdout",
          "text": [
            "name:A; value : 10\n",
            "name:B; value : 10\n",
            "name:C; value : 10\n",
            "name:D; value : 10\n",
            "name:E; value : 10\n"
          ]
        }
      ]
    },
    {
      "cell_type": "code",
      "source": [
        "def Dict(variable,constants,F):\n",
        "  dict = {}\n",
        "  dict['F'] = F \n",
        "  for i,j in zip(variable,constants):\n",
        "    dict[i.getname()] = j \n",
        "  return dict "
      ],
      "metadata": {
        "id": "n4tvej68BgAE"
      },
      "execution_count": 166,
      "outputs": []
    },
    {
      "cell_type": "code",
      "source": [
        "ref_dict = Dict([A,B,C,D,E],constants,F)\n",
        "ref_dict"
      ],
      "metadata": {
        "colab": {
          "base_uri": "https://localhost:8080/"
        },
        "id": "Jro3Y8IKmtL1",
        "outputId": "ab623c5c-7429-48fd-d1da-4c5ffa6c8fcc"
      },
      "execution_count": 167,
      "outputs": [
        {
          "output_type": "execute_result",
          "data": {
            "text/plain": [
              "{'A': 1, 'B': 2, 'C': 3, 'D': 1, 'E': 2, 'F': 1}"
            ]
          },
          "metadata": {},
          "execution_count": 167
        }
      ]
    },
    {
      "cell_type": "markdown",
      "source": [
        "Pair score : the score of  the expression when only two variables are present ,i.e, have a value of 10."
      ],
      "metadata": {
        "id": "21D4vnpTCYp-"
      }
    },
    {
      "cell_type": "code",
      "source": [
        "def pair_score(List,dict):\n",
        "  res,Res = 0,0\n",
        "  for i in List:\n",
        "    j = i.getValue() * dict[i.getname()]\n",
        "    res +=  j \n",
        "  for i in List:\n",
        "    j = i.getValue()\n",
        "    Res += j \n",
        "  score = (60 - Res) * dict['F']\n",
        "  final_score = score  + res\n",
        "  return final_score\n",
        "\n",
        "\n",
        "  "
      ],
      "metadata": {
        "id": "-dl7xa4Rre-t"
      },
      "execution_count": 168,
      "outputs": []
    },
    {
      "cell_type": "code",
      "source": [
        "pair_score([C,B],ref_dict)"
      ],
      "metadata": {
        "colab": {
          "base_uri": "https://localhost:8080/"
        },
        "id": "VHpM1yGiuXQg",
        "outputId": "3d27bf1b-0cd5-4d15-80ad-744541da0655"
      },
      "execution_count": 169,
      "outputs": [
        {
          "output_type": "execute_result",
          "data": {
            "text/plain": [
              "90"
            ]
          },
          "metadata": {},
          "execution_count": 169
        }
      ]
    },
    {
      "cell_type": "code",
      "source": [
        "def individual_score(var,dict):\n",
        "  res = dict[var.getname()] * var.getValue()\n",
        "  Res = (60 - var.getValue()) * dict['F']\n",
        "  score = Res + res\n",
        "  return score"
      ],
      "metadata": {
        "id": "IZxcThDNqBkV"
      },
      "execution_count": 90,
      "outputs": []
    },
    {
      "cell_type": "markdown",
      "source": [
        "individual_score was used in trial_f.\n",
        "This code does work for positive values of constants .\n",
        "While the code will give the variables that should have a value of 10 to maximize the score , it doesnt actually show the effective score itself ."
      ],
      "metadata": {
        "id": "vZFCx3xaCw3X"
      }
    },
    {
      "cell_type": "code",
      "source": [
        "def trial_f(List,avail,dict):\n",
        "  if List == [] or avail ==  0:\n",
        "    return (0,())\n",
        "  else: \n",
        "    considered = List[0]\n",
        "    with1,with2 = trial_f(List[1:],avail - considered.getValue(),dict)\n",
        "    not1,not2 = trial_f(List[1:],avail,dict)\n",
        "    with1 += individual_score(considered,ref_dict)\n",
        "    if with1 < 60 * dict['F'] and not1 < 60  * dict['F'] : \n",
        "      return (0,())\n",
        "    elif with1>not1:\n",
        "      result =(with1,with2 + (considered.getname(),))\n",
        "    else:\n",
        "      result = (not1,not2)\n",
        "    return result"
      ],
      "metadata": {
        "id": "gZaPQQaVox5V"
      },
      "execution_count": 91,
      "outputs": []
    },
    {
      "cell_type": "code",
      "source": [
        "trial_f([A,B,C,D,E],20,ref_dict)"
      ],
      "metadata": {
        "colab": {
          "base_uri": "https://localhost:8080/"
        },
        "id": "35g4yA_ntR92",
        "outputId": "b356f2cf-b99d-4470-dcc8-a7bdefc762a5"
      },
      "execution_count": 170,
      "outputs": [
        {
          "output_type": "execute_result",
          "data": {
            "text/plain": [
              "(150, ('E', 'C'))"
            ]
          },
          "metadata": {},
          "execution_count": 170
        }
      ]
    },
    {
      "cell_type": "markdown",
      "source": [
        "test function is the effective solution to this optimization problem that accounts for all possibilities of inputs and gives the best solution corresponding to brute force results.\n",
        "It can show the effective score and even work for negative input of constants "
      ],
      "metadata": {
        "id": "N00FCZN5DG3j"
      }
    },
    {
      "cell_type": "code",
      "source": [
        "def test(List,avail ,dict):\n",
        "  if List ==[] or avail == 0 :\n",
        "    return (0,[])\n",
        "  else:\n",
        "    considered = List[0]\n",
        "    with1,with2 = test(List[1:],avail - considered.getValue(),dict)\n",
        "    not1,not2 = test(List[1:],avail,dict)\n",
        "    pairedval,pairs = (pair_score(with2 + [considered],dict),with2 + [considered])\n",
        "    default = 60 * dict['F']\n",
        "    if(default>with1 and default>not1) and default>pairedval:\n",
        "      return (default,[])\n",
        "    if with1 > not1 and with1 > pairedval:\n",
        "      return with1,with2\n",
        "    elif not1>with1 and not1 > pairedval:\n",
        "      return not1,not2\n",
        "    else:\n",
        "      return pairedval,pairs\n",
        "    "
      ],
      "metadata": {
        "id": "ehDOuZ1VtaJx"
      },
      "execution_count": 171,
      "outputs": []
    },
    {
      "cell_type": "code",
      "source": [
        "x = test([A,B,C,D,E],20,ref_dict)\n",
        "test([A,B,C,D,E],20,ref_dict)\n"
      ],
      "metadata": {
        "colab": {
          "base_uri": "https://localhost:8080/"
        },
        "id": "UixJgoXpz9Ok",
        "outputId": "1368bc60-880a-4934-f3f7-6568b31a5bf2"
      },
      "execution_count": 173,
      "outputs": [
        {
          "output_type": "execute_result",
          "data": {
            "text/plain": [
              "(90,\n",
              " [<__main__.variable at 0x7fe50f522ad0>,\n",
              "  <__main__.variable at 0x7fe50f522790>])"
            ]
          },
          "metadata": {},
          "execution_count": 173
        }
      ]
    },
    {
      "cell_type": "code",
      "source": [
        "for i in x[1]:\n",
        "  print(i.getname())"
      ],
      "metadata": {
        "colab": {
          "base_uri": "https://localhost:8080/"
        },
        "id": "qgLiLKM59WC0",
        "outputId": "f2e5b295-bc13-4b89-cdfd-b09fe04339b2"
      },
      "execution_count": 174,
      "outputs": [
        {
          "output_type": "stream",
          "name": "stdout",
          "text": [
            "C\n",
            "B\n"
          ]
        }
      ]
    }
  ]
}