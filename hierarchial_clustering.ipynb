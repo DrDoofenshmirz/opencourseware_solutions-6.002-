{
  "metadata": {
    "kernelspec": {
      "language": "python",
      "display_name": "Python 3",
      "name": "python3"
    },
    "language_info": {
      "name": "python",
      "version": "3.7.12",
      "mimetype": "text/x-python",
      "codemirror_mode": {
        "name": "ipython",
        "version": 3
      },
      "pygments_lexer": "ipython3",
      "nbconvert_exporter": "python",
      "file_extension": ".py"
    },
    "colab": {
      "name": "hierarchial-clustering.ipynb",
      "provenance": []
    }
  },
  "nbformat_minor": 0,
  "nbformat": 4,
  "cells": [
    {
      "cell_type": "code",
      "source": [
        "class Points(object):\n",
        "    def __init__(self,name,points):\n",
        "        self.name = name \n",
        "        self.location  = points\n",
        "    def get_name(self):\n",
        "        return self.name \n",
        "    def get_location(self):\n",
        "        return self.location \n",
        "    def __str__(self):\n",
        "        return str(self.name) + ' :   '+str(self.location)"
      ],
      "metadata": {
        "execution": {
          "iopub.status.busy": "2022-08-27T07:10:23.513657Z",
          "iopub.execute_input": "2022-08-27T07:10:23.514953Z",
          "iopub.status.idle": "2022-08-27T07:10:23.521167Z",
          "shell.execute_reply.started": "2022-08-27T07:10:23.514907Z",
          "shell.execute_reply": "2022-08-27T07:10:23.520132Z"
        },
        "trusted": true,
        "id": "igAseQl-yAvx"
      },
      "execution_count": 1,
      "outputs": []
    },
    {
      "cell_type": "code",
      "source": [
        "import random,pylab\n",
        "import numpy as np\n",
        "import matplotlib.pyplot as plt\n",
        "points,X,Y = [],[],[]\n",
        "for i in range(6):\n",
        "    x=random.random()\n",
        "    y = random.random()\n",
        "    X.append(x)\n",
        "    Y.append(y)\n",
        "    points.append((x,y))\n",
        "data,annotations = [] , []\n",
        "for i in range(len(points)):\n",
        "    data.append(Points(\"P \"+ str(i),points[i])) \n",
        "for i in data:\n",
        "    annotations.append(str(i.get_name()))\n",
        "plt.figure(figsize=(8,6))\n",
        "plt.scatter(X,Y,s=100,color=\"blue\")\n",
        "plt.xlabel(\"X\")\n",
        "plt.ylabel(\"Y\")\n",
        "plt.title(\"Scatter Plot with annotations\",fontsize=20)\n",
        "for i, label in enumerate(annotations):\n",
        "    plt.annotate(label, (X[i], Y[i]))\n",
        "\n",
        "plt.show()\n"
      ],
      "metadata": {
        "execution": {
          "iopub.status.busy": "2022-08-27T10:00:56.746469Z",
          "iopub.execute_input": "2022-08-27T10:00:56.748027Z",
          "iopub.status.idle": "2022-08-27T10:00:57.046720Z",
          "shell.execute_reply.started": "2022-08-27T10:00:56.747964Z",
          "shell.execute_reply": "2022-08-27T10:00:57.045313Z"
        },
        "trusted": true,
        "colab": {
          "base_uri": "https://localhost:8080/",
          "height": 409
        },
        "id": "0t4E_yLfyAwA",
        "outputId": "fae609e5-d97f-4219-a6ea-e59cc29c294b"
      },
      "execution_count": 44,
      "outputs": [
        {
          "output_type": "display_data",
          "data": {
            "text/plain": [
              "<Figure size 576x432 with 1 Axes>"
            ],
            "image/png": "[encoded data removed]"
          },
          "metadata": {
            "needs_background": "light"
          }
        }
      ]
    },
    {
      "cell_type": "code",
      "source": [
        "class Cluster(object):\n",
        "    def __init__(self,members,name = None ):\n",
        "        self.name = name \n",
        "        self.members = members \n",
        "    def get_name(self):\n",
        "        return self.name \n",
        "    def get_members(self):\n",
        "        return self.members\n",
        "    def see_data(self):\n",
        "        print(self.name)\n",
        "        for i in self.members:\n",
        "            print(i)\n",
        "\n",
        "            "
      ],
      "metadata": {
        "execution": {
          "iopub.status.busy": "2022-08-27T09:57:27.288576Z",
          "iopub.execute_input": "2022-08-27T09:57:27.289331Z",
          "iopub.status.idle": "2022-08-27T09:57:27.297412Z",
          "shell.execute_reply.started": "2022-08-27T09:57:27.289276Z",
          "shell.execute_reply": "2022-08-27T09:57:27.296097Z"
        },
        "trusted": true,
        "id": "SU24tX4byAwD"
      },
      "execution_count": 3,
      "outputs": []
    },
    {
      "cell_type": "code",
      "source": [
        "def euclidian_distance(a,b):\n",
        "    x = a.get_location()\n",
        "    y  = b.get_location()\n",
        "    distance = 0 \n",
        "    for (i,j) in zip(x,y):\n",
        "        distance += (i-j)**2\n",
        "    return distance **(0.5)\n",
        "    "
      ],
      "metadata": {
        "execution": {
          "iopub.status.busy": "2022-08-27T09:57:38.379543Z",
          "iopub.execute_input": "2022-08-27T09:57:38.380311Z",
          "iopub.status.idle": "2022-08-27T09:57:38.388525Z",
          "shell.execute_reply.started": "2022-08-27T09:57:38.380260Z",
          "shell.execute_reply": "2022-08-27T09:57:38.386685Z"
        },
        "trusted": true,
        "id": "bdEtlI3wyAwF"
      },
      "execution_count": 4,
      "outputs": []
    },
    {
      "cell_type": "code",
      "source": [
        "euclidian_distance(data[0],data[1])"
      ],
      "metadata": {
        "execution": {
          "iopub.status.busy": "2022-08-27T09:57:42.463030Z",
          "iopub.execute_input": "2022-08-27T09:57:42.463471Z",
          "iopub.status.idle": "2022-08-27T09:57:42.471826Z",
          "shell.execute_reply.started": "2022-08-27T09:57:42.463436Z",
          "shell.execute_reply": "2022-08-27T09:57:42.470424Z"
        },
        "trusted": true,
        "colab": {
          "base_uri": "https://localhost:8080/"
        },
        "id": "XiB177rAyAwG",
        "outputId": "9e45e52c-ac58-4c94-acf1-04e95262403e"
      },
      "execution_count": 5,
      "outputs": [
        {
          "output_type": "execute_result",
          "data": {
            "text/plain": [
              "0.4367961000808344"
            ]
          },
          "metadata": {},
          "execution_count": 5
        }
      ]
    },
    {
      "cell_type": "code",
      "source": [
        "distance_matrix = {}\n",
        "for i in data:\n",
        "    for j in data:\n",
        "        if j.get_name()!= i.get_name() :\n",
        "            if (i.get_name(),j.get_name()) and (j.get_name(),i.get_name()) not in distance_matrix:\n",
        "                distance_matrix[(i.get_name(),j.get_name())] = euclidian_distance(i,j)\n",
        "distance_matrix"
      ],
      "metadata": {
        "execution": {
          "iopub.status.busy": "2022-08-27T10:01:03.415171Z",
          "iopub.execute_input": "2022-08-27T10:01:03.416571Z",
          "iopub.status.idle": "2022-08-27T10:01:03.430353Z",
          "shell.execute_reply.started": "2022-08-27T10:01:03.416510Z",
          "shell.execute_reply": "2022-08-27T10:01:03.428802Z"
        },
        "trusted": true,
        "colab": {
          "base_uri": "https://localhost:8080/"
        },
        "id": "O3CECRvVyAwH",
        "outputId": "79c0e153-eaac-4ff5-b541-c65f6655859f"
      },
      "execution_count": 45,
      "outputs": [
        {
          "output_type": "execute_result",
          "data": {
            "text/plain": [
              "{('P 0', 'P 1'): 0.726743956843796,\n",
              " ('P 0', 'P 2'): 0.45589159058822976,\n",
              " ('P 0', 'P 3'): 0.44594676262115585,\n",
              " ('P 0', 'P 4'): 0.9157621190366831,\n",
              " ('P 0', 'P 5'): 0.9115292412589038,\n",
              " ('P 1', 'P 2'): 0.9503685767040593,\n",
              " ('P 1', 'P 3'): 0.7988209425936862,\n",
              " ('P 1', 'P 4'): 0.1894278621784942,\n",
              " ('P 1', 'P 5'): 0.5965490643372868,\n",
              " ('P 2', 'P 3'): 0.1762094838859506,\n",
              " ('P 2', 'P 4'): 1.1267030668665161,\n",
              " ('P 2', 'P 5'): 0.8198688217755071,\n",
              " ('P 3', 'P 4'): 0.968408603261781,\n",
              " ('P 3', 'P 5'): 0.6475171298845604,\n",
              " ('P 4', 'P 5'): 0.6497787951709864}"
            ]
          },
          "metadata": {},
          "execution_count": 45
        }
      ]
    },
    {
      "cell_type": "code",
      "source": [
        "def single_linkage(clusterx,clustery):\n",
        "    #ensure to only give cluster objects as inputs\n",
        "    first = clusterx.get_members()\n",
        "    second = clustery.get_members()\n",
        "    try:\n",
        "        shortest = distance_matrix[first[0].get_name(),second[0].get_name()]\n",
        "    except KeyError:\n",
        "        #To account for   the order of names in the  key \n",
        "        shortest = distance_matrix[second[0].get_name(),first[0].get_name()]\n",
        "    #assumes that every cluster is basically a list :\n",
        "    for i in clusterx.get_members():\n",
        "        for j in clustery.get_members():\n",
        "            if i.get_name() != j.get_name():\n",
        "                try:\n",
        "                    distance = distance_matrix[(i.get_name(),j.get_name())]\n",
        "                except KeyError:\n",
        "                    distance = distance_matrix[(j.get_name(),i.get_name())]\n",
        "                if distance < shortest:\n",
        "                    shortest = distance\n",
        "    return shortest\n",
        "            \n",
        "            \n",
        "    "
      ],
      "metadata": {
        "execution": {
          "iopub.status.busy": "2022-08-27T09:57:59.781728Z",
          "iopub.execute_input": "2022-08-27T09:57:59.782142Z",
          "iopub.status.idle": "2022-08-27T09:57:59.791665Z",
          "shell.execute_reply.started": "2022-08-27T09:57:59.782110Z",
          "shell.execute_reply": "2022-08-27T09:57:59.790349Z"
        },
        "trusted": true,
        "id": "sipxIgRuyAwI"
      },
      "execution_count": 7,
      "outputs": []
    },
    {
      "cell_type": "code",
      "source": [
        "def test(data,n_clusters,show = False):\n",
        "    clusters = []\n",
        "    for i in data:\n",
        "        clusters.append(Cluster([i],'Cluster'))\n",
        "    while len(clusters)>n_clusters: \n",
        "        m = clusters[0]\n",
        "        n = clusters[1]\n",
        "        shortest=single_linkage(m,n)\n",
        "        for i in clusters:\n",
        "            for j in clusters:\n",
        "                if i!=j:\n",
        "                    distance = single_linkage(i,j)\n",
        "                    if distance < shortest:\n",
        "                        shortest = distance\n",
        "                        m= i \n",
        "                        n = j\n",
        "        clusters.append(Cluster(m.get_members()+n.get_members(),'Cluster'))\n",
        "        clusters.remove(m)\n",
        "        clusters.remove(n)\n",
        "    if show:\n",
        "        for i in clusters:\n",
        "            i.see_data()\n",
        "    return clusters\n",
        "            \n",
        "                    \n",
        "            \n",
        "        "
      ],
      "metadata": {
        "execution": {
          "iopub.status.busy": "2022-08-27T09:58:02.324675Z",
          "iopub.execute_input": "2022-08-27T09:58:02.325270Z",
          "iopub.status.idle": "2022-08-27T09:58:02.335920Z",
          "shell.execute_reply.started": "2022-08-27T09:58:02.325223Z",
          "shell.execute_reply": "2022-08-27T09:58:02.334517Z"
        },
        "trusted": true,
        "id": "GxzHnCzkyAwK"
      },
      "execution_count": 8,
      "outputs": []
    },
    {
      "cell_type": "code",
      "source": [
        "test(data,3,True)"
      ],
      "metadata": {
        "execution": {
          "iopub.status.busy": "2022-08-27T10:02:26.144950Z",
          "iopub.execute_input": "2022-08-27T10:02:26.145479Z",
          "iopub.status.idle": "2022-08-27T10:02:26.154460Z",
          "shell.execute_reply.started": "2022-08-27T10:02:26.145440Z",
          "shell.execute_reply": "2022-08-27T10:02:26.153599Z"
        },
        "trusted": true,
        "colab": {
          "base_uri": "https://localhost:8080/"
        },
        "id": "t8aPglSRyAwQ",
        "outputId": "940974e5-03b8-4338-e797-60f39be9bc91"
      },
      "execution_count": 46,
      "outputs": [
        {
          "output_type": "stream",
          "name": "stdout",
          "text": [
            "Cluster\n",
            "P 5 :   (0.04002353689016469, 0.2396333648675093)\n",
            "Cluster\n",
            "P 1 :   (0.2771827661076983, 0.7870146635603288)\n",
            "P 4 :   (0.1151024984279273, 0.8850600703796611)\n",
            "Cluster\n",
            "P 0 :   (0.9250672021084733, 0.4577692590412453)\n",
            "P 2 :   (0.8277681566457297, 0.012381744486666624)\n",
            "P 3 :   (0.670411639023931, 0.09168312261651779)\n"
          ]
        },
        {
          "output_type": "execute_result",
          "data": {
            "text/plain": [
              "[<__main__.Cluster at 0x7f2c793d4550>,\n",
              " <__main__.Cluster at 0x7f2c793d47d0>,\n",
              " <__main__.Cluster at 0x7f2c784c0510>]"
            ]
          },
          "metadata": {},
          "execution_count": 46
        }
      ]
    },
    {
      "cell_type": "code",
      "source": [],
      "metadata": {
        "id": "rzibh-MMyAwS"
      },
      "execution_count": 9,
      "outputs": []
    }
  ]
}