{
  "nbformat": 4,
  "nbformat_minor": 0,
  "metadata": {
    "colab": {
      "provenance": [],
      "collapsed_sections": []
    },
    "kernelspec": {
      "name": "python3",
      "display_name": "Python 3"
    },
    "language_info": {
      "name": "python"
    }
  },
  "cells": [
    {
      "cell_type": "code",
      "source": [
        "import random\n",
        "x = random.sample(range(20),8)\n",
        "y = [ 3 * i + random.random() for i in x ]\n",
        "N = len(x)"
      ],
      "metadata": {
        "id": "S9lMd_eQcOwm"
      },
      "execution_count": 290,
      "outputs": []
    },
    {
      "cell_type": "code",
      "source": [
        "def mse(predictions,y):\n",
        "  res = 0 \n",
        "  for i,j in zip(predictions,y):\n",
        "    res += (i-j)**2\n",
        "  return res/len(y)"
      ],
      "metadata": {
        "id": "blmX70AzcZ0g"
      },
      "execution_count": 288,
      "outputs": []
    },
    {
      "cell_type": "code",
      "source": [
        "def MSE(predictions,y):\n",
        "  #predictions and y are both arrays\n",
        "  return ((predictions - y )**2).sum()/len(y)"
      ],
      "metadata": {
        "id": "ftOxrMwtxoGb"
      },
      "execution_count": 289,
      "outputs": []
    },
    {
      "cell_type": "code",
      "source": [
        "def draft(x,y,m =1,c=0.1,learning_rate = 0.001,threshold = 0.2):\n",
        "  for i in range(15):\n",
        "    predictions = [ m * i + c for i in x]\n",
        "    dc = -2/N * sum(  [ (i-j) for i,j in zip(y,predictions)])\n",
        "    dm = -2/N * sum(  [ (i-j)*k for i,j,k in zip(y,predictions,x)])\n",
        "    c = c - learning_rate*dc\n",
        "    m = m - learning_rate * dm\n",
        "  return m,c \n"
      ],
      "metadata": {
        "id": "OhKVK79nelvo"
      },
      "execution_count": 293,
      "outputs": []
    },
    {
      "cell_type": "code",
      "source": [
        "predictions = pylab.polyval(draft(x,y),x)"
      ],
      "metadata": {
        "id": "A7leign2x_mC"
      },
      "execution_count": 295,
      "outputs": []
    },
    {
      "cell_type": "code",
      "source": [
        "predictions = pylab.array(predictions )\n",
        "x = pylab.array(x)\n",
        "y = pylab.array(y)"
      ],
      "metadata": {
        "id": "nVTfcDLOyN9A"
      },
      "execution_count": 297,
      "outputs": []
    },
    {
      "cell_type": "code",
      "source": [
        "def draft(x,y,m =1,c=0.1,learning_rate = 0.001,threshold = 0.2):\n",
        "  for i in range(15):\n",
        "    predictions = [ m * i + c for i in x]\n",
        "    dc = -2/N * sum(  [ (i-j) for i,j in zip(y,predictions)])\n",
        "    dm = -2/N * sum(  [ (i-j)*k for i,j,k in zip(y,predictions,x)])\n",
        "    c = c - learning_rate*dc\n",
        "    m = m - learning_rate * dm\n",
        "    print(m,c)\n",
        "  return m,c \n",
        "\n",
        "\n",
        "\n",
        "\n"
      ],
      "metadata": {
        "id": "wKL8d63vemfp"
      },
      "execution_count": 188,
      "outputs": []
    },
    {
      "cell_type": "code",
      "source": [
        "import pylab \n"
      ],
      "metadata": {
        "id": "PQVJwSqkhK6s"
      },
      "execution_count": 190,
      "outputs": []
    },
    {
      "cell_type": "code",
      "source": [
        "def getdata(filename):\n",
        "  distances,forces = [],[]\n",
        "  file = open(filename,'r')\n",
        "  file.readline()\n",
        "  for line in file:\n",
        "    d,m = line.split(' ')\n",
        "    distances.append(float(d))\n",
        "    forces.append(9.81 * float(m))\n",
        "  file.close()\n",
        "  return forces,distances"
      ],
      "metadata": {
        "id": "eiMSsdfBhnw_"
      },
      "execution_count": 193,
      "outputs": []
    },
    {
      "cell_type": "code",
      "source": [
        "x,y = getdata('springData.txt')"
      ],
      "metadata": {
        "id": "cthyT_u8iazZ"
      },
      "execution_count": 316,
      "outputs": []
    },
    {
      "cell_type": "code",
      "source": [
        "pylab.polyfit(x,y,1)"
      ],
      "metadata": {
        "colab": {
          "base_uri": "https://localhost:8080/"
        },
        "id": "SXvGEDSYidA1",
        "outputId": "4b0ead27-781b-4b2d-e760-604ad04af428"
      },
      "execution_count": 270,
      "outputs": [
        {
          "output_type": "execute_result",
          "data": {
            "text/plain": [
              "array([0.04643203, 0.0656286 ])"
            ]
          },
          "metadata": {},
          "execution_count": 270
        }
      ]
    },
    {
      "cell_type": "code",
      "source": [
        "def draft(x,y,m =1,c=0.1,learning_rate = 0.001,threshold = 0.0000000000001):\n",
        "  for i in range(100000):\n",
        "    predictions = [ m * i + c for i in x]\n",
        "    old = mse(predictions,y)\n",
        "    dc = -2/N * sum(  [ (i-j) for i,j in zip(y,predictions)])\n",
        "    dm = -2/N * sum(  [ (i-j)*k for i,j,k in zip(y,predictions,x)])\n",
        "    c = c - learning_rate*dc\n",
        "    m = m - learning_rate * dm  \n",
        "    predictions = [ m * i + c for i in x]\n",
        "    new = mse(predictions,y)\n",
        "    if old - new < threshold:\n",
        "      break \n",
        "  return m,c\n",
        "  "
      ],
      "metadata": {
        "id": "QqT2uP1Wi7X0"
      },
      "execution_count": 268,
      "outputs": []
    },
    {
      "cell_type": "code",
      "source": [
        "def draft(x,y,m =0.1,c=0.1,learning_rate = 0.001,threshold = 0.0000000000001):\n",
        "  predictions =  m * x + c\n",
        "  old = MSE(predictions,y)\n",
        "  for i in range(10000):\n",
        "    dc = -2/N *  (y-predictions).sum()\n",
        "    dm =-2/N * ((y-predictions)*x).sum()\n",
        "    c = c - learning_rate*dc\n",
        "    m = m - learning_rate * dm  \n",
        "    predictions =  m * x + c \n",
        "    new = MSE(predictions,y)\n",
        "    if old - new < threshold:\n",
        "      break \n",
        "    else : \n",
        "      old = new\n",
        "  return m,c"
      ],
      "metadata": {
        "id": "ShcozHwimaJJ"
      },
      "execution_count": 343,
      "outputs": []
    },
    {
      "cell_type": "code",
      "source": [
        "x = pylab.array(x)\n",
        "y = pylab.array(y)\n",
        "draft(x,y)"
      ],
      "metadata": {
        "colab": {
          "base_uri": "https://localhost:8080/"
        },
        "id": "XwGbfQMRuOMp",
        "outputId": "1526e428-3bd6-4efd-9b6f-ad44aa91f842"
      },
      "execution_count": 344,
      "outputs": [
        {
          "output_type": "execute_result",
          "data": {
            "text/plain": [
              "(0.04642957055174604, 0.06564508929497005)"
            ]
          },
          "metadata": {},
          "execution_count": 344
        }
      ]
    },
    {
      "cell_type": "code",
      "source": [
        "import time\n",
        "t = time.time()\n",
        "draft(x,y)\n",
        "print(t - time.time())\n",
        "s = time.time()\n",
        "pylab.polyfit(x,y,1)\n",
        "print(s - time.time())"
      ],
      "metadata": {
        "colab": {
          "base_uri": "https://localhost:8080/"
        },
        "id": "IS_b1ZKcuSxs",
        "outputId": "680a1f52-50ff-42d7-9a3c-bef5eaef61bc"
      },
      "execution_count": 345,
      "outputs": [
        {
          "output_type": "stream",
          "name": "stdout",
          "text": [
            "-0.11951589584350586\n",
            "-0.0003495216369628906\n"
          ]
        }
      ]
    },
    {
      "cell_type": "code",
      "source": [],
      "metadata": {
        "id": "2HzkPVP1uVAV"
      },
      "execution_count": null,
      "outputs": []
    }
  ]
}