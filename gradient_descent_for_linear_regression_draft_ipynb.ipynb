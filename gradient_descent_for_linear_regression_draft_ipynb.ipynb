{
  "nbformat": 4,
  "nbformat_minor": 0,
  "metadata": {
    "colab": {
      "provenance": [],
      "collapsed_sections": []
    },
    "kernelspec": {
      "name": "python3",
      "display_name": "Python 3"
    },
    "language_info": {
      "name": "python"
    }
  },
  "cells": [
    {
      "cell_type": "code",
      "source": [
        "import random,pylab,numpy as np,time\n",
        "x = random.sample(range(20),10)\n",
        "y = [ 90 * i + random.random()*10 for i in x ]\n",
        "x = np.array(x)\n",
        "y = np.array(y)\n",
        "N = len(x)"
      ],
      "metadata": {
        "id": "S9lMd_eQcOwm"
      },
      "execution_count": 71,
      "outputs": []
    },
    {
      "cell_type": "code",
      "source": [
        "\n",
        "x,y"
      ],
      "metadata": {
        "colab": {
          "base_uri": "https://localhost:8080/"
        },
        "id": "RhzI-Ze5ntPU",
        "outputId": "35a4b519-a4b5-4c2b-ab06-d6102059b5f2"
      },
      "execution_count": 72,
      "outputs": [
        {
          "output_type": "execute_result",
          "data": {
            "text/plain": [
              "(array([13, 15,  3,  1,  6, 16, 10, 18,  4,  9]),\n",
              " array([1178.4450585 , 1353.23167489,  272.62563304,   96.88590702,\n",
              "         545.05161438, 1440.82394255,  906.58195416, 1629.41851756,\n",
              "         361.48415004,  815.17430576]))"
            ]
          },
          "metadata": {},
          "execution_count": 72
        }
      ]
    },
    {
      "cell_type": "code",
      "source": [
        "def mse(predictions,y):\n",
        "  res = 0 \n",
        "  for i,j in zip(predictions,y):\n",
        "    res += (i-j)**2\n",
        "  return res/len(y)"
      ],
      "metadata": {
        "id": "blmX70AzcZ0g"
      },
      "execution_count": 20,
      "outputs": []
    },
    {
      "cell_type": "code",
      "source": [
        "def MSE(predictions,y):\n",
        "  #predictions and y are both arrays\n",
        "  return ((predictions - y )**2).sum()/len(y)"
      ],
      "metadata": {
        "id": "ftOxrMwtxoGb"
      },
      "execution_count": 25,
      "outputs": []
    },
    {
      "cell_type": "code",
      "source": [
        "def draft(x,y,m =1,c=0.1,learning_rate = 0.001):\n",
        "  for i in range(1000):\n",
        "    predictions = [ m * i + c for i in x]\n",
        "    dc = -2/N * sum(  [ (i-j) for i,j in zip(y,predictions)])\n",
        "    dm = -2/N * sum(  [ (i-j)*k for i,j,k in zip(y,predictions,x)])\n",
        "    c = c - learning_rate*dc\n",
        "    m = m - learning_rate * dm\n",
        "  return m,c \n"
      ],
      "metadata": {
        "id": "OhKVK79nelvo"
      },
      "execution_count": 40,
      "outputs": []
    },
    {
      "cell_type": "code",
      "source": [
        "\n",
        "draft(x,y),"
      ],
      "metadata": {
        "colab": {
          "base_uri": "https://localhost:8080/"
        },
        "id": "yLSvU0n3qRED",
        "outputId": "128e1d35-6999-4e7e-e329-2394cbd2bce2"
      },
      "execution_count": 73,
      "outputs": [
        {
          "output_type": "execute_result",
          "data": {
            "text/plain": [
              "((89.95923934880281, 5.827518620048117),)"
            ]
          },
          "metadata": {},
          "execution_count": 73
        }
      ]
    },
    {
      "cell_type": "code",
      "source": [
        "\n",
        "def getdata(filename):\n",
        "  distances,forces = [],[]\n",
        "  file = open(filename,'r')\n",
        "  file.readline()\n",
        "  for line in file:\n",
        "    d,m = line.split(' ')\n",
        "    distances.append(float(d))\n",
        "    forces.append(9.81 * float(m))\n",
        "  file.close()\n",
        "  return forces,distances"
      ],
      "metadata": {
        "id": "eiMSsdfBhnw_"
      },
      "execution_count": 55,
      "outputs": []
    },
    {
      "cell_type": "code",
      "source": [
        "# x,y = getdata('springData.txt')\n",
        "x = pylab.array(x)\n",
        "y = pylab.array(y)"
      ],
      "metadata": {
        "id": "cthyT_u8iazZ"
      },
      "execution_count": 74,
      "outputs": []
    },
    {
      "cell_type": "code",
      "source": [
        "pylab.polyfit(x,y,1)"
      ],
      "metadata": {
        "colab": {
          "base_uri": "https://localhost:8080/"
        },
        "id": "SXvGEDSYidA1",
        "outputId": "a62a648d-b908-4691-f7ba-f4b730450e8a"
      },
      "execution_count": 75,
      "outputs": [
        {
          "output_type": "execute_result",
          "data": {
            "text/plain": [
              "array([90.10177573,  4.00540637])"
            ]
          },
          "metadata": {},
          "execution_count": 75
        }
      ]
    },
    {
      "cell_type": "code",
      "source": [
        "def gradient_descent(x,y,m =0,c=0,learning_rate = 0.001):\n",
        "  N = len(x)\n",
        "  tag = 0\n",
        "  for i in range(100000):\n",
        "    predictions =  m * x + c\n",
        "    tag += 1\n",
        "    dc = -2/N *  (y-predictions).sum() * (learning_rate)\n",
        "    dm =-2/N * ((y-predictions)*x).sum() * (learning_rate)\n",
        "    if (dc > -0.0000001 and dc <0.0000001 ) and (dm > -0.0000001 and dm <0.0000001 ):\n",
        "      break \n",
        "    c = c - dc\n",
        "    m = m - dm\n",
        "    #assume that it can  have  both negative and positive values  \n",
        "  print(tag)\n",
        "  return m,c\n"
      ],
      "metadata": {
        "id": "b4Bu3APNaYOY"
      },
      "execution_count": 69,
      "outputs": []
    },
    {
      "cell_type": "code",
      "source": [
        "gradient_descent(x,y)"
      ],
      "metadata": {
        "colab": {
          "base_uri": "https://localhost:8080/"
        },
        "id": "hxeliXlAmbqr",
        "outputId": "99bee842-4354-4bd0-98b5-3a744a8eb9f9"
      },
      "execution_count": 76,
      "outputs": [
        {
          "output_type": "stream",
          "name": "stdout",
          "text": [
            "18784\n"
          ]
        },
        {
          "output_type": "execute_result",
          "data": {
            "text/plain": [
              "(90.10176050876012, 4.005600930513724)"
            ]
          },
          "metadata": {},
          "execution_count": 76
        }
      ]
    },
    {
      "cell_type": "code",
      "source": [
        "import time\n",
        "t = time.time()\n",
        "draft(x,y)\n",
        "print(time.time()-t)\n",
        "s = time.time()\n",
        "pylab.polyfit(x,y,1)\n",
        "print(time.time()-s)\n",
        "j = time.time()\n",
        "gradient_descent(x,y)\n",
        "time.time()-j"
      ],
      "metadata": {
        "colab": {
          "base_uri": "https://localhost:8080/"
        },
        "id": "IS_b1ZKcuSxs",
        "outputId": "f5f525b2-5140-4db9-9929-c4216663ffcc"
      },
      "execution_count": 77,
      "outputs": [
        {
          "output_type": "stream",
          "name": "stdout",
          "text": [
            "0.016381025314331055\n",
            "0.0003521442413330078\n",
            "18784\n"
          ]
        },
        {
          "output_type": "execute_result",
          "data": {
            "text/plain": [
              "0.20021581649780273"
            ]
          },
          "metadata": {},
          "execution_count": 77
        }
      ]
    },
    {
      "cell_type": "code",
      "source": [],
      "metadata": {
        "id": "9FuyOutcnUYF"
      },
      "execution_count": null,
      "outputs": []
    }
  ]
}