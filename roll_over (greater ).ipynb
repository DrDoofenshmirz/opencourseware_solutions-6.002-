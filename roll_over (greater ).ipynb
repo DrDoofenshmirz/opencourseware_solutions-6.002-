{
  "nbformat": 4,
  "nbformat_minor": 0,
  "metadata": {
    "colab": {
      "name": "roll_over (a+b+c+d+e >=20).ipynb",
      "provenance": []
    },
    "kernelspec": {
      "name": "python3",
      "display_name": "Python 3"
    },
    "language_info": {
      "name": "python"
    }
  },
  "cells": [
    {
      "cell_type": "code",
      "execution_count": 2,
      "metadata": {
        "id": "51FeqAKhzYcq"
      },
      "outputs": [],
      "source": [
        "def get_permutations(word):\n",
        "  if len(word)==1:\n",
        "    return word\n",
        "  else:\n",
        "    perms = get_permutations(word[1:])\n",
        "    char = word[0]\n",
        "    result = []\n",
        "    for perm in perms:\n",
        "      for i in range(len(perm)+1):\n",
        "        result.append(perm[:i]+char+perm[i:])\n",
        "    return result"
      ]
    },
    {
      "cell_type": "markdown",
      "source": [
        "permutations  with 2 value having 10 "
      ],
      "metadata": {
        "id": "c7WYieja1Q-4"
      }
    },
    {
      "cell_type": "code",
      "source": [
        "Dict = {}\n",
        "Dict['a'] = 0\n",
        "Dict['b'] = 0\n",
        "Dict['c'] = 10\n",
        "Dict['d'] = 0\n",
        "Dict['e'] = 10\n",
        "Draft = get_permutations('abcde')\n",
        "Res = []\n",
        "for i in Draft:\n",
        "  new = []\n",
        "  for j in i :\n",
        "    new.append(Dict[j])\n",
        "    Res.append(new)\n",
        "Result = []\n",
        "for i in Res:\n",
        "  if i not in Result:\n",
        "    Result.append(i)"
      ],
      "metadata": {
        "id": "oOG_Hq6W05Od"
      },
      "execution_count": 3,
      "outputs": []
    },
    {
      "cell_type": "code",
      "source": [
        "Result"
      ],
      "metadata": {
        "colab": {
          "base_uri": "https://localhost:8080/"
        },
        "id": "72XF_nH_1K0O",
        "outputId": "01e4d267-350d-40e8-bc70-a27abb6b83b5"
      },
      "execution_count": 4,
      "outputs": [
        {
          "output_type": "execute_result",
          "data": {
            "text/plain": [
              "[[0, 0, 10, 0, 10],\n",
              " [0, 10, 0, 0, 10],\n",
              " [0, 10, 0, 10, 0],\n",
              " [10, 0, 0, 0, 10],\n",
              " [10, 0, 0, 10, 0],\n",
              " [10, 0, 10, 0, 0],\n",
              " [0, 0, 0, 10, 10],\n",
              " [0, 0, 10, 10, 0],\n",
              " [0, 10, 10, 0, 0],\n",
              " [10, 10, 0, 0, 0]]"
            ]
          },
          "metadata": {},
          "execution_count": 4
        }
      ]
    },
    {
      "cell_type": "code",
      "source": [
        "Dict = {}\n",
        "Dict['a'] = 0\n",
        "Dict['b'] = 10\n",
        "Dict['c'] = 10\n",
        "Dict['d'] = 0\n",
        "Dict['e'] = 10\n",
        "Draft = get_permutations('abcde')\n",
        "Res = []\n",
        "for i in Draft:\n",
        "  new = []\n",
        "  for j in i :\n",
        "    new.append(Dict[j])\n",
        "    Res.append(new)\n",
        "Result2 = []\n",
        "for i in Res:\n",
        "  if i not in Result2:\n",
        "    Result2.append(i)\n",
        "Result2"
      ],
      "metadata": {
        "colab": {
          "base_uri": "https://localhost:8080/"
        },
        "id": "3U64XMAw1Lv2",
        "outputId": "a2b87623-f25c-4252-d89d-1726bf021c92"
      },
      "execution_count": 5,
      "outputs": [
        {
          "output_type": "execute_result",
          "data": {
            "text/plain": [
              "[[0, 10, 10, 0, 10],\n",
              " [10, 0, 10, 0, 10],\n",
              " [10, 10, 0, 0, 10],\n",
              " [10, 10, 0, 10, 0],\n",
              " [0, 10, 0, 10, 10],\n",
              " [10, 0, 0, 10, 10],\n",
              " [10, 0, 10, 10, 0],\n",
              " [0, 0, 10, 10, 10],\n",
              " [0, 10, 10, 10, 0],\n",
              " [10, 10, 10, 0, 0]]"
            ]
          },
          "metadata": {},
          "execution_count": 5
        }
      ]
    },
    {
      "cell_type": "code",
      "source": [
        "Dict = {}\n",
        "Dict['a'] = 0\n",
        "Dict['b'] = 10\n",
        "Dict['c'] = 10\n",
        "Dict['d'] = 10\n",
        "Dict['e'] = 10\n",
        "Draft = get_permutations('abcde')\n",
        "Res = []\n",
        "for i in Draft:\n",
        "  new = []\n",
        "  for j in i :\n",
        "    new.append(Dict[j])\n",
        "    Res.append(new)\n",
        "Result3 = []\n",
        "for i in Res:\n",
        "  if i not in Result3:\n",
        "    Result3.append(i)\n",
        "Result3"
      ],
      "metadata": {
        "colab": {
          "base_uri": "https://localhost:8080/"
        },
        "id": "WgcVy5Tg1fK-",
        "outputId": "ee617c2b-8259-44e6-f87c-b6d33f35dbd7"
      },
      "execution_count": 6,
      "outputs": [
        {
          "output_type": "execute_result",
          "data": {
            "text/plain": [
              "[[0, 10, 10, 10, 10],\n",
              " [10, 0, 10, 10, 10],\n",
              " [10, 10, 0, 10, 10],\n",
              " [10, 10, 10, 0, 10],\n",
              " [10, 10, 10, 10, 0]]"
            ]
          },
          "metadata": {},
          "execution_count": 6
        }
      ]
    },
    {
      "cell_type": "code",
      "source": [
        "total_possible = Result + Result2 + Result3 \n",
        "total_possible.append([10,10,10,10,10])\n",
        "total_possible"
      ],
      "metadata": {
        "colab": {
          "base_uri": "https://localhost:8080/"
        },
        "id": "zhYGfORU1zmi",
        "outputId": "771e558e-ca77-4f1c-bd54-e25eae64648b"
      },
      "execution_count": 7,
      "outputs": [
        {
          "output_type": "execute_result",
          "data": {
            "text/plain": [
              "[[0, 0, 10, 0, 10],\n",
              " [0, 10, 0, 0, 10],\n",
              " [0, 10, 0, 10, 0],\n",
              " [10, 0, 0, 0, 10],\n",
              " [10, 0, 0, 10, 0],\n",
              " [10, 0, 10, 0, 0],\n",
              " [0, 0, 0, 10, 10],\n",
              " [0, 0, 10, 10, 0],\n",
              " [0, 10, 10, 0, 0],\n",
              " [10, 10, 0, 0, 0],\n",
              " [0, 10, 10, 0, 10],\n",
              " [10, 0, 10, 0, 10],\n",
              " [10, 10, 0, 0, 10],\n",
              " [10, 10, 0, 10, 0],\n",
              " [0, 10, 0, 10, 10],\n",
              " [10, 0, 0, 10, 10],\n",
              " [10, 0, 10, 10, 0],\n",
              " [0, 0, 10, 10, 10],\n",
              " [0, 10, 10, 10, 0],\n",
              " [10, 10, 10, 0, 0],\n",
              " [0, 10, 10, 10, 10],\n",
              " [10, 0, 10, 10, 10],\n",
              " [10, 10, 0, 10, 10],\n",
              " [10, 10, 10, 0, 10],\n",
              " [10, 10, 10, 10, 0],\n",
              " [10, 10, 10, 10, 10]]"
            ]
          },
          "metadata": {},
          "execution_count": 7
        }
      ]
    },
    {
      "cell_type": "code",
      "source": [
        "def create_dict_list(string,List = []):\n",
        "  for i in total_possible:\n",
        "    Dict =  {}\n",
        "    for j,k in zip(i,string) :\n",
        "      Dict[k] = j\n",
        "    List.append(Dict)\n",
        "  return List\n",
        "Dictionary = create_dict_list('abcde')\n",
        "Dictionary\n",
        "\n"
      ],
      "metadata": {
        "colab": {
          "base_uri": "https://localhost:8080/"
        },
        "id": "91wvAKfv2Eqt",
        "outputId": "7b2ec438-930b-442e-903e-4479d3b9dd4b"
      },
      "execution_count": 8,
      "outputs": [
        {
          "output_type": "execute_result",
          "data": {
            "text/plain": [
              "[{'a': 0, 'b': 0, 'c': 10, 'd': 0, 'e': 10},\n",
              " {'a': 0, 'b': 10, 'c': 0, 'd': 0, 'e': 10},\n",
              " {'a': 0, 'b': 10, 'c': 0, 'd': 10, 'e': 0},\n",
              " {'a': 10, 'b': 0, 'c': 0, 'd': 0, 'e': 10},\n",
              " {'a': 10, 'b': 0, 'c': 0, 'd': 10, 'e': 0},\n",
              " {'a': 10, 'b': 0, 'c': 10, 'd': 0, 'e': 0},\n",
              " {'a': 0, 'b': 0, 'c': 0, 'd': 10, 'e': 10},\n",
              " {'a': 0, 'b': 0, 'c': 10, 'd': 10, 'e': 0},\n",
              " {'a': 0, 'b': 10, 'c': 10, 'd': 0, 'e': 0},\n",
              " {'a': 10, 'b': 10, 'c': 0, 'd': 0, 'e': 0},\n",
              " {'a': 0, 'b': 10, 'c': 10, 'd': 0, 'e': 10},\n",
              " {'a': 10, 'b': 0, 'c': 10, 'd': 0, 'e': 10},\n",
              " {'a': 10, 'b': 10, 'c': 0, 'd': 0, 'e': 10},\n",
              " {'a': 10, 'b': 10, 'c': 0, 'd': 10, 'e': 0},\n",
              " {'a': 0, 'b': 10, 'c': 0, 'd': 10, 'e': 10},\n",
              " {'a': 10, 'b': 0, 'c': 0, 'd': 10, 'e': 10},\n",
              " {'a': 10, 'b': 0, 'c': 10, 'd': 10, 'e': 0},\n",
              " {'a': 0, 'b': 0, 'c': 10, 'd': 10, 'e': 10},\n",
              " {'a': 0, 'b': 10, 'c': 10, 'd': 10, 'e': 0},\n",
              " {'a': 10, 'b': 10, 'c': 10, 'd': 0, 'e': 0},\n",
              " {'a': 0, 'b': 10, 'c': 10, 'd': 10, 'e': 10},\n",
              " {'a': 10, 'b': 0, 'c': 10, 'd': 10, 'e': 10},\n",
              " {'a': 10, 'b': 10, 'c': 0, 'd': 10, 'e': 10},\n",
              " {'a': 10, 'b': 10, 'c': 10, 'd': 0, 'e': 10},\n",
              " {'a': 10, 'b': 10, 'c': 10, 'd': 10, 'e': 0},\n",
              " {'a': 10, 'b': 10, 'c': 10, 'd': 10, 'e': 10}]"
            ]
          },
          "metadata": {},
          "execution_count": 8
        }
      ]
    },
    {
      "cell_type": "code",
      "source": [
        "final = {}\n",
        "Factor,ps1,ps2,ps3,ps4,ps5  = 0,2,1,3,4,2\n",
        "for i in Dictionary:\n",
        "  score = (60 - (i['a'] + i['b'] + i['c'] + i['d'] + i['e'])) * Factor  + i['a']*ps1 + i['b']*ps2 + i['c']*ps3 + i['d']*ps4 + i['e']*ps5\n",
        "  final[score] = i \n",
        "final"
      ],
      "metadata": {
        "id": "sV2AkWfM2dYl",
        "colab": {
          "base_uri": "https://localhost:8080/"
        },
        "outputId": "5004c63d-1bcb-4f98-e331-9e335efbc4b4"
      },
      "execution_count": 22,
      "outputs": [
        {
          "output_type": "execute_result",
          "data": {
            "text/plain": [
              "{30: {'a': 10, 'b': 10, 'c': 0, 'd': 0, 'e': 0},\n",
              " 40: {'a': 0, 'b': 10, 'c': 10, 'd': 0, 'e': 0},\n",
              " 50: {'a': 10, 'b': 10, 'c': 0, 'd': 0, 'e': 10},\n",
              " 60: {'a': 10, 'b': 10, 'c': 10, 'd': 0, 'e': 0},\n",
              " 70: {'a': 0, 'b': 10, 'c': 0, 'd': 10, 'e': 10},\n",
              " 80: {'a': 10, 'b': 10, 'c': 10, 'd': 0, 'e': 10},\n",
              " 90: {'a': 10, 'b': 10, 'c': 0, 'd': 10, 'e': 10},\n",
              " 100: {'a': 10, 'b': 10, 'c': 10, 'd': 10, 'e': 0},\n",
              " 110: {'a': 10, 'b': 0, 'c': 10, 'd': 10, 'e': 10},\n",
              " 120: {'a': 10, 'b': 10, 'c': 10, 'd': 10, 'e': 10}}"
            ]
          },
          "metadata": {},
          "execution_count": 22
        }
      ]
    },
    {
      "cell_type": "code",
      "source": [
        "class variable(object):\n",
        "    def __init__(self, name , value):\n",
        "        self.name = name\n",
        "        self.value = value\n",
        "    def getname(self) :\n",
        "        return self.name\n",
        "    def getValue(self):\n",
        "        return self.value\n",
        "    def __str__(self):\n",
        "        return 'name:' + str(self.name) + '; value : ' + str(self.value) \n"
      ],
      "metadata": {
        "id": "FOU3AHax7HcL"
      },
      "execution_count": 10,
      "outputs": []
    },
    {
      "cell_type": "code",
      "source": [
        "class constant(object):\n",
        "  def __init__(self,name,value):\n",
        "    self.name= name\n",
        "    self.value = value \n",
        "  def get_value(self):\n",
        "    return self.value\n",
        "  def get_name(self):\n",
        "    return self.name\n",
        "  def __str__(self):\n",
        "    return str(self.name) + ' : '+\" value : \" + str(self.value)"
      ],
      "metadata": {
        "id": "9dgxTNx-vl9t"
      },
      "execution_count": 11,
      "outputs": []
    },
    {
      "cell_type": "code",
      "source": [
        "A = variable('A',10)\n",
        "B = variable('B',10)\n",
        "C = variable('C',10)\n",
        "D = variable('D',10)\n",
        "E = variable('E',10)\n",
        "x = [A,B,C,D,E]\n",
        "F,c1,c2,c3,c4,c5 = Factor,ps1,ps2,ps3,ps4,ps5 \n",
        "constants = [c1,c2,c3,c4,c5]\n"
      ],
      "metadata": {
        "id": "lOGoDarJ04Rw"
      },
      "execution_count": 24,
      "outputs": []
    },
    {
      "cell_type": "code",
      "source": [
        "def Dict(variable,constants,F):\n",
        "  dict = {}\n",
        "  dict['F'] = F \n",
        "  for i,j in zip(variable,constants):\n",
        "    dict[i.getname()] = j \n",
        "  return dict "
      ],
      "metadata": {
        "id": "S4P9Mk-ozwWu"
      },
      "execution_count": 25,
      "outputs": []
    },
    {
      "cell_type": "code",
      "source": [
        "ref_dict = Dict([A,B,C,D,E],constants,F)\n",
        "ref_dict"
      ],
      "metadata": {
        "colab": {
          "base_uri": "https://localhost:8080/"
        },
        "id": "9Q-1anGM1tPc",
        "outputId": "43af9ef4-d4f5-4f4e-afaa-b30dd481587d"
      },
      "execution_count": 26,
      "outputs": [
        {
          "output_type": "execute_result",
          "data": {
            "text/plain": [
              "{'A': 2, 'B': 1, 'C': 3, 'D': 4, 'E': 2, 'F': 0}"
            ]
          },
          "metadata": {},
          "execution_count": 26
        }
      ]
    },
    {
      "cell_type": "code",
      "source": [
        "def score(List,dict):\n",
        "  res,Res = 0,0\n",
        "  for i in List:\n",
        "    j = i.getValue() * dict[i.getname()]\n",
        "    res +=  j \n",
        "  for i in List:\n",
        "    j = i.getValue()\n",
        "    Res += j \n",
        "  score = (60 - Res) * dict['F']\n",
        "  final_score = score  + res\n",
        "  return final_score\n"
      ],
      "metadata": {
        "id": "rDSDp4_4UDr8"
      },
      "execution_count": 27,
      "outputs": []
    },
    {
      "cell_type": "code",
      "source": [
        "score([A,C,D],ref_dict)"
      ],
      "metadata": {
        "id": "Kg829TEEUNlv",
        "colab": {
          "base_uri": "https://localhost:8080/"
        },
        "outputId": "add461f5-4fd7-4acc-808d-7b687631e8dd"
      },
      "execution_count": 28,
      "outputs": [
        {
          "output_type": "execute_result",
          "data": {
            "text/plain": [
              "90"
            ]
          },
          "metadata": {},
          "execution_count": 28
        }
      ]
    },
    {
      "cell_type": "code",
      "source": [
        "def test(List,avail ,dict,memo = {}):\n",
        "  if (len(List),avail) in memo:\n",
        "    return  memo[(len(List),avail)]\n",
        "  elif List ==[] or avail == 0 :\n",
        "    return (0,[])\n",
        "  else:\n",
        "    considered = List[0]\n",
        "    with1,with2 = test(List[1:],avail - considered.getValue(),dict,memo)\n",
        "    not1,not2 = test(List[1:],avail,dict,memo)\n",
        "    pairedval,pairs = (score(with2 + [considered],dict),with2 + [considered])\n",
        "    if avail == 10 :\n",
        "      if pairedval > not1:\n",
        "        memo[len(List),avail] =pairedval,pairs\n",
        "        return pairedval,pairs\n",
        "      else:\n",
        "        memo[len(List),avail] = not1,not2\n",
        "        return not1,not2\n",
        "    base = len(not2)\n",
        "    if avail == 20 and (base < 2  or base != 2 ):\n",
        "      npscore,npairs = (score(not2 + [considered],dict),not2 + [considered])\n",
        "      if pairedval>npscore:\n",
        "        memo[len(List),avail] =pairedval,pairs\n",
        "        return pairedval,pairs\n",
        "      else:\n",
        "        memo[len(List),avail] = npscore,npairs\n",
        "        return npscore,npairs\n",
        "    if avail == 20 and (base > 2  or base == 2 ):\n",
        "      npscore,npairs = (score(not2 + [considered],dict),not2 + [considered])\n",
        "      if pairedval>npscore and pairedval>not1:\n",
        "        memo[len(List),avail] =pairedval,pairs\n",
        "        return pairedval,pairs\n",
        "      elif not1>pairedval and not1 > npscore:\n",
        "        memo[len(List),avail] = not1,not2\n",
        "        return not1,not2\n",
        "      else:\n",
        "        memo[len(List),avail] =  npscore,npairs\n",
        "        return npscore,npairs\n",
        "    \n",
        "\n",
        "\n",
        "    "
      ],
      "metadata": {
        "id": "OEfWBy0uUZUh"
      },
      "execution_count": 30,
      "outputs": []
    },
    {
      "cell_type": "code",
      "source": [
        "x = test([A,B,C,D,E],20,ref_dict)\n",
        "x"
      ],
      "metadata": {
        "colab": {
          "base_uri": "https://localhost:8080/"
        },
        "id": "C2zHpwCEmm-v",
        "outputId": "987915f5-71c7-4a76-c0e4-76172d8811d1"
      },
      "execution_count": 31,
      "outputs": [
        {
          "output_type": "execute_result",
          "data": {
            "text/plain": [
              "(120,\n",
              " [<__main__.variable at 0x7f370a3cf950>,\n",
              "  <__main__.variable at 0x7f370a3cf890>,\n",
              "  <__main__.variable at 0x7f370a3cfdd0>,\n",
              "  <__main__.variable at 0x7f370a3cf590>,\n",
              "  <__main__.variable at 0x7f370a3cf210>])"
            ]
          },
          "metadata": {},
          "execution_count": 31
        }
      ]
    },
    {
      "cell_type": "code",
      "source": [
        "for i in x[1]:\n",
        "  print(i)"
      ],
      "metadata": {
        "colab": {
          "base_uri": "https://localhost:8080/"
        },
        "id": "-9tyau1WnS9b",
        "outputId": "b8047984-eca4-41d9-f75c-087a71679bd7"
      },
      "execution_count": 32,
      "outputs": [
        {
          "output_type": "stream",
          "name": "stdout",
          "text": [
            "name:E; value : 10\n",
            "name:D; value : 10\n",
            "name:C; value : 10\n",
            "name:B; value : 10\n",
            "name:A; value : 10\n"
          ]
        }
      ]
    },
    {
      "cell_type": "code",
      "source": [
        ""
      ],
      "metadata": {
        "id": "t9grDEDwgh47"
      },
      "execution_count": null,
      "outputs": []
    }
  ]
}