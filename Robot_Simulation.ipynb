{
  "nbformat": 4,
  "nbformat_minor": 0,
  "metadata": {
    "colab": {
      "name": " Robot Simulation.ipynb",
      "provenance": [],
      "collapsed_sections": []
    },
    "kernelspec": {
      "name": "python3",
      "display_name": "Python 3"
    },
    "language_info": {
      "name": "python"
    }
  },
  "cells": [
    {
      "cell_type": "code",
      "source": [
        "import math\n",
        "import random\n",
        "\n",
        "import pylab\n"
      ],
      "metadata": {
        "id": "zVQ9-6f2ciD2"
      },
      "execution_count": 32,
      "outputs": []
    },
    {
      "cell_type": "code",
      "source": [
        "class Position(object):\n",
        "    \"\"\"\n",
        "    A Position represents a location in a two-dimensional room, where\n",
        "    coordinates are given by floats (x, y).\n",
        "    \"\"\"\n",
        "    def __init__(self, x, y):\n",
        "        \"\"\"\n",
        "        Initializes a position with coordinates (x, y).\n",
        "        \"\"\"\n",
        "        self.x = x\n",
        "        self.y = y\n",
        "        \n",
        "    def get_x(self):\n",
        "        return self.x\n",
        "    \n",
        "    def get_y(self):\n",
        "        return self.y\n",
        "    \n",
        "    def get_new_position(self, angle, speed):\n",
        "        \"\"\"\n",
        "        Computes and returns the new Position after a single clock-tick has\n",
        "        passed, with this object as the current position, and with the\n",
        "        specified angle and speed.\n",
        "\n",
        "        Does NOT test whether the returned position fits inside the room.\n",
        "\n",
        "        angle: float representing angle in degrees, 0 <= angle < 360\n",
        "        speed: positive float representing speed\n",
        "\n",
        "        Returns: a Position object representing the new position.\n",
        "        \"\"\"\n",
        "        old_x, old_y = self.get_x(), self.get_y()\n",
        "        \n",
        "        # Compute the change in position\n",
        "        delta_y = speed * math.cos(math.radians(angle))\n",
        "        delta_x = speed * math.sin(math.radians(angle))\n",
        "        \n",
        "        # Add that to the existing position\n",
        "        new_x = old_x + delta_x\n",
        "        new_y = old_y + delta_y\n",
        "        \n",
        "        return Position(new_x, new_y)\n",
        "\n",
        "    def __str__(self):  \n",
        "        return \"Position: \" + str(math.floor(self.x)) + \", \" + str(math.floor(self.y))"
      ],
      "metadata": {
        "id": "reJgNa4lcIWU"
      },
      "execution_count": 33,
      "outputs": []
    },
    {
      "cell_type": "code",
      "source": [
        "position = Position(2.9,5.34).get_new_position(240,2)"
      ],
      "metadata": {
        "id": "5IfB6GAO2xAx"
      },
      "execution_count": 34,
      "outputs": []
    },
    {
      "cell_type": "code",
      "source": [
        "position.get_x()"
      ],
      "metadata": {
        "colab": {
          "base_uri": "https://localhost:8080/"
        },
        "id": "0D5uz7kw2sE0",
        "outputId": "854ee269-1476-486b-a08a-557cb244a846"
      },
      "execution_count": 35,
      "outputs": [
        {
          "output_type": "execute_result",
          "data": {
            "text/plain": [
              "1.1679491924311232"
            ]
          },
          "metadata": {},
          "execution_count": 35
        }
      ]
    },
    {
      "cell_type": "code",
      "source": [
        "math.sin(4.188)"
      ],
      "metadata": {
        "colab": {
          "base_uri": "https://localhost:8080/"
        },
        "id": "twyiljkniII_",
        "outputId": "48ce44b4-72c9-4ad5-b3c6-c548c87a5516"
      },
      "execution_count": 36,
      "outputs": [
        {
          "output_type": "execute_result",
          "data": {
            "text/plain": [
              "-0.8656300310490236"
            ]
          },
          "metadata": {},
          "execution_count": 36
        }
      ]
    },
    {
      "cell_type": "code",
      "source": [
        "class RectangularRoom(object):\n",
        "  def __init__(self, width, height, dirt_amount):\n",
        "    self.width = width\n",
        "    self.height = height \n",
        "    self.dirt_tagger = {}\n",
        "    for i in range(self.width):\n",
        "      for j in range(self.height):\n",
        "        self.dirt_tagger[(i,j)]=dirt_amount\n",
        "\n",
        "  def clean_tile_at_position(self, pos, capacity):\n",
        "    for i in self.dirt_tagger:\n",
        "      if i == (math.floor(pos.get_x()),math.floor(pos.get_y())):\n",
        "        self.dirt_tagger[i]=self.dirt_tagger[i] - capacity \n",
        "        if self.dirt_tagger[i] <= 0 :\n",
        "          self.dirt_tagger[i] = 0 \n",
        "  def is_tile_cleaned(self, m, n):\n",
        "    if (m,n) in self.dirt_tagger and self.dirt_tagger[(m,n)] == 0 :\n",
        "      return True\n",
        "    return False\n",
        "\n",
        "  def get_num_cleaned_tiles(self):\n",
        "    clean_tiles = 0 \n",
        "    for i in self.dirt_tagger:\n",
        "      if self.dirt_tagger[i]==0 :\n",
        "        clean_tiles += 1\n",
        "    return clean_tiles\n",
        "        \n",
        "  def is_position_in_room(self, pos):\n",
        "    if (math.floor(pos.get_x()),math.floor(pos.get_y())) in self.dirt_tagger:\n",
        "      return True \n",
        "    return False\n",
        "\n",
        "        \n",
        "  def get_dirt_amount(self, m, n):\n",
        "    if (m,n) in self.dirt_tagger:\n",
        "      return self.dirt_tagger[(m,n)]\n",
        "\n",
        "        \n",
        "  def get_num_tiles(self):\n",
        "    return self.width * self.height \n",
        "\n",
        "        \n",
        "  def is_position_valid(self, pos):\n",
        "    if (math.floor(pos.get_x()),math.floor(pos.get_y())) in self.dirt_tagger:\n",
        "      return  True \n",
        "    return False \n",
        "        # do not change -- implement in subclasses\n",
        "      \n",
        "\n",
        "  def get_random_position(self):\n",
        "    x = random.random() * self.width\n",
        "    y = random.random() * self.height \n",
        "    return Position(x,y)\n",
        "  def get_tiles(self):\n",
        "    for i in self.dirt_tagger:\n",
        "      print(str(i),' : ',str(self.dirt_tagger[i]))\n",
        "        # \"\"\"\n",
        "        # Returns: a Position object; a random position inside the room\n",
        "        # \"\"\"\n",
        "        # do not change -- implement in subclasses"
      ],
      "metadata": {
        "id": "NYBsyiePeJZa"
      },
      "execution_count": 37,
      "outputs": []
    },
    {
      "cell_type": "code",
      "source": [
        "class EmptyRoom(RectangularRoom):\n",
        "  def __init__(self, width, height, dirt_amount):\n",
        "    RectangularRoom.__init__(self, width, height, dirt_amount)\n",
        "    # \"\"\"\n",
        "    # An EmptyRoom represents a RectangularRoom with no furniture.\n",
        "    # \"\"\"\n",
        "    # def get_num_tiles(self):\n",
        "    #   return self.width * self.height \n",
        "\n",
        "    #     # raise NotImplementedError\n",
        "        \n",
        "    # def is_position_valid(self, pos):\n",
        "    #     \"\"\"\n",
        "    #     pos: a Position object.\n",
        "        \n",
        "    #     Returns: True if pos is in the room, False otherwise.\n",
        "    #     \"\"\"\n",
        "    #     raise NotImplementedError\n",
        "        \n",
        "    # def get_random_position(self):\n",
        "    #     \"\"\"\n",
        "    #     Returns: a Position object; a valid random position (inside the room).\n",
        "    #     \"\"\"\n",
        "    #     raise NotImplementedError"
      ],
      "metadata": {
        "id": "P324rMsMW81i"
      },
      "execution_count": 38,
      "outputs": []
    },
    {
      "cell_type": "code",
      "source": [
        "class FurnishedRoom(RectangularRoom):\n",
        "    \"\"\"\n",
        "    A FurnishedRoom represents a RectangularRoom with a rectangular piece of \n",
        "    furniture. The robot should not be able to land on these furniture tiles.\n",
        "    \"\"\"\n",
        "    def __init__(self, width, height, dirt_amount):\n",
        "        \"\"\" \n",
        "        Initializes a FurnishedRoom, a subclass of RectangularRoom. FurnishedRoom\n",
        "        also has a list of tiles which are furnished (furniture_tiles).\n",
        "        \"\"\"\n",
        "        # This __init__ method is implemented for you -- do not change.\n",
        "        \n",
        "        # Call the __init__ method for the parent class\n",
        "        RectangularRoom.__init__(self, width, height, dirt_amount)\n",
        "        # Adds the data structure to contain the list of furnished tiles\n",
        "        self.furniture_tiles = []\n",
        "        \n",
        "    def add_furniture_to_room(self):\n",
        "        \"\"\"\n",
        "        Add a rectangular piece of furniture to the room. Furnished tiles are stored \n",
        "        as (x, y) tuples in the list furniture_tiles \n",
        "        \n",
        "        Furniture location and size is randomly selected. Width and height are selected\n",
        "        so that the piece of furniture fits within the room and does not occupy the \n",
        "        entire room. Position is selected by randomly selecting the location of the \n",
        "        bottom left corner of the piece of furniture so that the entire piece of \n",
        "        furniture lies in the room.\n",
        "        \"\"\"\n",
        "        # This addFurnitureToRoom method is implemented for you. Do not change it.\n",
        "        furniture_width = random.randint(1, self.width - 1)\n",
        "        furniture_height = random.randint(1, self.height - 1)\n",
        "\n",
        "        # Randomly choose bottom left corner of the furniture item.    \n",
        "        f_bottom_left_x = random.randint(0, self.width - furniture_width)\n",
        "        f_bottom_left_y = random.randint(0, self.height - furniture_height)\n",
        "\n",
        "        # Fill list with tuples of furniture tiles.\n",
        "        for i in range(f_bottom_left_x, f_bottom_left_x + furniture_width):\n",
        "            for j in range(f_bottom_left_y, f_bottom_left_y + furniture_height):\n",
        "                self.furniture_tiles.append((i,j))             \n",
        "\n",
        "    def is_tile_furnished(self, m, n):\n",
        "      if (m,n) in self.furniture_tiles:\n",
        "        return True\n",
        "      return False\n",
        "\n",
        "        # \"\"\"\n",
        "        # Return True if tile (m, n) is furnished.\n",
        "        # \"\"\"\n",
        "        # raise NotImplementedError\n",
        "        \n",
        "    def is_position_furnished(self, pos):\n",
        "      if (math.floor(pos.get_x()),math.floor(pos.get_y())) in self.furnitre_tiles:\n",
        "        return True\n",
        "      return False\n",
        "\n",
        "      #   \"\"\"\n",
        "      #   pos: a Position object.\n",
        "\n",
        "      #   Returns True if pos is furnished and False otherwise\n",
        "      #   \"\"\"\n",
        "      # raise NotImplementedError\n",
        "        \n",
        "    def is_position_valid(self, pos):\n",
        "      if (math.floor(pos.get_x()),math.floor(pos.get_y())) in self.dirt_tagger and (math.floor(pos.get_x()),math.floor(pos.get_y())) not  in self.furniture_tiles:\n",
        "        return True \n",
        "      return False\n",
        "\n",
        "\n",
        "        # \"\"\"\n",
        "        # pos: a Position object.\n",
        "        \n",
        "        # returns: True if pos is in the room and is unfurnished, False otherwise.\n",
        "        # \"\"\"\n",
        "        # raise NotImplementedError\n",
        "        \n",
        "    def get_num_tiles(self):\n",
        "      return (self.width *  self.height ) - len(self.furniture_tiles)\n",
        "        # \"\"\"\n",
        "        # Returns: an integer; the total number of tiles in the room that can be accessed.\n",
        "        # \"\"\"  \n",
        "    def get_random_position(self):\n",
        "      x = random.random() * self.width\n",
        "      y = random.random() * self.height \n",
        "      if (math.floor(x),math.floor(y)) not in self.furniture_tiles :\n",
        "        return Position(x,y)\n",
        "      else:\n",
        "        self.get_random_position()\n",
        "    def get_furnitured_tiles(self):\n",
        "      return self.furniture_tiles\n"
      ],
      "metadata": {
        "id": "OHUuw85lcMF4"
      },
      "execution_count": 39,
      "outputs": []
    },
    {
      "cell_type": "code",
      "source": [
        "Area =  RectangularRoom(5,5,3)\n"
      ],
      "metadata": {
        "id": "3KwjnGdrISJC"
      },
      "execution_count": 40,
      "outputs": []
    },
    {
      "cell_type": "code",
      "source": [
        "playground = FurnishedRoom(5,6,4)"
      ],
      "metadata": {
        "id": "CwlIbdfwNe2J"
      },
      "execution_count": 41,
      "outputs": []
    },
    {
      "cell_type": "code",
      "source": [
        "playground.add_furniture_to_room()"
      ],
      "metadata": {
        "id": "H839NHqsNngw"
      },
      "execution_count": 42,
      "outputs": []
    },
    {
      "cell_type": "code",
      "source": [
        "playground.get_furnitured_tiles()"
      ],
      "metadata": {
        "colab": {
          "base_uri": "https://localhost:8080/"
        },
        "id": "iYYxGm4nZy_Y",
        "outputId": "6efa33ac-8c78-41a9-9504-1355967907ac"
      },
      "execution_count": 43,
      "outputs": [
        {
          "output_type": "execute_result",
          "data": {
            "text/plain": [
              "[(1, 2),\n",
              " (1, 3),\n",
              " (1, 4),\n",
              " (1, 5),\n",
              " (2, 2),\n",
              " (2, 3),\n",
              " (2, 4),\n",
              " (2, 5),\n",
              " (3, 2),\n",
              " (3, 3),\n",
              " (3, 4),\n",
              " (3, 5)]"
            ]
          },
          "metadata": {},
          "execution_count": 43
        }
      ]
    },
    {
      "cell_type": "code",
      "source": [
        "print(playground.get_random_position())"
      ],
      "metadata": {
        "colab": {
          "base_uri": "https://localhost:8080/"
        },
        "id": "l_q5zEePZ6ih",
        "outputId": "cb3ab0f4-00fd-423e-fd6d-de2e81930520"
      },
      "execution_count": 44,
      "outputs": [
        {
          "output_type": "stream",
          "name": "stdout",
          "text": [
            "Position: 2, 0\n"
          ]
        }
      ]
    },
    {
      "cell_type": "code",
      "source": [
        "Area.get_tiles()"
      ],
      "metadata": {
        "id": "BZmBLC-SUf-l",
        "colab": {
          "base_uri": "https://localhost:8080/"
        },
        "outputId": "54f427c6-b290-4858-9532-bb398b2acc3b"
      },
      "execution_count": 45,
      "outputs": [
        {
          "output_type": "stream",
          "name": "stdout",
          "text": [
            "(0, 0)  :  3\n",
            "(0, 1)  :  3\n",
            "(0, 2)  :  3\n",
            "(0, 3)  :  3\n",
            "(0, 4)  :  3\n",
            "(1, 0)  :  3\n",
            "(1, 1)  :  3\n",
            "(1, 2)  :  3\n",
            "(1, 3)  :  3\n",
            "(1, 4)  :  3\n",
            "(2, 0)  :  3\n",
            "(2, 1)  :  3\n",
            "(2, 2)  :  3\n",
            "(2, 3)  :  3\n",
            "(2, 4)  :  3\n",
            "(3, 0)  :  3\n",
            "(3, 1)  :  3\n",
            "(3, 2)  :  3\n",
            "(3, 3)  :  3\n",
            "(3, 4)  :  3\n",
            "(4, 0)  :  3\n",
            "(4, 1)  :  3\n",
            "(4, 2)  :  3\n",
            "(4, 3)  :  3\n",
            "(4, 4)  :  3\n"
          ]
        }
      ]
    },
    {
      "cell_type": "code",
      "source": [
        "class Robot(object):\n",
        "    # \"\"\"\n",
        "    # Represents a robot cleaning a particular room.\n",
        "\n",
        "    # At all times, the robot has a particular position and direction in the room.\n",
        "    # The robot also has a fixed speed and a fixed cleaning capacity.\n",
        "\n",
        "    # Subclasses of Robot should provide movement strategies by implementing\n",
        "    # update_position_and_clean, which simulates a single time-step.\n",
        "    # \"\"\"\n",
        "    def __init__(self, room, speed, capacity):\n",
        "      self.room = room \n",
        "      self.position = self.room.get_random_position()\n",
        "      self.speed = float(speed) \n",
        "      self.capacity = capacity \n",
        "      self.angle = float(round(random.random() * 360,1))\n",
        "      self.room.clean_tile_at_position(self.position, self.capacity)\n",
        "        # \"\"\"\n",
        "        # Initializes a Robot with the given speed and given cleaning capacity in the \n",
        "        # specified room. The robot initially has a random direction and a random \n",
        "        # position in the room.\n",
        "\n",
        "        # room:  a RectangularRoom object.\n",
        "        # speed: a float (speed > 0)\n",
        "        # capacity: a positive interger; the amount of dirt cleaned by the robot \n",
        "        #           in a single time-step\n",
        "        # \"\"\"\n",
        "\n",
        "\n",
        "    def get_robot_position(self):\n",
        "      return self.position \n",
        "        # \"\"\"\n",
        "        # Returns: a Position object giving the robot's position in the room.\n",
        "        # \"\"\"\n",
        "\n",
        "\n",
        "    def get_robot_direction(self):\n",
        "      return self.angle \n",
        "        # \"\"\"\n",
        "        # Returns: a float d giving the direction of the robot as an angle in\n",
        "        # degrees, 0.0 <= d < 360.0.\n",
        "        # \"\"\"\n",
        "        # raise NotImplementedError\n",
        "\n",
        "    def set_robot_position(self, position):\n",
        "      self.position = position \n",
        "        # \"\"\"\n",
        "        # Set the position of the robot to position.\n",
        "\n",
        "        # position: a Position object.\n",
        "        # \"\"\"\n",
        "        # raise NotImplementedError\n",
        "\n",
        "    def set_robot_direction(self, direction):\n",
        "      self.angle = direction \n",
        "#         \"\"\"\n",
        "#         Set the direction of the robot to direction.\n",
        "\n",
        "#         direction: float representing an angle in degrees\n",
        "#         \"\"\"\n",
        "#         raise NotImplementedError\n",
        "\n",
        "    def update_position_and_clean(self):\n",
        "      new_option = self.position.get_new_position(self.angle,self.speed)\n",
        "      if self.room.is_position_valid(new_option):\n",
        "        self.position = new_option \n",
        "        self.room.clean_tile_at_position(self.position, self.capacity)\n",
        "      else:\n",
        "        self.angle = float(round(random.random() * 360,1))\n",
        "\n",
        "\n",
        "#         \"\"\"\n",
        "#         Simulate the raise passage of a single time-step.\n",
        "\n",
        "#         Move the robot to a new random position (if the new position is invalid, \n",
        "#         rotate once to a random new direction, and stay stationary) and mark the tile it is on as having\n",
        "#         been cleaned by capacity amount. \n",
        "#         \"\"\"\n",
        "#         # do not change -- implement in subclasses\n",
        "#         raise NotImplementedError"
      ],
      "metadata": {
        "id": "4j_XsPwoJqHu"
      },
      "execution_count": 46,
      "outputs": []
    },
    {
      "cell_type": "code",
      "source": [
        "I = Robot(Area,2,1)"
      ],
      "metadata": {
        "id": "f3sGmoSKRF4C"
      },
      "execution_count": 47,
      "outputs": []
    },
    {
      "cell_type": "code",
      "source": [
        "for i in range(50):\n",
        "  I.update_position_and_clean()\n",
        "Area.get_tiles()"
      ],
      "metadata": {
        "colab": {
          "base_uri": "https://localhost:8080/"
        },
        "id": "P-pCLDClUmsq",
        "outputId": "b02f18cb-303d-486e-ce1b-06442eba5443"
      },
      "execution_count": 48,
      "outputs": [
        {
          "output_type": "stream",
          "name": "stdout",
          "text": [
            "(0, 0)  :  2\n",
            "(0, 1)  :  3\n",
            "(0, 2)  :  3\n",
            "(0, 3)  :  3\n",
            "(0, 4)  :  3\n",
            "(1, 0)  :  2\n",
            "(1, 1)  :  2\n",
            "(1, 2)  :  2\n",
            "(1, 3)  :  3\n",
            "(1, 4)  :  2\n",
            "(2, 0)  :  2\n",
            "(2, 1)  :  1\n",
            "(2, 2)  :  2\n",
            "(2, 3)  :  2\n",
            "(2, 4)  :  1\n",
            "(3, 0)  :  2\n",
            "(3, 1)  :  2\n",
            "(3, 2)  :  3\n",
            "(3, 3)  :  2\n",
            "(3, 4)  :  3\n",
            "(4, 0)  :  3\n",
            "(4, 1)  :  2\n",
            "(4, 2)  :  2\n",
            "(4, 3)  :  1\n",
            "(4, 4)  :  2\n"
          ]
        }
      ]
    },
    {
      "cell_type": "code",
      "source": [
        "I.get_robot_direction()"
      ],
      "metadata": {
        "colab": {
          "base_uri": "https://localhost:8080/"
        },
        "id": "3Pa9PoN9RfQ8",
        "outputId": "9311d55d-12d7-4e48-ee3f-ec8a7933a46c"
      },
      "execution_count": 49,
      "outputs": [
        {
          "output_type": "execute_result",
          "data": {
            "text/plain": [
              "133.1"
            ]
          },
          "metadata": {},
          "execution_count": 49
        }
      ]
    },
    {
      "cell_type": "code",
      "source": [
        "# === Problem 3\n",
        "class StandardRobot(Robot):\n",
        "  def __init__(self,room, speed, capacity):\n",
        "    Robot.__init__(self,room, speed, capacity)\n",
        "    \"\"\"\n",
        "    A StandardRobot is a Robot with the standard movement strategy.\n",
        "\n",
        "    At each time-step, a StandardRobot attempts to move in its current\n",
        "    direction; when it would hit a wall or furtniture, it *instead*\n",
        "    chooses a new direction randomly.\n",
        "    \"\"\"\n",
        "    def update_position_and_clean(self):\n",
        "      new_option = self.position.get_new_position(self.angle,self.speed)\n",
        "      if self.room.is_position_valid(new_option):\n",
        "        self.position = new_option \n",
        "        self.room.clean_tile_at_position(self.position, self.capacity)\n",
        "      else:\n",
        "        self.angle = float(round(random.random() * 360,1))\n",
        "\n",
        "# Uncomment this line to see your implementation of StandardRobot in action!\n",
        "#test_robot_movement(StandardRobot, EmptyRoom)\n",
        "#test_robot_movement(StandardRobot, FurnishedRoom)"
      ],
      "metadata": {
        "id": "513zIZKNScGJ"
      },
      "execution_count": 50,
      "outputs": []
    },
    {
      "cell_type": "code",
      "source": [
        "Area = RectangularRoom(10,10,3)"
      ],
      "metadata": {
        "id": "SIVSRWokbn35"
      },
      "execution_count": 51,
      "outputs": []
    },
    {
      "cell_type": "code",
      "source": [
        "Area.get_num_cleaned_tiles()"
      ],
      "metadata": {
        "colab": {
          "base_uri": "https://localhost:8080/"
        },
        "id": "AY5M84Nuofx4",
        "outputId": "cb6a9912-84a8-49bd-e829-71f76d376d6f"
      },
      "execution_count": 52,
      "outputs": [
        {
          "output_type": "execute_result",
          "data": {
            "text/plain": [
              "0"
            ]
          },
          "metadata": {},
          "execution_count": 52
        }
      ]
    },
    {
      "cell_type": "code",
      "source": [
        "Area.get_num_tiles()"
      ],
      "metadata": {
        "colab": {
          "base_uri": "https://localhost:8080/"
        },
        "id": "CxEay2Wnprhu",
        "outputId": "d8f35de0-7e2e-4d34-f1f1-cbad34583d1a"
      },
      "execution_count": 53,
      "outputs": [
        {
          "output_type": "execute_result",
          "data": {
            "text/plain": [
              "100"
            ]
          },
          "metadata": {},
          "execution_count": 53
        }
      ]
    },
    {
      "cell_type": "code",
      "source": [
        "import time"
      ],
      "metadata": {
        "id": "A3IwKs_ayPWQ"
      },
      "execution_count": 54,
      "outputs": []
    },
    {
      "cell_type": "code",
      "source": [
        "# print ('avg time steps: ' + str(run_simulation(1, 1.0, 1, 10, 10, 3, 0.8, 50, StandardRobot)))"
      ],
      "metadata": {
        "id": "HedMPVxXyWOD"
      },
      "execution_count": 24,
      "outputs": []
    },
    {
      "cell_type": "code",
      "source": [
        "time_taggers = []\n",
        "for i in range(50):\n",
        "  x = time.time()\n",
        "  Area = EmptyRoom(10,10,3)\n",
        "  S = StandardRobot(Area,1,1)\n",
        "  while Area.get_num_cleaned_tiles()/Area.get_num_tiles() <= 0.8 :\n",
        "    S.update_position_and_clean()\n",
        "  time_taggers.append(time.time()-x)\n",
        "  print(Area.get_num_cleaned_tiles())\n",
        "\n"
      ],
      "metadata": {
        "colab": {
          "base_uri": "https://localhost:8080/"
        },
        "id": "RI8_0xzn1B3J",
        "outputId": "a101f60e-598b-4fca-a48a-6035012ff697"
      },
      "execution_count": 55,
      "outputs": [
        {
          "output_type": "stream",
          "name": "stdout",
          "text": [
            "81\n",
            "81\n",
            "81\n",
            "81\n",
            "81\n",
            "81\n",
            "81\n",
            "81\n",
            "81\n",
            "81\n",
            "81\n",
            "81\n",
            "81\n",
            "81\n",
            "81\n",
            "81\n",
            "81\n",
            "81\n",
            "81\n",
            "81\n",
            "81\n",
            "81\n",
            "81\n",
            "81\n",
            "81\n",
            "81\n",
            "81\n",
            "81\n",
            "81\n",
            "81\n",
            "81\n",
            "81\n",
            "81\n",
            "81\n",
            "81\n",
            "81\n",
            "81\n",
            "81\n",
            "81\n",
            "81\n",
            "81\n",
            "81\n",
            "81\n",
            "81\n",
            "81\n",
            "81\n",
            "81\n",
            "81\n",
            "81\n",
            "81\n"
          ]
        }
      ]
    },
    {
      "cell_type": "code",
      "source": [
        "sum(time_taggers)/50"
      ],
      "metadata": {
        "colab": {
          "base_uri": "https://localhost:8080/"
        },
        "id": "Y2ruBqIQn3Ms",
        "outputId": "6ffc1bcd-5950-4e3c-d3b0-ff2e40e63e57"
      },
      "execution_count": 56,
      "outputs": [
        {
          "output_type": "execute_result",
          "data": {
            "text/plain": [
              "0.03583730697631836"
            ]
          },
          "metadata": {},
          "execution_count": 56
        }
      ]
    },
    {
      "cell_type": "code",
      "source": [
        "Area.get_tiles()"
      ],
      "metadata": {
        "colab": {
          "base_uri": "https://localhost:8080/"
        },
        "id": "2uScczy-bLpR",
        "outputId": "0ccc5877-8513-4d4d-816b-37a9de393cdc"
      },
      "execution_count": 27,
      "outputs": [
        {
          "output_type": "stream",
          "name": "stdout",
          "text": [
            "(0, 0)  :  0\n",
            "(0, 1)  :  1\n",
            "(0, 2)  :  0\n",
            "(0, 3)  :  0\n",
            "(0, 4)  :  0\n",
            "(0, 5)  :  0\n",
            "(0, 6)  :  0\n",
            "(0, 7)  :  0\n",
            "(0, 8)  :  0\n",
            "(0, 9)  :  0\n",
            "(1, 0)  :  0\n",
            "(1, 1)  :  0\n",
            "(1, 2)  :  0\n",
            "(1, 3)  :  0\n",
            "(1, 4)  :  0\n",
            "(1, 5)  :  0\n",
            "(1, 6)  :  0\n",
            "(1, 7)  :  0\n",
            "(1, 8)  :  0\n",
            "(1, 9)  :  0\n",
            "(2, 0)  :  0\n",
            "(2, 1)  :  0\n",
            "(2, 2)  :  0\n",
            "(2, 3)  :  0\n",
            "(2, 4)  :  0\n",
            "(2, 5)  :  0\n",
            "(2, 6)  :  0\n",
            "(2, 7)  :  0\n",
            "(2, 8)  :  0\n",
            "(2, 9)  :  0\n",
            "(3, 0)  :  0\n",
            "(3, 1)  :  0\n",
            "(3, 2)  :  0\n",
            "(3, 3)  :  0\n",
            "(3, 4)  :  1\n",
            "(3, 5)  :  0\n",
            "(3, 6)  :  2\n",
            "(3, 7)  :  0\n",
            "(3, 8)  :  3\n",
            "(3, 9)  :  0\n",
            "(4, 0)  :  0\n",
            "(4, 1)  :  0\n",
            "(4, 2)  :  0\n",
            "(4, 3)  :  0\n",
            "(4, 4)  :  1\n",
            "(4, 5)  :  1\n",
            "(4, 6)  :  1\n",
            "(4, 7)  :  0\n",
            "(4, 8)  :  0\n",
            "(4, 9)  :  0\n",
            "(5, 0)  :  0\n",
            "(5, 1)  :  0\n",
            "(5, 2)  :  0\n",
            "(5, 3)  :  0\n",
            "(5, 4)  :  1\n",
            "(5, 5)  :  2\n",
            "(5, 6)  :  3\n",
            "(5, 7)  :  0\n",
            "(5, 8)  :  1\n",
            "(5, 9)  :  0\n",
            "(6, 0)  :  0\n",
            "(6, 1)  :  0\n",
            "(6, 2)  :  1\n",
            "(6, 3)  :  2\n",
            "(6, 4)  :  0\n",
            "(6, 5)  :  2\n",
            "(6, 6)  :  0\n",
            "(6, 7)  :  0\n",
            "(6, 8)  :  1\n",
            "(6, 9)  :  0\n",
            "(7, 0)  :  0\n",
            "(7, 1)  :  0\n",
            "(7, 2)  :  1\n",
            "(7, 3)  :  0\n",
            "(7, 4)  :  0\n",
            "(7, 5)  :  0\n",
            "(7, 6)  :  1\n",
            "(7, 7)  :  0\n",
            "(7, 8)  :  1\n",
            "(7, 9)  :  0\n",
            "(8, 0)  :  0\n",
            "(8, 1)  :  0\n",
            "(8, 2)  :  0\n",
            "(8, 3)  :  0\n",
            "(8, 4)  :  0\n",
            "(8, 5)  :  0\n",
            "(8, 6)  :  0\n",
            "(8, 7)  :  0\n",
            "(8, 8)  :  0\n",
            "(8, 9)  :  0\n",
            "(9, 0)  :  1\n",
            "(9, 1)  :  0\n",
            "(9, 2)  :  0\n",
            "(9, 3)  :  0\n",
            "(9, 4)  :  0\n",
            "(9, 5)  :  0\n",
            "(9, 6)  :  0\n",
            "(9, 7)  :  0\n",
            "(9, 8)  :  0\n",
            "(9, 9)  :  0\n"
          ]
        }
      ]
    },
    {
      "cell_type": "code",
      "source": [
        "class FaultyRobot(Robot):\n",
        "  def __init__(self,room, speed, capacity):\n",
        "    Robot.__init__(self,room, speed, capacity)\n",
        "    self.prob_failure = 0.15\n",
        "\n",
        "  def set_faulty_probability(self,prob):\n",
        "    self.prob_failure = prob\n",
        "  def gets_faulty(self):\n",
        "    return random.random() < self.prob_failure\n",
        "    \n",
        "  def update_position_and_clean(self):\n",
        "    if self.gets_faulty():\n",
        "      self.angle = float(round(random.random() * 360,1))\n",
        "    else:\n",
        "      new_option = self.position.get_new_position(self.angle,self.speed)\n",
        "      if self.room.is_position_valid(new_option):\n",
        "        self.position = new_option \n",
        "        self.room.clean_tile_at_position(self.position, self.capacity)\n",
        "      else:\n",
        "        self.angle = float(round(random.random() * 360,1))\n",
        "\n",
        "\n",
        "\n",
        "        \"\"\"\n",
        "        Simulate the passage of a single time-step.\n",
        "\n",
        "        Check if the robot gets faulty. If the robot gets faulty,\n",
        "        do not clean the current tile and change its direction randomly.\n",
        "\n",
        "        If the robot does not get faulty, the robot should behave like\n",
        "        StandardRobot at this time-step (checking if it can move to a new position,\n",
        "        move there if it can, pick a new direction and stay stationary if it can't)\n",
        "        \"\"\"\n",
        "        # raise NotImplementedError"
      ],
      "metadata": {
        "id": "g4uo7B5abOdZ"
      },
      "execution_count": 57,
      "outputs": []
    },
    {
      "cell_type": "code",
      "source": [
        "Area = RectangularRoom(5,5,3)\n",
        "trial = FaultyRobot(Area,2,1)\n",
        "for i in range(50):\n",
        "  trial.update_position_and_clean()\n",
        "Area.get_tiles()"
      ],
      "metadata": {
        "colab": {
          "base_uri": "https://localhost:8080/"
        },
        "id": "TlTTiSaFgevS",
        "outputId": "c9484819-b313-409b-cbfe-d5409f431607"
      },
      "execution_count": 58,
      "outputs": [
        {
          "output_type": "stream",
          "name": "stdout",
          "text": [
            "(0, 0)  :  3\n",
            "(0, 1)  :  3\n",
            "(0, 2)  :  3\n",
            "(0, 3)  :  3\n",
            "(0, 4)  :  2\n",
            "(1, 0)  :  3\n",
            "(1, 1)  :  2\n",
            "(1, 2)  :  3\n",
            "(1, 3)  :  0\n",
            "(1, 4)  :  1\n",
            "(2, 0)  :  2\n",
            "(2, 1)  :  3\n",
            "(2, 2)  :  2\n",
            "(2, 3)  :  2\n",
            "(2, 4)  :  3\n",
            "(3, 0)  :  2\n",
            "(3, 1)  :  3\n",
            "(3, 2)  :  1\n",
            "(3, 3)  :  3\n",
            "(3, 4)  :  0\n",
            "(4, 0)  :  3\n",
            "(4, 1)  :  3\n",
            "(4, 2)  :  1\n",
            "(4, 3)  :  3\n",
            "(4, 4)  :  3\n"
          ]
        }
      ]
    },
    {
      "cell_type": "code",
      "source": [
        "def run_simulation(num_robots, speed, capacity, width, height, dirt_amount, min_coverage, num_trials,robot_type):\n",
        "  time_taggers = []\n",
        "  for i in range(num_trials):\n",
        "    x = time.time()\n",
        "    Area = EmptyRoom(width,height,dirt_amount)\n",
        "    Robots = []\n",
        "    for i in range(num_robots):\n",
        "      Robots.append(robot_type(Area,speed,capacity))\n",
        "    while Area.get_num_cleaned_tiles()/Area.get_num_tiles() <= 0.8 :\n",
        "      for i in Robots:\n",
        "        i.update_position_and_clean()\n",
        "    time_taggers.append(time.time()-x)\n",
        "    # print(Area.get_num_cleaned_tiles())\n",
        "  return sum(time_taggers)/len(time_taggers)\n",
        "\n"
      ],
      "metadata": {
        "id": "SPyXHjLyl-EQ"
      },
      "execution_count": 66,
      "outputs": []
    },
    {
      "cell_type": "code",
      "source": [
        "\n",
        "# 2) How does the performance of the two robot types compare when two of each\n",
        "#       robot cleans 80% of rooms with dimensions \n",
        "#       10x30, 20x15, 25x12, and 50x6?"
      ],
      "metadata": {
        "id": "9fieQ7k4qG57",
        "colab": {
          "base_uri": "https://localhost:8080/"
        },
        "outputId": "be9e0c23-beda-46b3-8a6a-21a83fd987db"
      },
      "execution_count": 67,
      "outputs": [
        {
          "output_type": "stream",
          "name": "stdout",
          "text": [
            "avg time steps: 0.0031773519515991212\n",
            "avg time steps: 0.035574240684509276\n",
            "avg time steps: 0.034585089683532716\n",
            "avg time steps: 0.5709125518798828\n",
            "avg time steps: 0.4484910297393799\n"
          ]
        }
      ]
    },
    {
      "cell_type": "code",
      "source": [
        "print ('avg time steps: ' + str(run_simulation(2, 1.0, 2, 10, 30, 3, 0.8, 50, StandardRobot)))"
      ],
      "metadata": {
        "colab": {
          "base_uri": "https://localhost:8080/"
        },
        "id": "4MfS_aOVBdxM",
        "outputId": "869e9a78-916e-4e5d-a590-1769c4bd95e6"
      },
      "execution_count": 83,
      "outputs": [
        {
          "output_type": "stream",
          "name": "stdout",
          "text": [
            "avg time steps: 0.19124021053314208\n"
          ]
        }
      ]
    },
    {
      "cell_type": "code",
      "source": [
        "print ('avg time steps: ' + str(run_simulation(2, 1.0, 1, 10, 30, 3, 0.8, 50, FaultyRobot)))"
      ],
      "metadata": {
        "colab": {
          "base_uri": "https://localhost:8080/"
        },
        "id": "E4wS9oU9BeTH",
        "outputId": "367cdcd0-fed3-4379-fc76-ad49bc5b5c78"
      },
      "execution_count": 84,
      "outputs": [
        {
          "output_type": "stream",
          "name": "stdout",
          "text": [
            "avg time steps: 0.30425151824951174\n"
          ]
        }
      ]
    },
    {
      "cell_type": "code",
      "source": [
        "print ('avg time steps: ' + str(run_simulation(2, 1.0, 2, 20, 15, 3, 0.8, 50, StandardRobot)))"
      ],
      "metadata": {
        "colab": {
          "base_uri": "https://localhost:8080/"
        },
        "id": "_JWTUbFwCIqe",
        "outputId": "4477b2f3-7249-4ba2-dfe3-dc3c9483c130"
      },
      "execution_count": 85,
      "outputs": [
        {
          "output_type": "stream",
          "name": "stdout",
          "text": [
            "avg time steps: 0.1908271884918213\n"
          ]
        }
      ]
    },
    {
      "cell_type": "code",
      "source": [
        "print ('avg time steps: ' + str(run_simulation(2, 1.0, 2, 20, 15, 3, 0.8, 50, FaultyRobot)))"
      ],
      "metadata": {
        "colab": {
          "base_uri": "https://localhost:8080/"
        },
        "id": "A0r3TaXxHbL0",
        "outputId": "9a574934-5d1d-42bf-eec5-112bcf51adfe"
      },
      "execution_count": 86,
      "outputs": [
        {
          "output_type": "stream",
          "name": "stdout",
          "text": [
            "avg time steps: 0.21411222457885742\n"
          ]
        }
      ]
    },
    {
      "cell_type": "code",
      "source": [
        "print ('avg time steps: ' + str(run_simulation(2, 1.0, 2, 25, 12, 3, 0.8, 50, StandardRobot)))"
      ],
      "metadata": {
        "colab": {
          "base_uri": "https://localhost:8080/"
        },
        "id": "WjFP8x7-HezR",
        "outputId": "7b5b26e2-09e9-4883-b8fc-0267a2a99c7b"
      },
      "execution_count": 87,
      "outputs": [
        {
          "output_type": "stream",
          "name": "stdout",
          "text": [
            "avg time steps: 0.1863495635986328\n"
          ]
        }
      ]
    },
    {
      "cell_type": "code",
      "source": [
        "print ('avg time steps: ' + str(run_simulation(2, 1.0, 2, 25, 12, 3, 0.8, 50, FaultyRobot)))"
      ],
      "metadata": {
        "colab": {
          "base_uri": "https://localhost:8080/"
        },
        "id": "ffUTq48WHiIz",
        "outputId": "af678468-cb3a-4184-90c6-f26407173828"
      },
      "execution_count": 88,
      "outputs": [
        {
          "output_type": "stream",
          "name": "stdout",
          "text": [
            "avg time steps: 0.20938063621520997\n"
          ]
        }
      ]
    },
    {
      "cell_type": "code",
      "source": [
        "print ('avg time steps: ' + str(run_simulation(2, 1.0, 2, 50, 6, 3, 0.8, 50, StandardRobot)))"
      ],
      "metadata": {
        "colab": {
          "base_uri": "https://localhost:8080/"
        },
        "id": "YuXB9KB9HqDn",
        "outputId": "2323dc9b-9b0d-40db-96f5-909754aed8e0"
      },
      "execution_count": 89,
      "outputs": [
        {
          "output_type": "stream",
          "name": "stdout",
          "text": [
            "avg time steps: 0.22046220302581787\n"
          ]
        }
      ]
    },
    {
      "cell_type": "code",
      "source": [
        "print ('avg time steps: ' + str(run_simulation(2, 1.0, 2, 50, 6, 3, 0.8, 50, FaultyRobot)))"
      ],
      "metadata": {
        "colab": {
          "base_uri": "https://localhost:8080/"
        },
        "id": "LTLLKHzZHtHn",
        "outputId": "6381feac-b50a-452a-9d20-c96cbf0ddbdf"
      },
      "execution_count": 90,
      "outputs": [
        {
          "output_type": "stream",
          "name": "stdout",
          "text": [
            "avg time steps: 0.26179373264312744\n"
          ]
        }
      ]
    },
    {
      "cell_type": "code",
      "source": [
        "def show_plot_compare_strategies(title, x_label, y_label):\n",
        "    \"\"\"\n",
        "    Produces a plot comparing the two robot strategies in a 20x20 room with 80%\n",
        "    minimum coverage.\n",
        "    \"\"\"\n",
        "    num_robot_range = range(1, 11)\n",
        "    times1 = []\n",
        "    times2 = []\n",
        "    for num_robots in num_robot_range:\n",
        "        print (\"Plotting\", num_robots, \"robots...\")\n",
        "        times1.append(run_simulation(num_robots, 1.0, 1, 20, 20, 3, 0.8, 20, StandardRobot))\n",
        "        times2.append(run_simulation(num_robots, 1.0, 1, 20, 20, 3, 0.8, 20, FaultyRobot))\n",
        "    pylab.plot(num_robot_range, times1)\n",
        "    pylab.plot(num_robot_range, times2)\n",
        "    pylab.title(title)\n",
        "    pylab.legend(('StandardRobot', 'FaultyRobot'))\n",
        "    pylab.xlabel(x_label)\n",
        "    pylab.ylabel(y_label)\n",
        "    pylab.show()\n",
        "    \n",
        "def show_plot_room_shape(title, x_label, y_label):\n",
        "    \"\"\"\n",
        "    Produces a plot showing dependence of cleaning time on room shape.\n",
        "    \"\"\"\n",
        "    aspect_ratios = []\n",
        "    times1 = []\n",
        "    times2 = []\n",
        "    for width in [10, 20, 25, 50]:\n",
        "        height = math.floor(300/width)\n",
        "        print (\"Plotting cleaning time for a room of width:\", width, \"by height:\", height)\n",
        "        aspect_ratios.append(float(width) / height)\n",
        "        times1.append(run_simulation(2, 1.0, 1, width, height, 3, 0.8, 200, StandardRobot))\n",
        "        times2.append(run_simulation(2, 1.0, 1, width, height, 3, 0.8, 200, FaultyRobot))\n",
        "    pylab.plot(aspect_ratios, times1)\n",
        "    pylab.plot(aspect_ratios, times2)\n",
        "    pylab.title(title)\n",
        "    pylab.legend(('StandardRobot', 'FaultyRobot'))\n",
        "    pylab.xlabel(x_label)\n",
        "    pylab.ylabel(y_label)\n",
        "    pylab.show()\n",
        "\n",
        "\n",
        "\n"
      ],
      "metadata": {
        "id": "t0qortc1ILZ8"
      },
      "execution_count": 98,
      "outputs": []
    },
    {
      "cell_type": "code",
      "source": [
        "show_plot_compare_strategies('Time to clean 80% of a 20x20 room, for various numbers of robots','Number of robots','Time / steps')"
      ],
      "metadata": {
        "colab": {
          "base_uri": "https://localhost:8080/",
          "height": 469
        },
        "id": "IpSfzZqqIOsr",
        "outputId": "a34efde1-f927-4b07-8a30-ed777eb40d8a"
      },
      "execution_count": 95,
      "outputs": [
        {
          "output_type": "stream",
          "name": "stdout",
          "text": [
            "Plotting 1 robots...\n",
            "Plotting 2 robots...\n",
            "Plotting 3 robots...\n",
            "Plotting 4 robots...\n",
            "Plotting 5 robots...\n",
            "Plotting 6 robots...\n",
            "Plotting 7 robots...\n",
            "Plotting 8 robots...\n",
            "Plotting 9 robots...\n",
            "Plotting 10 robots...\n"
          ]
        },
        {
          "output_type": "display_data",
          "data": {
            "text/plain": [
              "<Figure size 432x288 with 1 Axes>"
            ],
            "image/png": "[encoded data removed]"
          },
          "metadata": {
            "needs_background": "light"
          }
        }
      ]
    },
    {
      "cell_type": "code",
      "source": [
        "show_plot_room_shape('Time to clean 80% of a 300-tile room for various room shapes','Aspect Ratio', 'Time / steps')"
      ],
      "metadata": {
        "colab": {
          "base_uri": "https://localhost:8080/",
          "height": 364
        },
        "id": "8Jsyu2vbKBvk",
        "outputId": "cca21082-ea2a-486a-c6b6-3a2e55d10687"
      },
      "execution_count": 99,
      "outputs": [
        {
          "output_type": "stream",
          "name": "stdout",
          "text": [
            "Plotting cleaning time for a room of width: 10 by height: 30\n",
            "Plotting cleaning time for a room of width: 20 by height: 15\n",
            "Plotting cleaning time for a room of width: 25 by height: 12\n",
            "Plotting cleaning time for a room of width: 50 by height: 6\n"
          ]
        },
        {
          "output_type": "display_data",
          "data": {
            "text/plain": [
              "<Figure size 432x288 with 1 Axes>"
            ],
            "image/png": "[encoded data removed]"
          },
          "metadata": {
            "needs_background": "light"
          }
        }
      ]
    },
    {
      "cell_type": "code",
      "source": [
        ""
      ],
      "metadata": {
        "id": "Abk_aA8lMBaS"
      },
      "execution_count": null,
      "outputs": []
    }
  ]
}