{
  "nbformat": 4,
  "nbformat_minor": 0,
  "metadata": {
    "colab": {
      "provenance": []
    },
    "kernelspec": {
      "name": "python3",
      "display_name": "Python 3"
    },
    "language_info": {
      "name": "python"
    }
  },
  "cells": [
    {
      "cell_type": "markdown",
      "source": [
        "Given a list of items and n : number of items to be selected .Give the function for finding all possible groups of n items that can be selected."
      ],
      "metadata": {
        "id": "lZHKfqjSlWu0"
      }
    },
    {
      "cell_type": "code",
      "source": [
        "def test(L,n):\n",
        "    if len(L)==0:\n",
        "        return [[]],[]\n",
        "    else:\n",
        "        consider = L[-1:]\n",
        "        p,v=test(L[:-1],n)\n",
        "        new = []\n",
        "        for x in p:\n",
        "            if len(x + consider)==n:\n",
        "                v.append(x+consider)\n",
        "            else:\n",
        "                new.append(x+consider)\n",
        "        return p+new,v"
      ],
      "metadata": {
        "id": "cOVGyFbwlfkB"
      },
      "execution_count": 1,
      "outputs": []
    },
    {
      "cell_type": "code",
      "source": [
        "def combinations(L,n):\n",
        "  return test(L,n)[1]"
      ],
      "metadata": {
        "id": "6_Co22ssmMtm"
      },
      "execution_count": 3,
      "outputs": []
    },
    {
      "cell_type": "code",
      "source": [
        "Test = [i for i in range(10)]\n",
        "combinations(Test,3)"
      ],
      "metadata": {
        "colab": {
          "base_uri": "https://localhost:8080/"
        },
        "id": "jDTsGNjhl0dS",
        "outputId": "d52bc52c-faa6-4946-c282-b05f08383d78"
      },
      "execution_count": 4,
      "outputs": [
        {
          "output_type": "execute_result",
          "data": {
            "text/plain": [
              "[[0, 1, 2],\n",
              " [0, 1, 3],\n",
              " [0, 2, 3],\n",
              " [1, 2, 3],\n",
              " [0, 1, 4],\n",
              " [0, 2, 4],\n",
              " [1, 2, 4],\n",
              " [0, 3, 4],\n",
              " [1, 3, 4],\n",
              " [2, 3, 4],\n",
              " [0, 1, 5],\n",
              " [0, 2, 5],\n",
              " [1, 2, 5],\n",
              " [0, 3, 5],\n",
              " [1, 3, 5],\n",
              " [2, 3, 5],\n",
              " [0, 4, 5],\n",
              " [1, 4, 5],\n",
              " [2, 4, 5],\n",
              " [3, 4, 5],\n",
              " [0, 1, 6],\n",
              " [0, 2, 6],\n",
              " [1, 2, 6],\n",
              " [0, 3, 6],\n",
              " [1, 3, 6],\n",
              " [2, 3, 6],\n",
              " [0, 4, 6],\n",
              " [1, 4, 6],\n",
              " [2, 4, 6],\n",
              " [3, 4, 6],\n",
              " [0, 5, 6],\n",
              " [1, 5, 6],\n",
              " [2, 5, 6],\n",
              " [3, 5, 6],\n",
              " [4, 5, 6],\n",
              " [0, 1, 7],\n",
              " [0, 2, 7],\n",
              " [1, 2, 7],\n",
              " [0, 3, 7],\n",
              " [1, 3, 7],\n",
              " [2, 3, 7],\n",
              " [0, 4, 7],\n",
              " [1, 4, 7],\n",
              " [2, 4, 7],\n",
              " [3, 4, 7],\n",
              " [0, 5, 7],\n",
              " [1, 5, 7],\n",
              " [2, 5, 7],\n",
              " [3, 5, 7],\n",
              " [4, 5, 7],\n",
              " [0, 6, 7],\n",
              " [1, 6, 7],\n",
              " [2, 6, 7],\n",
              " [3, 6, 7],\n",
              " [4, 6, 7],\n",
              " [5, 6, 7],\n",
              " [0, 1, 8],\n",
              " [0, 2, 8],\n",
              " [1, 2, 8],\n",
              " [0, 3, 8],\n",
              " [1, 3, 8],\n",
              " [2, 3, 8],\n",
              " [0, 4, 8],\n",
              " [1, 4, 8],\n",
              " [2, 4, 8],\n",
              " [3, 4, 8],\n",
              " [0, 5, 8],\n",
              " [1, 5, 8],\n",
              " [2, 5, 8],\n",
              " [3, 5, 8],\n",
              " [4, 5, 8],\n",
              " [0, 6, 8],\n",
              " [1, 6, 8],\n",
              " [2, 6, 8],\n",
              " [3, 6, 8],\n",
              " [4, 6, 8],\n",
              " [5, 6, 8],\n",
              " [0, 7, 8],\n",
              " [1, 7, 8],\n",
              " [2, 7, 8],\n",
              " [3, 7, 8],\n",
              " [4, 7, 8],\n",
              " [5, 7, 8],\n",
              " [6, 7, 8],\n",
              " [0, 1, 9],\n",
              " [0, 2, 9],\n",
              " [1, 2, 9],\n",
              " [0, 3, 9],\n",
              " [1, 3, 9],\n",
              " [2, 3, 9],\n",
              " [0, 4, 9],\n",
              " [1, 4, 9],\n",
              " [2, 4, 9],\n",
              " [3, 4, 9],\n",
              " [0, 5, 9],\n",
              " [1, 5, 9],\n",
              " [2, 5, 9],\n",
              " [3, 5, 9],\n",
              " [4, 5, 9],\n",
              " [0, 6, 9],\n",
              " [1, 6, 9],\n",
              " [2, 6, 9],\n",
              " [3, 6, 9],\n",
              " [4, 6, 9],\n",
              " [5, 6, 9],\n",
              " [0, 7, 9],\n",
              " [1, 7, 9],\n",
              " [2, 7, 9],\n",
              " [3, 7, 9],\n",
              " [4, 7, 9],\n",
              " [5, 7, 9],\n",
              " [6, 7, 9],\n",
              " [0, 8, 9],\n",
              " [1, 8, 9],\n",
              " [2, 8, 9],\n",
              " [3, 8, 9],\n",
              " [4, 8, 9],\n",
              " [5, 8, 9],\n",
              " [6, 8, 9],\n",
              " [7, 8, 9]]"
            ]
          },
          "metadata": {},
          "execution_count": 4
        }
      ]
    },
    {
      "cell_type": "code",
      "source": [],
      "metadata": {
        "id": "MnPqCKvhl6Uu"
      },
      "execution_count": null,
      "outputs": []
    }
  ]
}