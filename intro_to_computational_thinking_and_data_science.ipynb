{
  "nbformat": 4,
  "nbformat_minor": 0,
  "metadata": {
    "colab": {
      "name": "intro_to_computational_thinking and data science",
      "provenance": [],
      "collapsed_sections": []
    },
    "kernelspec": {
      "name": "python3",
      "display_name": "Python 3"
    },
    "language_info": {
      "name": "python"
    }
  },
  "cells": [
    {
      "cell_type": "code",
      "execution_count": null,
      "metadata": {
        "id": "TgE9RoMqpxn8"
      },
      "outputs": [],
      "source": [
        "class Node(object):\n",
        "    def __init__(self, name):\n",
        "        \"\"\"Assumes name is a string\"\"\"\n",
        "        self.name = name\n",
        "    def getName(self):\n",
        "        return self.name\n",
        "    def __str__(self):\n",
        "        return self.name\n",
        "    def __repr__(self):\n",
        "        return self.name"
      ]
    },
    {
      "cell_type": "code",
      "source": [
        "class Edge(object):\n",
        "    def __init__(self, src, dest):\n",
        "        \"\"\"Assumes src and dest are nodes\"\"\"\n",
        "        self.src = src\n",
        "        self.dest = dest\n",
        "    def getSource(self):\n",
        "        return self.src\n",
        "    def getDestination(self):\n",
        "        return self.dest\n",
        "    def __str__(self):\n",
        "        return self.src.getName() + '->' + self.dest.getName()"
      ],
      "metadata": {
        "id": "i_5uPaL1huXo"
      },
      "execution_count": null,
      "outputs": []
    },
    {
      "cell_type": "code",
      "source": [
        "class Edge(object):\n",
        "    def __init__(self, src, dest,weight):\n",
        "        \"\"\"Assumes src and dest are nodes\"\"\"\n",
        "        self.src = src\n",
        "        self.dest = dest\n",
        "        self.weight = weight\n",
        "    def get_weight(self):\n",
        "      return self.weight\n",
        "    def getSource(self):\n",
        "        return self.src\n",
        "    def getDestination(self):\n",
        "        return self.dest\n",
        "    def __str__(self):\n",
        "        return self.src.getName() + '->' + self.dest.getName() + \" : \" + str(self.weight)"
      ],
      "metadata": {
        "id": "EUd4mEZiqIVS"
      },
      "execution_count": null,
      "outputs": []
    },
    {
      "cell_type": "code",
      "source": [
        "class Digraph(object):\n",
        "    \"\"\"edges is a dict mapping each node to a list of\n",
        "    its children\"\"\"\n",
        "    def __init__(self):\n",
        "        self.edges = {}\n",
        "    def addNode(self, node):\n",
        "        if node in self.edges:\n",
        "            raise ValueError('Duplicate node')\n",
        "        else:\n",
        "            self.edges[node] = []\n",
        "    def addEdge(self, edge):\n",
        "        src = edge.getSource()\n",
        "        dest = edge.getDestination()\n",
        "        weight = edge.get_weight()\n",
        "        if not (src in self.edges and dest in self.edges):\n",
        "            raise ValueError('Node not in graph')\n",
        "        self.edges[src].append((dest,weight))\n",
        "    def childrenOf(self, node):\n",
        "        return self.edges[node]\n",
        "    def hasNode(self, node):\n",
        "        return node in self.edges\n",
        "    def Weight(self,node1,node2=None):\n",
        "      for i in self.edges :\n",
        "        if i == node1:\n",
        "          for j in self.edges[i]:\n",
        "            if j[0]==node2:\n",
        "              return j[1]\n",
        "    def getNode(self, name):\n",
        "        for n in self.edges:\n",
        "            if n.getName() == name:\n",
        "                return n\n",
        "        raise NameError(name)\n",
        "    def __str__(self):\n",
        "        result = ''\n",
        "        for src in self.edges:\n",
        "            for i in self.edges[src]:\n",
        "                result = result + src.getName() + '->'\\\n",
        "                         + i[0].getName() + '(' + str(i[1]) + ')'  + '\\n'\n",
        "        return result[:-1] #omit final newline\n",
        "\n",
        "class digraph(object):\n",
        "    \"\"\"edges is a dict mapping each node to a list of\n",
        "    its children\"\"\"\n",
        "    def __init__(self):\n",
        "        self.edges = {}\n",
        "    def addNode(self, node):\n",
        "        if node in self.edges:\n",
        "            raise ValueError('Duplicate node')\n",
        "        else:\n",
        "            self.edges[node] = []\n",
        "    def addEdge(self, edge):\n",
        "        src = edge.getSource()\n",
        "        dest = edge.getDestination()\n",
        "        if not (src in self.edges and dest in self.edges):\n",
        "            raise ValueError('Node not in graph')\n",
        "        self.edges[src].append(dest)\n",
        "    def childrenOf(self, node):\n",
        "        return self.edges[node]\n",
        "    def hasNode(self, node):\n",
        "        return node in self.edges\n",
        "    def getNode(self, name):\n",
        "        for n in self.edges:\n",
        "            if n.getName() == name:\n",
        "                return n\n",
        "        raise NameError(name)\n",
        "    def __str__(self):\n",
        "        result = ''\n",
        "        for src in self.edges:\n",
        "            for dest in self.edges[src]:\n",
        "                result = result + src.getName() + '->'\\\n",
        "                         + dest.getName() + '\\n'\n",
        "        return result[:-1] #omit final newline"
      ],
      "metadata": {
        "id": "RwO5UqNLq8Y6"
      },
      "execution_count": null,
      "outputs": []
    },
    {
      "cell_type": "code",
      "source": [
        "def buildCityGraph(graphType):\n",
        "    g = graphType()\n",
        "    for name in ('Boston', 'Providence', 'New York', 'Chicago',\n",
        "                 'Denver', 'Phoenix', 'Los Angeles'): #Create 7 nodes\n",
        "        g.addNode(Node(name))\n",
        "    g.addEdge(Edge(g.getNode('Boston'), g.getNode('Providence'),5))\n",
        "    g.addEdge(Edge(g.getNode('Boston'), g.getNode('New York'),10))\n",
        "    g.addEdge(Edge(g.getNode('Providence'), g.getNode('Boston'),7))\n",
        "    g.addEdge(Edge(g.getNode('Providence'), g.getNode('New York'),3))\n",
        "    g.addEdge(Edge(g.getNode('New York'), g.getNode('Chicago'),7))\n",
        "    g.addEdge(Edge(g.getNode('Chicago'), g.getNode('Denver'),8))\n",
        "    g.addEdge(Edge(g.getNode('Chicago'), g.getNode('Phoenix'),50))\n",
        "    g.addEdge(Edge(g.getNode('Denver'), g.getNode('Phoenix'),5))\n",
        "    g.addEdge(Edge(g.getNode('Denver'), g.getNode('New York'),7))\n",
        "    g.addEdge(Edge(g.getNode('Los Angeles'), g.getNode('Boston'),4))\n",
        "    return g\n",
        "map = buildCityGraph(Digraph)\n"
      ],
      "metadata": {
        "id": "xcqN_RwZrwjY"
      },
      "execution_count": null,
      "outputs": []
    },
    {
      "cell_type": "code",
      "source": [
        "def weight_count(path):\n",
        "  if len(path)==1 :\n",
        "    return 0 \n",
        "  x = 0\n",
        "  for i in range(len(path)-1):\n",
        "    x+=map.Weight(path[i],path[i+1])\n",
        "  return x\n",
        "    "
      ],
      "metadata": {
        "id": "sxZglqNWx0lo"
      },
      "execution_count": null,
      "outputs": []
    },
    {
      "cell_type": "code",
      "source": [
        "def printPath(path):\n",
        "    \"\"\"Assumes path is a list of nodes\"\"\"\n",
        "    result = ''\n",
        "    for i in range(len(path)):\n",
        "        result = result + str(path[i])\n",
        "        if i != len(path) - 1:\n",
        "            result = result + '->'\n",
        "    return result "
      ],
      "metadata": {
        "id": "n-kJTuU8tV43"
      },
      "execution_count": null,
      "outputs": []
    },
    {
      "cell_type": "code",
      "source": [
        "print(map)"
      ],
      "metadata": {
        "id": "o3jHk_GiwQv9",
        "colab": {
          "base_uri": "https://localhost:8080/"
        },
        "outputId": "424c5137-75be-47e1-d1de-69ef72217781"
      },
      "execution_count": null,
      "outputs": [
        {
          "output_type": "stream",
          "name": "stdout",
          "text": [
            "Boston->Providence(5)\n",
            "Boston->New York(10)\n",
            "Providence->Boston(7)\n",
            "Providence->New York(3)\n",
            "New York->Chicago(7)\n",
            "Chicago->Denver(8)\n",
            "Chicago->Phoenix(50)\n",
            "Denver->Phoenix(5)\n",
            "Denver->New York(7)\n",
            "Los Angeles->Boston(4)\n"
          ]
        }
      ]
    },
    {
      "cell_type": "code",
      "source": [
        "def DFS(graph, start, end, path, shortest, toPrint = False):\n",
        "    \"\"\"Assumes graph is a Digraph; start and end are nodes;\n",
        "          path and shortest are lists of nodes\n",
        "       Returns a shortest path from start to end in graph\"\"\"\n",
        "    path = path + [start]\n",
        "    if toPrint:\n",
        "        print('Current DFS path:', printPath(path))\n",
        "    if start == end:\n",
        "        return path\n",
        "    for node in graph.childrenOf(start):\n",
        "        if node not in path: #avoid cycles\n",
        "            if shortest == None or len(path) < len(shortest):\n",
        "                newPath = DFS(graph, node, end, path, shortest,\n",
        "                              toPrint)\n",
        "                if newPath != None:\n",
        "                    shortest = newPath\n",
        "        elif toPrint:\n",
        "            print('Already visited', node)\n",
        "    return shortest"
      ],
      "metadata": {
        "id": "nzxFmQr3r_4x"
      },
      "execution_count": null,
      "outputs": []
    },
    {
      "cell_type": "code",
      "source": [
        "def f(graph,start,end,path=[],valid=None,shortest=None):\n",
        "  path= path + [start]\n",
        "  if start==end:\n",
        "    return path\n",
        "  for node in graph.childrenOf(start):\n",
        "    if node[0] not in path:\n",
        "      if shortest == None:\n",
        "        np = f(graph,node[0],end,path,valid,shortest)\n",
        "        if np!= None:\n",
        "          shortest = np\n",
        "      else :\n",
        "        np = f(graph,node[0],end,path,valid,shortest)\n",
        "        if np != None:\n",
        "          valid= np\n",
        "        if weight_count(valid)<weight_count(shortest):\n",
        "          shortest = valid\n",
        "  return shortest"
      ],
      "metadata": {
        "id": "1ZKX98Y9vz9z"
      },
      "execution_count": null,
      "outputs": []
    },
    {
      "cell_type": "markdown",
      "source": [
        "The below code  is a modification and doesnt require another variable 'valid' : edit made later "
      ],
      "metadata": {
        "id": "rRX1U397FTCt"
      }
    },
    {
      "cell_type": "code",
      "source": [
        "def test_function(graph,start,end,path=[],shortest=None):\n",
        "  path= path + [start]\n",
        "  if start==end:\n",
        "    return path\n",
        "  for node in graph.childrenOf(start):\n",
        "    if node[0] not in path:\n",
        "      if shortest == None:\n",
        "        np = test_function(graph,node[0],end,path,shortest)\n",
        "        if np!= None:\n",
        "          shortest = np\n",
        "      else :\n",
        "        if weight_count(path)<weight_count(shortest):\n",
        "          np = test_function(graph,node[0],end,path,shortest)\n",
        "          if np != None:\n",
        "            if weight_count(np)<weight_count(shortest):\n",
        "              shortest = np\n",
        "  return shortest"
      ],
      "metadata": {
        "id": "yILcRP5VEn1E"
      },
      "execution_count": null,
      "outputs": []
    },
    {
      "cell_type": "code",
      "source": [
        "printPath(f(map,map.getNode('Boston'),map.getNode('Phoenix')))"
      ],
      "metadata": {
        "id": "us4NQhnAzDYL",
        "colab": {
          "base_uri": "https://localhost:8080/",
          "height": 35
        },
        "outputId": "db8b3209-0f68-4bd7-ca4f-54c134338ef4"
      },
      "execution_count": null,
      "outputs": [
        {
          "output_type": "execute_result",
          "data": {
            "text/plain": [
              "'Boston->Providence->New York->Chicago->Denver->Phoenix'"
            ],
            "application/vnd.google.colaboratory.intrinsic+json": {
              "type": "string"
            }
          },
          "metadata": {},
          "execution_count": 47
        }
      ]
    },
    {
      "cell_type": "code",
      "source": [
        "printPath(test_function(map,map.getNode('Boston'),map.getNode('Phoenix')))"
      ],
      "metadata": {
        "colab": {
          "base_uri": "https://localhost:8080/",
          "height": 35
        },
        "id": "nLr5YS_NE4Yu",
        "outputId": "0ed47497-235c-4cfa-b136-25f5f65d328b"
      },
      "execution_count": null,
      "outputs": [
        {
          "output_type": "execute_result",
          "data": {
            "text/plain": [
              "'Boston->Providence->New York->Chicago->Denver->Phoenix'"
            ],
            "application/vnd.google.colaboratory.intrinsic+json": {
              "type": "string"
            }
          },
          "metadata": {},
          "execution_count": 48
        }
      ]
    },
    {
      "cell_type": "code",
      "source": [
        "map.edges"
      ],
      "metadata": {
        "colab": {
          "base_uri": "https://localhost:8080/"
        },
        "id": "APO0YTaxambl",
        "outputId": "5cfd28e4-2653-4aef-e15f-2d61e53466eb"
      },
      "execution_count": null,
      "outputs": [
        {
          "output_type": "execute_result",
          "data": {
            "text/plain": [
              "{Boston: [(Providence, 5), (New York, 10)],\n",
              " Chicago: [(Denver, 8), (Phoenix, 50)],\n",
              " Denver: [(Phoenix, 5), (New York, 7)],\n",
              " Los Angeles: [(Boston, 4)],\n",
              " New York: [(Chicago, 7)],\n",
              " Phoenix: [],\n",
              " Providence: [(Boston, 7), (New York, 3)]}"
            ]
          },
          "metadata": {},
          "execution_count": 14
        }
      ]
    },
    {
      "cell_type": "code",
      "source": [
        "def load_cows(filename):\n",
        "    cow_dict = {}\n",
        "    f = open(filename, 'r')\n",
        "    for line in f:\n",
        "        line_data = line.split(',')\n",
        "        cow_dict[line_data[0]] = int(line_data[1])\n",
        "    return cow_dict"
      ],
      "metadata": {
        "id": "Uj49Fhli5w0w"
      },
      "execution_count": null,
      "outputs": []
    },
    {
      "cell_type": "code",
      "source": [
        "dict = load_cows('/ps1_cow_data.txt')\n"
      ],
      "metadata": {
        "id": "0WpyaNns6qPj"
      },
      "execution_count": null,
      "outputs": []
    },
    {
      "cell_type": "code",
      "source": [
        "class Cow(object):\n",
        "  def __init__(self,name,weight):\n",
        "    self.name = name\n",
        "    self.weight = weight \n",
        "  def name(self):\n",
        "    return self.name\n",
        "  def weight(self):\n",
        "    return self.weight\n",
        "  def __str__(self):\n",
        "    return str(self.name) + \" : \" + str(self.weight)"
      ],
      "metadata": {
        "id": "5SvK0LEd8_-T"
      },
      "execution_count": null,
      "outputs": []
    },
    {
      "cell_type": "markdown",
      "source": [
        "Draft code for a simpler example which will be later modified to account for cow class objects"
      ],
      "metadata": {
        "id": "pvq7AM_FaZNo"
      }
    },
    {
      "cell_type": "code",
      "source": [
        "list = [8,7,7.3,6.4,6,5,4,4,3]\n",
        "def f(list,limit):\n",
        "  res,work_list = [],[]\n",
        "  trp_count = 0 \n",
        "  for i in list:\n",
        "    if  i <= limit:\n",
        "      work_list.append(i)\n",
        "  while len(work_list)!=0:\n",
        "    trp_count += 1 \n",
        "    count = 0 \n",
        "    case_wise = []\n",
        "    for i in work_list:\n",
        "      count += i \n",
        "      if count <= limit:\n",
        "        case_wise.append(i)\n",
        "    for i in case_wise:\n",
        "      work_list.remove(i)\n",
        "    res.append(case_wise)\n",
        "  return (trp_count,res)\n",
        "\n",
        "f(list,10)"
      ],
      "metadata": {
        "id": "_-gAsF64aW3s",
        "colab": {
          "base_uri": "https://localhost:8080/"
        },
        "outputId": "f4ab6d28-cb06-4011-cdf3-ca7128434f84"
      },
      "execution_count": null,
      "outputs": [
        {
          "output_type": "execute_result",
          "data": {
            "text/plain": [
              "(7, [[8], [7], [7.3], [6.4], [6], [5, 4], [4, 3]])"
            ]
          },
          "metadata": {},
          "execution_count": 18
        }
      ]
    },
    {
      "cell_type": "markdown",
      "source": [
        "Final code that accounts for cow class objects"
      ],
      "metadata": {
        "id": "9HKmwmLQh-KQ"
      }
    },
    {
      "cell_type": "code",
      "source": [
        "def greedy_cows(dict,limit): \n",
        "  List_of_cows,work_list =[],[]\n",
        "  res = []\n",
        "  trp_count = 0 \n",
        "  for i in dict.keys():\n",
        "    List_of_cows.append(Cow(i,dict[i]))\n",
        "  list = sorted(List_of_cows,key = Cow.weight,reverse = True)\n",
        "  for i in list:\n",
        "    if i.weight <= limit:\n",
        "      work_list.append( i)\n",
        "  while len(work_list) != 0 :\n",
        "    trp_count += 1\n",
        "    case_wise = []\n",
        "    case_i = []\n",
        "    count = 0 \n",
        "    for i in work_list:\n",
        "      count += i.weight\n",
        "      if count <= limit :\n",
        "        case_wise.append((i.name,i.weight))\n",
        "        case_i.append(i)\n",
        "    for i in case_i:\n",
        "      work_list.remove(i)\n",
        "    res.append(case_wise)\n",
        "  return (trp_count , res)    \n"
      ],
      "metadata": {
        "id": "SP2jZMfVdXf_"
      },
      "execution_count": null,
      "outputs": []
    },
    {
      "cell_type": "code",
      "source": [
        "greedy_cows(dict,10)"
      ],
      "metadata": {
        "id": "J6dNbulIgQ4_",
        "colab": {
          "base_uri": "https://localhost:8080/"
        },
        "outputId": "80ce7b36-0405-474d-b0c4-530eb0c6cb89"
      },
      "execution_count": null,
      "outputs": [
        {
          "output_type": "execute_result",
          "data": {
            "text/plain": [
              "(6,\n",
              " [[('Betsy', 9)],\n",
              "  [('Henrietta', 9)],\n",
              "  [('Herman', 7)],\n",
              "  [('Oreo', 6)],\n",
              "  [('Millie', 5), ('Maggie', 3)],\n",
              "  [('Moo Moo', 3), ('Milkshake', 2), ('Lola', 2), ('Florence', 2)]])"
            ]
          },
          "metadata": {},
          "execution_count": 20
        }
      ]
    },
    {
      "cell_type": "code",
      "source": [
        "dict"
      ],
      "metadata": {
        "id": "TIGvpx5dhyCs",
        "colab": {
          "base_uri": "https://localhost:8080/"
        },
        "outputId": "079851d3-781c-430a-ce61-b8672c27cd72"
      },
      "execution_count": null,
      "outputs": [
        {
          "output_type": "execute_result",
          "data": {
            "text/plain": [
              "{'Betsy': 9,\n",
              " 'Florence': 2,\n",
              " 'Henrietta': 9,\n",
              " 'Herman': 7,\n",
              " 'Lola': 2,\n",
              " 'Maggie': 3,\n",
              " 'Milkshake': 2,\n",
              " 'Millie': 5,\n",
              " 'Moo Moo': 3,\n",
              " 'Oreo': 6}"
            ]
          },
          "metadata": {},
          "execution_count": 21
        }
      ]
    },
    {
      "cell_type": "code",
      "source": [
        "List = sorted([9,2,9,7,2,3,2,5,3,6],reverse = True)\n",
        "f(List,9)"
      ],
      "metadata": {
        "id": "q3DPjNl2kFp0",
        "colab": {
          "base_uri": "https://localhost:8080/"
        },
        "outputId": "f56bafe1-3e9a-4575-9af5-29b097bc5a5c"
      },
      "execution_count": null,
      "outputs": [
        {
          "output_type": "execute_result",
          "data": {
            "text/plain": [
              "(6, [[9], [9], [7], [6], [5, 3], [3, 2, 2, 2]])"
            ]
          },
          "metadata": {},
          "execution_count": 22
        }
      ]
    },
    {
      "cell_type": "markdown",
      "source": [
        "Hence the greedy algorithm works "
      ],
      "metadata": {
        "id": "y5L2alQskmhH"
      }
    },
    {
      "cell_type": "markdown",
      "source": [
        "Brute Force Algorithm "
      ],
      "metadata": {
        "id": "SyySYqmnf2AR"
      }
    },
    {
      "cell_type": "code",
      "source": [
        "def partitions(set_):\n",
        "    if not set_:\n",
        "        yield []\n",
        "        return\n",
        "    for i in range(2**len(set_)//2):\n",
        "        parts = [set(), set()]\n",
        "        for item in set_:\n",
        "            parts[i&1].add(item)\n",
        "            i >>= 1\n",
        "        for b in partitions(parts[1]):\n",
        "            yield [parts[0]]+b\n",
        "def get_partitions(set_):\n",
        "    for partition in partitions(set_):\n",
        "        yield [list(elt) for elt in partition]"
      ],
      "metadata": {
        "id": "Ju7OsIH9f54i"
      },
      "execution_count": null,
      "outputs": []
    },
    {
      "cell_type": "code",
      "source": [
        "for i in partitions([1,2,3,4]):\n",
        "  print(i)"
      ],
      "metadata": {
        "id": "AlAmmXvYdkXd",
        "colab": {
          "base_uri": "https://localhost:8080/"
        },
        "outputId": "86194249-5e07-40b5-8c71-0b54befcdd99"
      },
      "execution_count": null,
      "outputs": [
        {
          "output_type": "stream",
          "name": "stdout",
          "text": [
            "[{1, 2, 3, 4}]\n",
            "[{2, 3, 4}, {1}]\n",
            "[{1, 3, 4}, {2}]\n",
            "[{3, 4}, {1, 2}]\n",
            "[{3, 4}, {2}, {1}]\n",
            "[{1, 2, 4}, {3}]\n",
            "[{2, 4}, {1, 3}]\n",
            "[{2, 4}, {3}, {1}]\n",
            "[{1, 4}, {2, 3}]\n",
            "[{1, 4}, {3}, {2}]\n",
            "[{4}, {1, 2, 3}]\n",
            "[{4}, {2, 3}, {1}]\n",
            "[{4}, {1, 3}, {2}]\n",
            "[{4}, {3}, {1, 2}]\n",
            "[{4}, {3}, {2}, {1}]\n"
          ]
        }
      ]
    },
    {
      "cell_type": "markdown",
      "source": [
        "It was found that when the list given had two same values in it , the output excludes one of the values in some tuples where it should have been ."
      ],
      "metadata": {
        "id": "gZD-repgdqNS"
      }
    },
    {
      "cell_type": "code",
      "source": [
        "for i in partitions([1,2,4,4]):\n",
        "  print(i)"
      ],
      "metadata": {
        "id": "ziHz73lXVAIM",
        "colab": {
          "base_uri": "https://localhost:8080/"
        },
        "outputId": "aecd0cf5-2793-4548-c02b-26dd30d3f3f0"
      },
      "execution_count": null,
      "outputs": [
        {
          "output_type": "stream",
          "name": "stdout",
          "text": [
            "[{1, 2, 4}]\n",
            "[{2, 4}, {1}]\n",
            "[{1, 4}, {2}]\n",
            "[{4}, {1, 2}]\n",
            "[{4}, {2}, {1}]\n",
            "[{1, 2, 4}, {4}]\n",
            "[{2, 4}, {1, 4}]\n",
            "[{2, 4}, {4}, {1}]\n",
            "[{1, 4}, {2, 4}]\n",
            "[{1, 4}, {4}, {2}]\n",
            "[{4}, {1, 2, 4}]\n",
            "[{4}, {2, 4}, {1}]\n",
            "[{4}, {1, 4}, {2}]\n",
            "[{4}, {4}, {1, 2}]\n",
            "[{4}, {4}, {2}, {1}]\n"
          ]
        }
      ]
    },
    {
      "cell_type": "markdown",
      "source": [
        "The below function gives all the valid ways in which the load can  be transported while holding the limit for single transport in each list."
      ],
      "metadata": {
        "id": "ZeedQyX6kjFL"
      }
    },
    {
      "cell_type": "code",
      "source": [
        "def brute_force(list,limit):\n",
        "  List = []\n",
        "  for i in list:\n",
        "    if i <= limit:\n",
        "      List.append(i)\n",
        "  def recursion(list,limit):\n",
        "    if list==[]:\n",
        "      return True\n",
        "    return (sum(list[0]) <= limit) and recursion(list[1:],limit)\n",
        "  result = []\n",
        "  for i in partitions(List):\n",
        "    if recursion(i,limit):\n",
        "      result.append(i)\n",
        "  return result\n",
        "\n"
      ],
      "metadata": {
        "id": "zpBUpDkiUkOW"
      },
      "execution_count": null,
      "outputs": []
    },
    {
      "cell_type": "markdown",
      "source": [
        "Building up on that , The below function now provides the  valid list having the smallest number of trips\n"
      ],
      "metadata": {
        "id": "YCZ2dSVvkxJ1"
      }
    },
    {
      "cell_type": "code",
      "source": [
        "def brute_force(list,limit):\n",
        "  List = []\n",
        "  for i in list:\n",
        "    if i <= limit:\n",
        "      List.append(i)\n",
        "  def recursion(list,limit):\n",
        "    if list==[]:\n",
        "      return True\n",
        "    return (sum(list[0]) <= limit) and recursion(list[1:],limit)\n",
        "  result,ref = [],[]\n",
        "  for i in partitions(List):\n",
        "    if recursion(i,limit):\n",
        "      result.append(i)\n",
        "  dict = {}\n",
        "  for i in result:\n",
        "    dict[len(i)] = i \n",
        "  for i in result:\n",
        "    if len(i) not in ref:\n",
        "      ref.append(len(i))\n",
        "  return dict[sorted(ref)[0]]\n",
        "  \n",
        "  \n",
        "brute_force([1,2,3,4,5,100],107)\n"
      ],
      "metadata": {
        "id": "Cbt-MN2OXNZ8",
        "colab": {
          "base_uri": "https://localhost:8080/"
        },
        "outputId": "c2cedf77-1679-44f3-93aa-6c5283545224"
      },
      "execution_count": null,
      "outputs": [
        {
          "output_type": "execute_result",
          "data": {
            "text/plain": [
              "[{100}, {1, 2, 3, 4, 5}]"
            ]
          },
          "metadata": {},
          "execution_count": 27
        }
      ]
    },
    {
      "cell_type": "markdown",
      "source": [
        "Now that we have build functions for simpler versions of problems , we shall write a function that takes names instead of a list of numbers."
      ],
      "metadata": {
        "id": "JWxS06zuk9ja"
      }
    },
    {
      "cell_type": "code",
      "source": [
        "names = []\n",
        "for i in dict.keys():\n",
        "  names.append(i)\n",
        "names"
      ],
      "metadata": {
        "id": "7qgN4vrKmtiR",
        "colab": {
          "base_uri": "https://localhost:8080/"
        },
        "outputId": "ed948f66-351e-4e3e-dead-03e398a9d6ee"
      },
      "execution_count": null,
      "outputs": [
        {
          "output_type": "execute_result",
          "data": {
            "text/plain": [
              "['Maggie',\n",
              " 'Herman',\n",
              " 'Betsy',\n",
              " 'Oreo',\n",
              " 'Moo Moo',\n",
              " 'Milkshake',\n",
              " 'Millie',\n",
              " 'Lola',\n",
              " 'Florence',\n",
              " 'Henrietta']"
            ]
          },
          "metadata": {},
          "execution_count": 28
        }
      ]
    },
    {
      "cell_type": "code",
      "source": [
        "dict"
      ],
      "metadata": {
        "id": "XskHsiIsXW1a",
        "colab": {
          "base_uri": "https://localhost:8080/"
        },
        "outputId": "503916ed-e3c4-4c9a-b875-1ce9c92ed845"
      },
      "execution_count": null,
      "outputs": [
        {
          "output_type": "execute_result",
          "data": {
            "text/plain": [
              "{'Betsy': 9,\n",
              " 'Florence': 2,\n",
              " 'Henrietta': 9,\n",
              " 'Herman': 7,\n",
              " 'Lola': 2,\n",
              " 'Maggie': 3,\n",
              " 'Milkshake': 2,\n",
              " 'Millie': 5,\n",
              " 'Moo Moo': 3,\n",
              " 'Oreo': 6}"
            ]
          },
          "metadata": {},
          "execution_count": 29
        }
      ]
    },
    {
      "cell_type": "code",
      "source": [
        "def dict_weight(list):\n",
        "  count = 0 \n",
        "  for i in list:\n",
        "    count += dict[i]\n",
        "  return count\n"
      ],
      "metadata": {
        "id": "x7MxzbPAnDC4"
      },
      "execution_count": null,
      "outputs": []
    },
    {
      "cell_type": "code",
      "source": [
        "def Recursion_weight(list,limit):\n",
        "  if list ==[]:\n",
        "    return True\n",
        "  return dict_weight(list[0])<=limit and Recursion_weight(list[1:],limit)"
      ],
      "metadata": {
        "id": "dDNf6UW6W2my"
      },
      "execution_count": null,
      "outputs": []
    },
    {
      "cell_type": "code",
      "source": [
        "for p in partitions(['Maggie','Herman','Betsy']):\n",
        "  print(Recursion_weight(p,12))"
      ],
      "metadata": {
        "id": "0lFxpOzbYGGx",
        "colab": {
          "base_uri": "https://localhost:8080/"
        },
        "outputId": "45283511-c444-40e1-ef71-1bca68b59d6c"
      },
      "execution_count": null,
      "outputs": [
        {
          "output_type": "stream",
          "name": "stdout",
          "text": [
            "False\n",
            "False\n",
            "True\n",
            "True\n",
            "True\n"
          ]
        }
      ]
    },
    {
      "cell_type": "code",
      "source": [
        "for p in partitions(['Maggie','Herman','Betsy']):\n",
        "  print(p)"
      ],
      "metadata": {
        "id": "uL5kgd8WYUbk",
        "colab": {
          "base_uri": "https://localhost:8080/"
        },
        "outputId": "a0e54de7-c8ac-44bb-f0e2-bb41dd583425"
      },
      "execution_count": null,
      "outputs": [
        {
          "output_type": "stream",
          "name": "stdout",
          "text": [
            "[{'Betsy', 'Herman', 'Maggie'}]\n",
            "[{'Betsy', 'Herman'}, {'Maggie'}]\n",
            "[{'Betsy', 'Maggie'}, {'Herman'}]\n",
            "[{'Betsy'}, {'Maggie', 'Herman'}]\n",
            "[{'Betsy'}, {'Maggie'}, {'Herman'}]\n"
          ]
        }
      ]
    },
    {
      "cell_type": "code",
      "source": [
        "def brute_force(list,limit):\n",
        "  List = []\n",
        "  for i in list:\n",
        "    if dict[i] <= limit:\n",
        "      List.append(i)\n",
        "  def dict_weight(list):\n",
        "    count = 0 \n",
        "    for i in list:\n",
        "      count += dict[i]\n",
        "    return count\n",
        "  def Recursion_weight(list,limit):\n",
        "    if list ==[]:\n",
        "      return True\n",
        "    return dict_weight(list[0])<=limit and Recursion_weight(list[1:],limit)\n",
        "  result,ref = [],[]\n",
        "  for i in partitions(List):\n",
        "    if Recursion_weight(i,limit):\n",
        "      result.append(i)\n",
        "  Dict = {}\n",
        "  for i in result:\n",
        "    Dict[len(i)] = i \n",
        "  for i in result:\n",
        "    if len(i) not in ref:\n",
        "      ref.append(len(i))\n",
        "  return Dict[sorted(ref)[0]]"
      ],
      "metadata": {
        "id": "cnbBzlAJYm8H"
      },
      "execution_count": null,
      "outputs": []
    },
    {
      "cell_type": "code",
      "source": [
        "brute_force(names,10)"
      ],
      "metadata": {
        "id": "gHE8m3Oleucx",
        "colab": {
          "base_uri": "https://localhost:8080/"
        },
        "outputId": "bae76dcf-a8b3-4c9d-e600-05b50610f872"
      },
      "execution_count": null,
      "outputs": [
        {
          "output_type": "execute_result",
          "data": {
            "text/plain": [
              "[{'Henrietta'},\n",
              " {'Florence', 'Millie', 'Moo Moo'},\n",
              " {'Herman', 'Maggie'},\n",
              " {'Lola', 'Milkshake', 'Oreo'},\n",
              " {'Betsy'}]"
            ]
          },
          "metadata": {},
          "execution_count": 35
        }
      ]
    },
    {
      "cell_type": "code",
      "source": [
        "dict"
      ],
      "metadata": {
        "id": "UNB62aRHcMHc",
        "colab": {
          "base_uri": "https://localhost:8080/"
        },
        "outputId": "995a8459-14ab-47dc-ae59-e2f652a2d6c0"
      },
      "execution_count": null,
      "outputs": [
        {
          "output_type": "execute_result",
          "data": {
            "text/plain": [
              "{'Betsy': 9,\n",
              " 'Florence': 2,\n",
              " 'Henrietta': 9,\n",
              " 'Herman': 7,\n",
              " 'Lola': 2,\n",
              " 'Maggie': 3,\n",
              " 'Milkshake': 2,\n",
              " 'Millie': 5,\n",
              " 'Moo Moo': 3,\n",
              " 'Oreo': 6}"
            ]
          },
          "metadata": {},
          "execution_count": 36
        }
      ]
    },
    {
      "cell_type": "code",
      "source": [
        "import time"
      ],
      "metadata": {
        "id": "N7iq2UsYgb5k"
      },
      "execution_count": null,
      "outputs": []
    },
    {
      "cell_type": "code",
      "source": [
        "def compare_cow_transport_algorithms():\n",
        "  start = time.time()\n",
        "  brute_force(names,10)\n",
        "  end = time.time()\n",
        "  res = end-start\n",
        "  print(res)\n",
        "  print('--------------------------------------------')\n",
        "  start = time.time()\n",
        "  greedy_cows(dict,10)\n",
        "  end = time.time()\n",
        "  res = end-start\n",
        "  print(res)\n",
        "\n",
        "\n"
      ],
      "metadata": {
        "id": "9NscId8be3vR"
      },
      "execution_count": null,
      "outputs": []
    },
    {
      "cell_type": "code",
      "source": [
        "compare_cow_transport_algorithms()"
      ],
      "metadata": {
        "id": "AyX0ng5qg7Q4",
        "colab": {
          "base_uri": "https://localhost:8080/"
        },
        "outputId": "c5e5108e-b9b7-4b4f-9dbb-975c1cdff2d2"
      },
      "execution_count": null,
      "outputs": [
        {
          "output_type": "stream",
          "name": "stdout",
          "text": [
            "0.6123037338256836\n",
            "--------------------------------------------\n",
            "3.5762786865234375e-05\n"
          ]
        }
      ]
    },
    {
      "cell_type": "markdown",
      "source": [
        "We see that the greedy algorithm runs faster , however the solution isnt the best while brute force takes longer time but provides the correct output ."
      ],
      "metadata": {
        "id": "1TN3ZnnGhbax"
      }
    },
    {
      "cell_type": "markdown",
      "source": [
        "PART 2 "
      ],
      "metadata": {
        "id": "w5RdrGmw1PT3"
      }
    },
    {
      "cell_type": "code",
      "source": [
        "class Egg(object):\n",
        "  def __init__(self,name,weight,volume):\n",
        "    self.name = name\n",
        "    self.weight = weight\n",
        "    self.volume = volume \n",
        "  def get_weight(self):\n",
        "    return self.name\n",
        "  def get_name(self):\n",
        "    return self.name\n",
        "  def get_volume(self):\n",
        "    return self.volume\n",
        "  def __str__(self):\n",
        "    return str(self.name) + ' : ' + 'weight : ' + str(self.weight) + \" : volume : \" + str(self.volume)  "
      ],
      "metadata": {
        "id": "FSFVDe5v1RG1"
      },
      "execution_count": null,
      "outputs": []
    },
    {
      "cell_type": "code",
      "source": [
        "\n",
        "def dp_make_weight(egg_weights, target_weight):\n",
        "  if egg_weights==() or target_weight == 0 :\n",
        "    return  0\n",
        "  elif egg_weights[0]>target_weight:\n",
        "    return dp_make_weight(egg_weights[1:],target_weight)\n",
        "  else:\n",
        "    considered = egg_weights[0]\n",
        "    plus_factor = target_weight//considered\n",
        "    with_considered = dp_make_weight(egg_weights[1:],target_weight % considered )\n",
        "    not_considered = dp_make_weight(egg_weights[1:],target_weight)\n",
        "    if with_considered == 0 and not_considered == 0 :\n",
        "      return plus_factor\n",
        "    with_considered += plus_factor\n",
        "    if with_considered < not_considered : \n",
        "      return with_considered\n",
        "    else:\n",
        "      return not_considered   "
      ],
      "metadata": {
        "id": "1VZUP6wR2_4d"
      },
      "execution_count": null,
      "outputs": []
    },
    {
      "cell_type": "code",
      "source": [
        "dp_make_weight((11,9,5,4,1),50)"
      ],
      "metadata": {
        "id": "gimfZe8OI1YX",
        "colab": {
          "base_uri": "https://localhost:8080/"
        },
        "outputId": "ee2cc20a-7a03-41eb-83c9-c191e30e18cc"
      },
      "execution_count": null,
      "outputs": [
        {
          "output_type": "execute_result",
          "data": {
            "text/plain": [
              "6"
            ]
          },
          "metadata": {},
          "execution_count": 42
        }
      ]
    },
    {
      "cell_type": "code",
      "source": [
        "dp_make_weight((25,10,5,1),99)"
      ],
      "metadata": {
        "id": "z-JgR8gBdnhC",
        "colab": {
          "base_uri": "https://localhost:8080/"
        },
        "outputId": "d5e38063-8fc6-4092-f931-a187c0caf3f1"
      },
      "execution_count": null,
      "outputs": [
        {
          "output_type": "execute_result",
          "data": {
            "text/plain": [
              "9"
            ]
          },
          "metadata": {},
          "execution_count": 43
        }
      ]
    }
  ]
}