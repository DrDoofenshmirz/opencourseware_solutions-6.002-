{
  "nbformat": 4,
  "nbformat_minor": 0,
  "metadata": {
    "colab": {
      "name": "intro_to_computational_thinking and data science",
      "provenance": [],
      "collapsed_sections": []
    },
    "kernelspec": {
      "name": "python3",
      "display_name": "Python 3"
    },
    "language_info": {
      "name": "python"
    }
  },
  "cells": [
    {
      "cell_type": "code",
      "execution_count": 73,
      "metadata": {
        "id": "TgE9RoMqpxn8"
      },
      "outputs": [],
      "source": [
        "class Node(object):\n",
        "    def __init__(self, name):\n",
        "        \"\"\"Assumes name is a string\"\"\"\n",
        "        self.name = name\n",
        "    def getName(self):\n",
        "        return self.name\n",
        "    def __str__(self):\n",
        "        return self.name"
      ]
    },
    {
      "cell_type": "code",
      "source": [
        "class Edge(object):\n",
        "    def __init__(self, src, dest):\n",
        "        \"\"\"Assumes src and dest are nodes\"\"\"\n",
        "        self.src = src\n",
        "        self.dest = dest\n",
        "    def getSource(self):\n",
        "        return self.src\n",
        "    def getDestination(self):\n",
        "        return self.dest\n",
        "    def __str__(self):\n",
        "        return self.src.getName() + '->' + self.dest.getName()"
      ],
      "metadata": {
        "id": "i_5uPaL1huXo"
      },
      "execution_count": 74,
      "outputs": []
    },
    {
      "cell_type": "code",
      "source": [
        "class Edge(object):\n",
        "    def __init__(self, src, dest,weight):\n",
        "        \"\"\"Assumes src and dest are nodes\"\"\"\n",
        "        self.src = src\n",
        "        self.dest = dest\n",
        "        self.weight = weight\n",
        "    def get_weight(self):\n",
        "      return self.weight\n",
        "    def getSource(self):\n",
        "        return self.src\n",
        "    def getDestination(self):\n",
        "        return self.dest\n",
        "    def __str__(self):\n",
        "        return self.src.getName() + '->' + self.dest.getName() + \" : \" + str(self.weight)"
      ],
      "metadata": {
        "id": "EUd4mEZiqIVS"
      },
      "execution_count": 75,
      "outputs": []
    },
    {
      "cell_type": "code",
      "source": [
        "class Digraph(object):\n",
        "    \"\"\"edges is a dict mapping each node to a list of\n",
        "    its children\"\"\"\n",
        "    def __init__(self):\n",
        "        self.edges = {}\n",
        "    def addNode(self, node):\n",
        "        if node in self.edges:\n",
        "            raise ValueError('Duplicate node')\n",
        "        else:\n",
        "            self.edges[node] = []\n",
        "    def addEdge(self, edge):\n",
        "        src = edge.getSource()\n",
        "        dest = edge.getDestination()\n",
        "        weight = edge.get_weight()\n",
        "        if not (src in self.edges and dest in self.edges):\n",
        "            raise ValueError('Node not in graph')\n",
        "        self.edges[src].append((dest,weight))\n",
        "    def childrenOf(self, node):\n",
        "        return self.edges[node]\n",
        "    def hasNode(self, node):\n",
        "        return node in self.edges\n",
        "    def Weight(self,node1,node2=None):\n",
        "      for i in self.edges :\n",
        "        if i == node1:\n",
        "          for j in self.edges[i]:\n",
        "            if j[0]==node2:\n",
        "              return j[1]\n",
        "    def getNode(self, name):\n",
        "        for n in self.edges:\n",
        "            if n.getName() == name:\n",
        "                return n\n",
        "        raise NameError(name)\n",
        "    def __str__(self):\n",
        "        result = ''\n",
        "        for src in self.edges:\n",
        "            for i in self.edges[src]:\n",
        "                result = result + src.getName() + '->'\\\n",
        "                         + i[0].getName() + '(' + str(i[1]) + ')'  + '\\n'\n",
        "        return result[:-1] #omit final newline\n",
        "\n",
        "class digraph(object):\n",
        "    \"\"\"edges is a dict mapping each node to a list of\n",
        "    its children\"\"\"\n",
        "    def __init__(self):\n",
        "        self.edges = {}\n",
        "    def addNode(self, node):\n",
        "        if node in self.edges:\n",
        "            raise ValueError('Duplicate node')\n",
        "        else:\n",
        "            self.edges[node] = []\n",
        "    def addEdge(self, edge):\n",
        "        src = edge.getSource()\n",
        "        dest = edge.getDestination()\n",
        "        if not (src in self.edges and dest in self.edges):\n",
        "            raise ValueError('Node not in graph')\n",
        "        self.edges[src].append(dest)\n",
        "    def childrenOf(self, node):\n",
        "        return self.edges[node]\n",
        "    def hasNode(self, node):\n",
        "        return node in self.edges\n",
        "    def getNode(self, name):\n",
        "        for n in self.edges:\n",
        "            if n.getName() == name:\n",
        "                return n\n",
        "        raise NameError(name)\n",
        "    def __str__(self):\n",
        "        result = ''\n",
        "        for src in self.edges:\n",
        "            for dest in self.edges[src]:\n",
        "                result = result + src.getName() + '->'\\\n",
        "                         + dest.getName() + '\\n'\n",
        "        return result[:-1] #omit final newline"
      ],
      "metadata": {
        "id": "RwO5UqNLq8Y6"
      },
      "execution_count": 76,
      "outputs": []
    },
    {
      "cell_type": "code",
      "source": [
        "def buildCityGraph(graphType):\n",
        "    g = graphType()\n",
        "    for name in ('Boston', 'Providence', 'New York', 'Chicago',\n",
        "                 'Denver', 'Phoenix', 'Los Angeles'): #Create 7 nodes\n",
        "        g.addNode(Node(name))\n",
        "    g.addEdge(Edge(g.getNode('Boston'), g.getNode('Providence'),5))\n",
        "    g.addEdge(Edge(g.getNode('Boston'), g.getNode('New York'),10))\n",
        "    g.addEdge(Edge(g.getNode('Providence'), g.getNode('Boston'),7))\n",
        "    g.addEdge(Edge(g.getNode('Providence'), g.getNode('New York'),3))\n",
        "    g.addEdge(Edge(g.getNode('New York'), g.getNode('Chicago'),7))\n",
        "    g.addEdge(Edge(g.getNode('Chicago'), g.getNode('Denver'),8))\n",
        "    g.addEdge(Edge(g.getNode('Chicago'), g.getNode('Phoenix'),50))\n",
        "    g.addEdge(Edge(g.getNode('Denver'), g.getNode('Phoenix'),5))\n",
        "    g.addEdge(Edge(g.getNode('Denver'), g.getNode('New York'),7))\n",
        "    g.addEdge(Edge(g.getNode('Los Angeles'), g.getNode('Boston'),4))\n",
        "    return g\n",
        "map = buildCityGraph(Digraph)\n"
      ],
      "metadata": {
        "id": "xcqN_RwZrwjY"
      },
      "execution_count": 77,
      "outputs": []
    },
    {
      "cell_type": "code",
      "source": [
        "def weight_count(path):\n",
        "  if len(path)==1 :\n",
        "    return 0 \n",
        "  x = 0\n",
        "  for i in range(len(path)-1):\n",
        "    x+=map.Weight(path[i],path[i+1])\n",
        "  return x\n",
        "    "
      ],
      "metadata": {
        "id": "sxZglqNWx0lo"
      },
      "execution_count": 78,
      "outputs": []
    },
    {
      "cell_type": "code",
      "source": [
        "def printPath(path):\n",
        "    \"\"\"Assumes path is a list of nodes\"\"\"\n",
        "    result = ''\n",
        "    for i in range(len(path)):\n",
        "        result = result + str(path[i])\n",
        "        if i != len(path) - 1:\n",
        "            result = result + '->'\n",
        "    return result "
      ],
      "metadata": {
        "id": "n-kJTuU8tV43"
      },
      "execution_count": 79,
      "outputs": []
    },
    {
      "cell_type": "code",
      "source": [
        "print(map)"
      ],
      "metadata": {
        "id": "o3jHk_GiwQv9",
        "colab": {
          "base_uri": "https://localhost:8080/"
        },
        "outputId": "c636e4db-82eb-4cf8-818d-33e538b01bf8"
      },
      "execution_count": 80,
      "outputs": [
        {
          "output_type": "stream",
          "name": "stdout",
          "text": [
            "Boston->Providence(5)\n",
            "Boston->New York(10)\n",
            "Providence->Boston(7)\n",
            "Providence->New York(3)\n",
            "New York->Chicago(7)\n",
            "Chicago->Denver(8)\n",
            "Chicago->Phoenix(50)\n",
            "Denver->Phoenix(5)\n",
            "Denver->New York(7)\n",
            "Los Angeles->Boston(4)\n"
          ]
        }
      ]
    },
    {
      "cell_type": "code",
      "source": [
        "def DFS(graph, start, end, path, shortest, toPrint = False):\n",
        "    \"\"\"Assumes graph is a Digraph; start and end are nodes;\n",
        "          path and shortest are lists of nodes\n",
        "       Returns a shortest path from start to end in graph\"\"\"\n",
        "    path = path + [start]\n",
        "    if toPrint:\n",
        "        print('Current DFS path:', printPath(path))\n",
        "    if start == end:\n",
        "        return path\n",
        "    for node in graph.childrenOf(start):\n",
        "        if node not in path: #avoid cycles\n",
        "            if shortest == None or len(path) < len(shortest):\n",
        "                newPath = DFS(graph, node, end, path, shortest,\n",
        "                              toPrint)\n",
        "                if newPath != None:\n",
        "                    shortest = newPath\n",
        "        elif toPrint:\n",
        "            print('Already visited', node)\n",
        "    return shortest"
      ],
      "metadata": {
        "id": "nzxFmQr3r_4x"
      },
      "execution_count": 81,
      "outputs": []
    },
    {
      "cell_type": "code",
      "source": [
        "def f(graph,start,end,path=[],valid=None,shortest=None):\n",
        "  path= path + [start]\n",
        "  if start==end:\n",
        "    return path\n",
        "  for node in graph.childrenOf(start):\n",
        "    if node[0] not in path:\n",
        "      if shortest == None:\n",
        "        np = f(graph,node[0],end,path,valid,shortest)\n",
        "        if np!= None:\n",
        "          shortest = np\n",
        "      else :\n",
        "        np = f(graph,node[0],end,path,valid,shortest)\n",
        "        if np != None:\n",
        "          valid= np\n",
        "        if weight_count(valid)<weight_count(shortest):\n",
        "          shortest = valid\n",
        "  return shortest"
      ],
      "metadata": {
        "id": "1ZKX98Y9vz9z"
      },
      "execution_count": 82,
      "outputs": []
    },
    {
      "cell_type": "code",
      "source": [
        "printPath(f(map,map.getNode('Boston'),map.getNode('Phoenix')))"
      ],
      "metadata": {
        "id": "us4NQhnAzDYL",
        "colab": {
          "base_uri": "https://localhost:8080/",
          "height": 35
        },
        "outputId": "72f15282-dea6-4791-d382-ef6080123f14"
      },
      "execution_count": 83,
      "outputs": [
        {
          "output_type": "execute_result",
          "data": {
            "text/plain": [
              "'Boston->Providence->New York->Chicago->Denver->Phoenix'"
            ],
            "application/vnd.google.colaboratory.intrinsic+json": {
              "type": "string"
            }
          },
          "metadata": {},
          "execution_count": 83
        }
      ]
    },
    {
      "cell_type": "code",
      "source": [
        "def load_cows(filename):\n",
        "    cow_dict = {}\n",
        "    f = open(filename, 'r')\n",
        "    for line in f:\n",
        "        line_data = line.split(',')\n",
        "        cow_dict[line_data[0]] = int(line_data[1])\n",
        "    return cow_dict"
      ],
      "metadata": {
        "id": "Uj49Fhli5w0w"
      },
      "execution_count": 84,
      "outputs": []
    },
    {
      "cell_type": "code",
      "source": [
        "dict = load_cows('/ps1_cow_data.txt')\n"
      ],
      "metadata": {
        "id": "0WpyaNns6qPj"
      },
      "execution_count": 85,
      "outputs": []
    },
    {
      "cell_type": "code",
      "source": [
        "class Cow(object):\n",
        "  def __init__(self,name,weight):\n",
        "    self.name = name\n",
        "    self.weight = weight \n",
        "  def name(self):\n",
        "    return self.name\n",
        "  def weight(self):\n",
        "    return self.weight\n",
        "  def __str__(self):\n",
        "    return str(self.name) + \" : \" + str(self.weight)"
      ],
      "metadata": {
        "id": "5SvK0LEd8_-T"
      },
      "execution_count": 86,
      "outputs": []
    },
    {
      "cell_type": "markdown",
      "source": [
        "Draft code for a simpler example which will be later modified to account for cow class objects"
      ],
      "metadata": {
        "id": "pvq7AM_FaZNo"
      }
    },
    {
      "cell_type": "code",
      "source": [
        "list = [8,7,7.3,6.4,6,5,4,4,3]\n",
        "def f(list,limit):\n",
        "  res,work_list = [],[]\n",
        "  trp_count = 0 \n",
        "  for i in list:\n",
        "    if  i <= limit:\n",
        "      work_list.append(i)\n",
        "  while len(work_list)!=0:\n",
        "    trp_count += 1 \n",
        "    count = 0 \n",
        "    case_wise = []\n",
        "    for i in work_list:\n",
        "      count += i \n",
        "      if count <= limit:\n",
        "        case_wise.append(i)\n",
        "    for i in case_wise:\n",
        "      work_list.remove(i)\n",
        "    res.append(case_wise)\n",
        "  return (trp_count,res)\n",
        "\n",
        "f(list,10)"
      ],
      "metadata": {
        "colab": {
          "base_uri": "https://localhost:8080/"
        },
        "id": "_-gAsF64aW3s",
        "outputId": "4464d06d-3412-4ecd-8e4c-982d3278972f"
      },
      "execution_count": 87,
      "outputs": [
        {
          "output_type": "execute_result",
          "data": {
            "text/plain": [
              "(7, [[8], [7], [7.3], [6.4], [6], [5, 4], [4, 3]])"
            ]
          },
          "metadata": {},
          "execution_count": 87
        }
      ]
    },
    {
      "cell_type": "markdown",
      "source": [
        "Final code that accounts for cow class objects"
      ],
      "metadata": {
        "id": "9HKmwmLQh-KQ"
      }
    },
    {
      "cell_type": "code",
      "source": [
        "def greedy_cows(dict,limit): \n",
        "  List_of_cows,work_list =[],[]\n",
        "  res = []\n",
        "  trp_count = 0 \n",
        "  for i in dict.keys():\n",
        "    List_of_cows.append(Cow(i,dict[i]))\n",
        "  list = sorted(List_of_cows,key = Cow.weight,reverse = True)\n",
        "  for i in list:\n",
        "    if i.weight <= limit:\n",
        "      work_list.append( i)\n",
        "  while len(work_list) != 0 :\n",
        "    trp_count += 1\n",
        "    case_wise = []\n",
        "    case_i = []\n",
        "    count = 0 \n",
        "    for i in work_list:\n",
        "      count += i.weight\n",
        "      if count <= limit :\n",
        "        case_wise.append((i.name,i.weight))\n",
        "        case_i.append(i)\n",
        "    for i in case_i:\n",
        "      work_list.remove(i)\n",
        "    res.append(case_wise)\n",
        "  return (trp_count , res)    \n"
      ],
      "metadata": {
        "id": "SP2jZMfVdXf_"
      },
      "execution_count": 88,
      "outputs": []
    },
    {
      "cell_type": "code",
      "source": [
        "greedy_cows(dict,10)"
      ],
      "metadata": {
        "colab": {
          "base_uri": "https://localhost:8080/"
        },
        "id": "J6dNbulIgQ4_",
        "outputId": "7a678552-7685-49d3-c7a1-5fea213830f6"
      },
      "execution_count": 89,
      "outputs": [
        {
          "output_type": "execute_result",
          "data": {
            "text/plain": [
              "(6,\n",
              " [[('Betsy', 9)],\n",
              "  [('Henrietta', 9)],\n",
              "  [('Herman', 7)],\n",
              "  [('Oreo', 6)],\n",
              "  [('Millie', 5), ('Maggie', 3)],\n",
              "  [('Moo Moo', 3), ('Milkshake', 2), ('Lola', 2), ('Florence', 2)]])"
            ]
          },
          "metadata": {},
          "execution_count": 89
        }
      ]
    },
    {
      "cell_type": "code",
      "source": [
        "dict"
      ],
      "metadata": {
        "colab": {
          "base_uri": "https://localhost:8080/"
        },
        "id": "TIGvpx5dhyCs",
        "outputId": "4ed7056a-e55c-4cb1-a130-1a4b5de515ba"
      },
      "execution_count": 90,
      "outputs": [
        {
          "output_type": "execute_result",
          "data": {
            "text/plain": [
              "{'Betsy': 9,\n",
              " 'Florence': 2,\n",
              " 'Henrietta': 9,\n",
              " 'Herman': 7,\n",
              " 'Lola': 2,\n",
              " 'Maggie': 3,\n",
              " 'Milkshake': 2,\n",
              " 'Millie': 5,\n",
              " 'Moo Moo': 3,\n",
              " 'Oreo': 6}"
            ]
          },
          "metadata": {},
          "execution_count": 90
        }
      ]
    },
    {
      "cell_type": "code",
      "source": [
        "List = sorted([9,2,9,7,2,3,2,5,3,6],reverse = True)\n",
        "f(List,9)"
      ],
      "metadata": {
        "colab": {
          "base_uri": "https://localhost:8080/"
        },
        "id": "q3DPjNl2kFp0",
        "outputId": "4a5a7d0f-2470-4ded-8488-ad88e7072614"
      },
      "execution_count": 91,
      "outputs": [
        {
          "output_type": "execute_result",
          "data": {
            "text/plain": [
              "(6, [[9], [9], [7], [6], [5, 3], [3, 2, 2, 2]])"
            ]
          },
          "metadata": {},
          "execution_count": 91
        }
      ]
    },
    {
      "cell_type": "markdown",
      "source": [
        "Hence the greedy algorithm works "
      ],
      "metadata": {
        "id": "y5L2alQskmhH"
      }
    },
    {
      "cell_type": "markdown",
      "source": [
        "Brute Force Algorithm "
      ],
      "metadata": {
        "id": "SyySYqmnf2AR"
      }
    },
    {
      "cell_type": "code",
      "source": [
        "def partitions(set_):\n",
        "    if not set_:\n",
        "        yield []\n",
        "        return\n",
        "    for i in range(2**len(set_)//2):\n",
        "        parts = [set(), set()]\n",
        "        for item in set_:\n",
        "            parts[i&1].add(item)\n",
        "            i >>= 1\n",
        "        for b in partitions(parts[1]):\n",
        "            yield [parts[0]]+b\n",
        "def get_partitions(set_):\n",
        "    for partition in partitions(set_):\n",
        "        yield [list(elt) for elt in partition]"
      ],
      "metadata": {
        "id": "Ju7OsIH9f54i"
      },
      "execution_count": 92,
      "outputs": []
    },
    {
      "cell_type": "code",
      "source": [
        "for i in partitions([1,2,3,4]):\n",
        "  print(i)"
      ],
      "metadata": {
        "colab": {
          "base_uri": "https://localhost:8080/"
        },
        "id": "AlAmmXvYdkXd",
        "outputId": "80829807-a295-4d47-c72c-d57c5d3cc1df"
      },
      "execution_count": 93,
      "outputs": [
        {
          "output_type": "stream",
          "name": "stdout",
          "text": [
            "[{1, 2, 3, 4}]\n",
            "[{2, 3, 4}, {1}]\n",
            "[{1, 3, 4}, {2}]\n",
            "[{3, 4}, {1, 2}]\n",
            "[{3, 4}, {2}, {1}]\n",
            "[{1, 2, 4}, {3}]\n",
            "[{2, 4}, {1, 3}]\n",
            "[{2, 4}, {3}, {1}]\n",
            "[{1, 4}, {2, 3}]\n",
            "[{1, 4}, {3}, {2}]\n",
            "[{4}, {1, 2, 3}]\n",
            "[{4}, {2, 3}, {1}]\n",
            "[{4}, {1, 3}, {2}]\n",
            "[{4}, {3}, {1, 2}]\n",
            "[{4}, {3}, {2}, {1}]\n"
          ]
        }
      ]
    },
    {
      "cell_type": "markdown",
      "source": [
        "It was found that when the list given had two same values in it , the output excludes one of the values in some tuples where it should have been ."
      ],
      "metadata": {
        "id": "gZD-repgdqNS"
      }
    },
    {
      "cell_type": "code",
      "source": [
        "for i in partitions([1,2,4,4]):\n",
        "  print(i)"
      ],
      "metadata": {
        "colab": {
          "base_uri": "https://localhost:8080/"
        },
        "id": "ziHz73lXVAIM",
        "outputId": "f42767b8-dc94-40ab-99fa-db2b9a067fe5"
      },
      "execution_count": 94,
      "outputs": [
        {
          "output_type": "stream",
          "name": "stdout",
          "text": [
            "[{1, 2, 4}]\n",
            "[{2, 4}, {1}]\n",
            "[{1, 4}, {2}]\n",
            "[{4}, {1, 2}]\n",
            "[{4}, {2}, {1}]\n",
            "[{1, 2, 4}, {4}]\n",
            "[{2, 4}, {1, 4}]\n",
            "[{2, 4}, {4}, {1}]\n",
            "[{1, 4}, {2, 4}]\n",
            "[{1, 4}, {4}, {2}]\n",
            "[{4}, {1, 2, 4}]\n",
            "[{4}, {2, 4}, {1}]\n",
            "[{4}, {1, 4}, {2}]\n",
            "[{4}, {4}, {1, 2}]\n",
            "[{4}, {4}, {2}, {1}]\n"
          ]
        }
      ]
    },
    {
      "cell_type": "markdown",
      "source": [
        "The below function gives all the valid ways in which the load can  be transported while holding the limit for single transport in each list."
      ],
      "metadata": {
        "id": "ZeedQyX6kjFL"
      }
    },
    {
      "cell_type": "code",
      "source": [
        "def brute_force(list,limit):\n",
        "  List = []\n",
        "  for i in list:\n",
        "    if i <= limit:\n",
        "      List.append(i)\n",
        "  def recursion(list,limit):\n",
        "    if list==[]:\n",
        "      return True\n",
        "    return (sum(list[0]) <= limit) and recursion(list[1:],limit)\n",
        "  result = []\n",
        "  for i in partitions(List):\n",
        "    if recursion(i,limit):\n",
        "      result.append(i)\n",
        "  return result\n",
        "\n"
      ],
      "metadata": {
        "id": "zpBUpDkiUkOW"
      },
      "execution_count": 95,
      "outputs": []
    },
    {
      "cell_type": "markdown",
      "source": [
        "Building up on that , The below function now provides the  valid list having the smallest number of trips\n"
      ],
      "metadata": {
        "id": "YCZ2dSVvkxJ1"
      }
    },
    {
      "cell_type": "code",
      "source": [
        "def brute_force(list,limit):\n",
        "  List = []\n",
        "  for i in list:\n",
        "    if i <= limit:\n",
        "      List.append(i)\n",
        "  def recursion(list,limit):\n",
        "    if list==[]:\n",
        "      return True\n",
        "    return (sum(list[0]) <= limit) and recursion(list[1:],limit)\n",
        "  result,ref = [],[]\n",
        "  for i in partitions(List):\n",
        "    if recursion(i,limit):\n",
        "      result.append(i)\n",
        "  dict = {}\n",
        "  for i in result:\n",
        "    dict[len(i)] = i \n",
        "  for i in result:\n",
        "    if len(i) not in ref:\n",
        "      ref.append(len(i))\n",
        "  return dict[sorted(ref)[0]]\n",
        "  \n",
        "  \n",
        "brute_force([1,2,3,4,5,100],107)\n"
      ],
      "metadata": {
        "colab": {
          "base_uri": "https://localhost:8080/"
        },
        "id": "Cbt-MN2OXNZ8",
        "outputId": "7a096219-9d5d-43c6-f241-eff258c0244e"
      },
      "execution_count": 96,
      "outputs": [
        {
          "output_type": "execute_result",
          "data": {
            "text/plain": [
              "[{100}, {1, 2, 3, 4, 5}]"
            ]
          },
          "metadata": {},
          "execution_count": 96
        }
      ]
    },
    {
      "cell_type": "markdown",
      "source": [
        "Now that we have build functions for simpler versions of problems , we shall write a function that takes names instead of a list of numbers."
      ],
      "metadata": {
        "id": "JWxS06zuk9ja"
      }
    },
    {
      "cell_type": "code",
      "source": [
        "names = []\n",
        "for i in dict.keys():\n",
        "  names.append(i)\n",
        "names"
      ],
      "metadata": {
        "colab": {
          "base_uri": "https://localhost:8080/"
        },
        "id": "7qgN4vrKmtiR",
        "outputId": "df755e1b-8962-4db1-d73b-236f4760279d"
      },
      "execution_count": 97,
      "outputs": [
        {
          "output_type": "execute_result",
          "data": {
            "text/plain": [
              "['Maggie',\n",
              " 'Herman',\n",
              " 'Betsy',\n",
              " 'Oreo',\n",
              " 'Moo Moo',\n",
              " 'Milkshake',\n",
              " 'Millie',\n",
              " 'Lola',\n",
              " 'Florence',\n",
              " 'Henrietta']"
            ]
          },
          "metadata": {},
          "execution_count": 97
        }
      ]
    },
    {
      "cell_type": "code",
      "source": [
        "dict"
      ],
      "metadata": {
        "colab": {
          "base_uri": "https://localhost:8080/"
        },
        "id": "XskHsiIsXW1a",
        "outputId": "7d4be53f-e46e-4817-af2b-b4881c5657f7"
      },
      "execution_count": 98,
      "outputs": [
        {
          "output_type": "execute_result",
          "data": {
            "text/plain": [
              "{'Betsy': 9,\n",
              " 'Florence': 2,\n",
              " 'Henrietta': 9,\n",
              " 'Herman': 7,\n",
              " 'Lola': 2,\n",
              " 'Maggie': 3,\n",
              " 'Milkshake': 2,\n",
              " 'Millie': 5,\n",
              " 'Moo Moo': 3,\n",
              " 'Oreo': 6}"
            ]
          },
          "metadata": {},
          "execution_count": 98
        }
      ]
    },
    {
      "cell_type": "code",
      "source": [
        "def dict_weight(list):\n",
        "  count = 0 \n",
        "  for i in list:\n",
        "    count += dict[i]\n",
        "  return count\n"
      ],
      "metadata": {
        "id": "x7MxzbPAnDC4"
      },
      "execution_count": 99,
      "outputs": []
    },
    {
      "cell_type": "code",
      "source": [
        "def Recursion_weight(list,limit):\n",
        "  if list ==[]:\n",
        "    return True\n",
        "  return dict_weight(list[0])<=limit and Recursion_weight(list[1:],limit)"
      ],
      "metadata": {
        "id": "dDNf6UW6W2my"
      },
      "execution_count": 100,
      "outputs": []
    },
    {
      "cell_type": "code",
      "source": [
        "for p in partitions(['Maggie','Herman','Betsy']):\n",
        "  print(Recursion_weight(p,12))"
      ],
      "metadata": {
        "colab": {
          "base_uri": "https://localhost:8080/"
        },
        "id": "0lFxpOzbYGGx",
        "outputId": "32cd9f03-a9a4-4d53-dc7c-a9aedb9116fe"
      },
      "execution_count": 101,
      "outputs": [
        {
          "output_type": "stream",
          "name": "stdout",
          "text": [
            "False\n",
            "False\n",
            "True\n",
            "True\n",
            "True\n"
          ]
        }
      ]
    },
    {
      "cell_type": "code",
      "source": [
        "for p in partitions(['Maggie','Herman','Betsy']):\n",
        "  print(p)"
      ],
      "metadata": {
        "colab": {
          "base_uri": "https://localhost:8080/"
        },
        "id": "uL5kgd8WYUbk",
        "outputId": "cd7806fc-2b2e-4a16-9fc2-564345e0b9b9"
      },
      "execution_count": 102,
      "outputs": [
        {
          "output_type": "stream",
          "name": "stdout",
          "text": [
            "[{'Maggie', 'Herman', 'Betsy'}]\n",
            "[{'Herman', 'Betsy'}, {'Maggie'}]\n",
            "[{'Maggie', 'Betsy'}, {'Herman'}]\n",
            "[{'Betsy'}, {'Maggie', 'Herman'}]\n",
            "[{'Betsy'}, {'Herman'}, {'Maggie'}]\n"
          ]
        }
      ]
    },
    {
      "cell_type": "code",
      "source": [
        "def brute_force(list,limit):\n",
        "  List = []\n",
        "  for i in list:\n",
        "    if dict[i] <= limit:\n",
        "      List.append(i)\n",
        "  def dict_weight(list):\n",
        "    count = 0 \n",
        "    for i in list:\n",
        "      count += dict[i]\n",
        "    return count\n",
        "  def Recursion_weight(list,limit):\n",
        "    if list ==[]:\n",
        "      return True\n",
        "    return dict_weight(list[0])<=limit and Recursion_weight(list[1:],limit)\n",
        "  result,ref = [],[]\n",
        "  for i in partitions(List):\n",
        "    if Recursion_weight(i,limit):\n",
        "      result.append(i)\n",
        "  Dict = {}\n",
        "  for i in result:\n",
        "    Dict[len(i)] = i \n",
        "  for i in result:\n",
        "    if len(i) not in ref:\n",
        "      ref.append(len(i))\n",
        "  return Dict[sorted(ref)[0]]"
      ],
      "metadata": {
        "id": "cnbBzlAJYm8H"
      },
      "execution_count": 103,
      "outputs": []
    },
    {
      "cell_type": "code",
      "source": [
        "brute_force(names,10)"
      ],
      "metadata": {
        "colab": {
          "base_uri": "https://localhost:8080/"
        },
        "id": "gHE8m3Oleucx",
        "outputId": "c10db5a6-4967-4b6c-8057-26adb47240cb"
      },
      "execution_count": 104,
      "outputs": [
        {
          "output_type": "execute_result",
          "data": {
            "text/plain": [
              "[{'Henrietta'},\n",
              " {'Milkshake', 'Millie', 'Moo Moo'},\n",
              " {'Herman', 'Maggie'},\n",
              " {'Betsy'},\n",
              " {'Florence', 'Lola', 'Oreo'}]"
            ]
          },
          "metadata": {},
          "execution_count": 104
        }
      ]
    },
    {
      "cell_type": "code",
      "source": [
        "dict"
      ],
      "metadata": {
        "colab": {
          "base_uri": "https://localhost:8080/"
        },
        "id": "UNB62aRHcMHc",
        "outputId": "f0123e26-cce0-413c-99dd-28c43d3fad4b"
      },
      "execution_count": 105,
      "outputs": [
        {
          "output_type": "execute_result",
          "data": {
            "text/plain": [
              "{'Betsy': 9,\n",
              " 'Florence': 2,\n",
              " 'Henrietta': 9,\n",
              " 'Herman': 7,\n",
              " 'Lola': 2,\n",
              " 'Maggie': 3,\n",
              " 'Milkshake': 2,\n",
              " 'Millie': 5,\n",
              " 'Moo Moo': 3,\n",
              " 'Oreo': 6}"
            ]
          },
          "metadata": {},
          "execution_count": 105
        }
      ]
    },
    {
      "cell_type": "code",
      "source": [
        "import time"
      ],
      "metadata": {
        "id": "N7iq2UsYgb5k"
      },
      "execution_count": 106,
      "outputs": []
    },
    {
      "cell_type": "code",
      "source": [
        "def compare_cow_transport_algorithms():\n",
        "  start = time.time()\n",
        "  brute_force(names,10)\n",
        "  end = time.time()\n",
        "  res = end-start\n",
        "  print(res)\n",
        "  print('--------------------------------------------')\n",
        "  start = time.time()\n",
        "  greedy_cows(dict,10)\n",
        "  end = time.time()\n",
        "  res = end-start\n",
        "  print(res)\n",
        "\n",
        "\n"
      ],
      "metadata": {
        "id": "9NscId8be3vR"
      },
      "execution_count": 107,
      "outputs": []
    },
    {
      "cell_type": "code",
      "source": [
        "compare_cow_transport_algorithms()"
      ],
      "metadata": {
        "colab": {
          "base_uri": "https://localhost:8080/"
        },
        "id": "AyX0ng5qg7Q4",
        "outputId": "8a73df6b-4041-480b-a63d-e47af1ddd163"
      },
      "execution_count": 108,
      "outputs": [
        {
          "output_type": "stream",
          "name": "stdout",
          "text": [
            "0.5829453468322754\n",
            "--------------------------------------------\n",
            "4.744529724121094e-05\n"
          ]
        }
      ]
    },
    {
      "cell_type": "markdown",
      "source": [
        "We see that the greedy algorithm runs faster , however the solution isnt the best while brute force takes longer time but provides the correct output ."
      ],
      "metadata": {
        "id": "1TN3ZnnGhbax"
      }
    }
  ]
}