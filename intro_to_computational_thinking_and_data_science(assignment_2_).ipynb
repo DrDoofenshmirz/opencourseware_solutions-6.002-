{
  "nbformat": 4,
  "nbformat_minor": 0,
  "metadata": {
    "colab": {
      "name": "intro_to_computational_thinking and_data_science(assignment 2 ).ipynb",
      "provenance": [],
      "collapsed_sections": []
    },
    "kernelspec": {
      "name": "python3",
      "display_name": "Python 3"
    },
    "language_info": {
      "name": "python"
    }
  },
  "cells": [
    {
      "cell_type": "code",
      "execution_count": 1,
      "metadata": {
        "id": "pljtDtb_Vk68"
      },
      "outputs": [],
      "source": [
        "class Node(object):\n",
        "    \"\"\"Represents a node in the graph\"\"\"\n",
        "    def __init__(self, name):\n",
        "        self.name = str(name)\n",
        "\n",
        "    def get_name(self):\n",
        "        return self.name\n",
        "\n",
        "    def __str__(self):\n",
        "        return self.name\n",
        "\n",
        "    def __repr__(self):\n",
        "        return self.name\n",
        "\n",
        "    def __eq__(self, other):\n",
        "        return self.name == other.name\n",
        "\n",
        "    def __ne__(self, other):\n",
        "        return not self.__eq__(other)\n",
        "\n",
        "    def __hash__(self):\n",
        "        # This function is necessary so that Nodes can be used as\n",
        "        # keys in a dictionary, even though Nodes are mutable\n",
        "        return self.name.__hash__()"
      ]
    },
    {
      "cell_type": "code",
      "source": [
        "# class Edge(object):\n",
        "#     def __init__(self, src, dest):\n",
        "#         self.src = src  \n",
        "#         self.dest = dest\n",
        "\n",
        "#     def get_source(self):\n",
        "#         return self.src\n",
        "\n",
        "#     def get_destination(self):\n",
        "#         return self.dest\n",
        "\n",
        "#     def __str__(self):\n",
        "#         return '{}->{}'.format(self.src, self.dest)"
      ],
      "metadata": {
        "id": "-ExFWqz4WTBu"
      },
      "execution_count": 2,
      "outputs": []
    },
    {
      "cell_type": "code",
      "source": [
        "class WeightedEdge(object):\n",
        "    def __init__(self, src, dest, total_distance, outdoor_distance):\n",
        "      self.src = src\n",
        "      self.dest = dest \n",
        "      self.total_distance = total_distance\n",
        "      self.outdoor_distance = outdoor_distance\n",
        "    def get_source(self):\n",
        "      return self.src\n",
        "    def get_destination(self):\n",
        "      return self.dest\n",
        "    def get_total_distance(self):\n",
        "      return self.total_distance\n",
        "    def get_outdoor_distance(self):\n",
        "      return self.outdoor_distance\n",
        "    def __str__(self):\n",
        "      return str(self.src)+'-->' +str(self.dest) + '(' + str(self.total_distance) + ',' + str(self.outdoor_distance) + ')' \n",
        "     "
      ],
      "metadata": {
        "id": "dmyuUyauXfFc"
      },
      "execution_count": 3,
      "outputs": []
    },
    {
      "cell_type": "code",
      "source": [
        "# class digraph(object):\n",
        "#     \"\"\"Represents a directed graph of Node and Edge objects\"\"\"\n",
        "#     def __init__(self):\n",
        "#         self.nodes = set([])\n",
        "#         self.edges = {}  # must be a dict of Node -> list of edges\n",
        "\n",
        "#     def __str__(self):\n",
        "#         result = ''\n",
        "#         for src in self.edges:\n",
        "#             for dest in self.edges[src]:\n",
        "#                 result = result + src.get_name() + '->'\\\n",
        "#                          + dest.get_name() + '\\n'\n",
        "#         return result[:-1] #omit final newline\n",
        "#     def get_edges_for_node(self, node):\n",
        "#         return self.edges[node]\n",
        "\n",
        "#     def has_node(self, node):\n",
        "#         return node in self.nodes\n",
        "\n",
        "#     def add_node(self, node):\n",
        "#       if node in self.edges:\n",
        "#         raise ValueError('Duplicate node')\n",
        "#       else:\n",
        "#         self.nodes.update([node])\n",
        "#         self.edges[node] = []\n",
        "\n",
        "#     def add_edge(self, edge):\n",
        "#         src = edge.get_source()\n",
        "#         dest = edge.get_destination()\n",
        "#         if not (src in self.edges and dest in self.edges):\n",
        "#             raise ValueError('Node not in graph')\n",
        "#         self.edges[src].append(dest)\n"
      ],
      "metadata": {
        "id": "SpLv70kE-47j"
      },
      "execution_count": 4,
      "outputs": []
    },
    {
      "cell_type": "code",
      "source": [
        "class Digraph(object):\n",
        "    \"\"\"Represents a directed graph of Node and Edge objects\"\"\"\n",
        "    def __init__(self):\n",
        "        self.nodes = set([])\n",
        "        self.edges = {}  # must be a dict of Node -> list of edges\n",
        "    def __str__(self):\n",
        "        result = ''\n",
        "        for src in self.edges:\n",
        "            for i in self.edges[src]:\n",
        "                result = result + src.get_name() + '->'\\\n",
        "                         + i[0].get_name() + '(' + str(i[1]) + ', ' + str(i[2]) + ')'  + '\\n'\n",
        "        return result[:-1] #omit final newline\n",
        "\n",
        "\n",
        "    def get_edges_for_node(self, node):\n",
        "        return self.edges[node]\n",
        "\n",
        "    def total_time(self,node1,node2=None):\n",
        "      for i in self.edges :\n",
        "        if i == node1:\n",
        "          for j in self.edges[i]:\n",
        "            if j[0]==node2:\n",
        "              return j[1]\n",
        "    def out_time(self,node1,node2=None):\n",
        "      for i in self.edges :\n",
        "        if i == node1:\n",
        "          for j in self.edges[i]:\n",
        "            if j[0]==node2:\n",
        "              return j[2]\n",
        "\n",
        "    def has_node(self, node):\n",
        "        return node in self.nodes\n",
        "\n",
        "    def add_node(self, node):\n",
        "      if node in self.edges:\n",
        "        raise ValueError('Duplicate node')\n",
        "      else:\n",
        "        self.nodes.update([node])\n",
        "        self.edges[node] = []\n",
        "\n",
        "    def add_edge(self, edge):\n",
        "        src = edge.get_source()\n",
        "        dest = edge.get_destination()\n",
        "        TD = edge.get_total_distance()\n",
        "        OD = edge.get_outdoor_distance()\n",
        "        if not (src in self.nodes and dest in self.nodes):\n",
        "            raise ValueError('Node not in graph')\n",
        "        self.edges[src].append((dest,TD,OD))\n"
      ],
      "metadata": {
        "id": "A062AsqQe97E"
      },
      "execution_count": 5,
      "outputs": []
    },
    {
      "cell_type": "code",
      "source": [
        "# def create_map(graphtype,filename):\n",
        "#   map = digraph()\n",
        "#   f = open(filename,'r')\n",
        "#   for line in f:\n",
        "#     line_data = line.split(' ')\n",
        "#     for i in line_data[:2]:\n",
        "#       if Node(i) not in map.nodes:\n",
        "#         map.add_node(Node(i))\n",
        "#     map.add_edge(Edge(Node(line_data[0]),Node(line_data[1])))\n",
        "#   return map"
      ],
      "metadata": {
        "id": "qEBAE6a6AfPw"
      },
      "execution_count": 6,
      "outputs": []
    },
    {
      "cell_type": "code",
      "source": [
        "def Create_map(graphtype,filename):\n",
        "  map = Digraph()\n",
        "  f = open(filename,'r')\n",
        "  for line in f:\n",
        "    line_data = line.split(' ')\n",
        "    for i in line_data[:2]:\n",
        "      if Node(i) not in map.nodes:\n",
        "        map.add_node(Node(i))\n",
        "    x = int(line_data[2])\n",
        "    y=int(line_data[3])\n",
        "    map.add_edge(WeightedEdge(Node(line_data[0]),Node(line_data[1]),x,y))\n",
        "  return map"
      ],
      "metadata": {
        "id": "KF8c4TEVeSv8"
      },
      "execution_count": 7,
      "outputs": []
    },
    {
      "cell_type": "code",
      "source": [
        "# map = create_map(digraph,'/mit_map.txt')\n",
        "# map.nodes"
      ],
      "metadata": {
        "id": "0hyGHF5yQA5d"
      },
      "execution_count": 8,
      "outputs": []
    },
    {
      "cell_type": "code",
      "source": [
        "# def f(filename):\n",
        "#   list = []\n",
        "#   f = open('/mit_map.txt','r')\n",
        "#   for line in f:\n",
        "#     line_data = line.split(' ')\n",
        "#     for i in line_data[:2]:\n",
        "#       if Node(i) not in list:\n",
        "#         list.append(Node(i))\n",
        "#   return list\n",
        "# def F(filename):\n",
        "#   list = []\n",
        "#   f = open('/mit_map.txt','r')\n",
        "#   for line in f:\n",
        "#     line_data = line.split(' ')\n",
        "#     list.append(Edge(Node(line_data[0]),Node(line_data[1])))\n",
        "#   return list\n",
        "# def g(filename):\n",
        "#   list =[]\n",
        "#   f = open('/mit_map.txt','r')\n",
        "#   for line in f:\n",
        "#     line_data = line.split(' ')\n",
        "#     list.append(WeightedEdge(Node(line_data[0]),Node(line_data[1]),int(line_data[2]),int(line_data[3])))\n",
        "#   return list\n"
      ],
      "metadata": {
        "id": "mSl149MpQFVe"
      },
      "execution_count": 9,
      "outputs": []
    },
    {
      "cell_type": "code",
      "source": [
        "# Nodes = f('/mit_map.txt')\n",
        "# Edges = F('/mit_map.txt')\n",
        "# WeightedEdges = g('/mit_map.txt')\n"
      ],
      "metadata": {
        "id": "TNe01wQORxwK"
      },
      "execution_count": 10,
      "outputs": []
    },
    {
      "cell_type": "code",
      "source": [
        "Map = Create_map(Digraph,'/mit_map.txt')\n"
      ],
      "metadata": {
        "id": "TGMj2u_MeJWN"
      },
      "execution_count": 11,
      "outputs": []
    },
    {
      "cell_type": "code",
      "source": [
        "def totaltime_count(path):\n",
        "  if len(path)==1 :\n",
        "    return 0 \n",
        "  x = 0\n",
        "  for i in range(len(path)-1):\n",
        "    x+=Map.total_time(path[i],path[i+1])\n",
        "  return x\n",
        "def outtime_count(path):\n",
        "  if len(path)==1 :\n",
        "    return 0 \n",
        "  x = 0\n",
        "  for i in range(len(path)-1):\n",
        "    x+=Map.out_time(path[i],path[i+1])\n",
        "  return x"
      ],
      "metadata": {
        "id": "nkOEBlRflha_"
      },
      "execution_count": 12,
      "outputs": []
    },
    {
      "cell_type": "code",
      "source": [
        "totaltime_count((Node(32),Node(68),Node(76),Node(66)))"
      ],
      "metadata": {
        "colab": {
          "base_uri": "https://localhost:8080/"
        },
        "id": "XKnxHI35c8By",
        "outputId": "3b7d59c9-a178-4261-a3f3-1d342cccd843"
      },
      "execution_count": 13,
      "outputs": [
        {
          "output_type": "execute_result",
          "data": {
            "text/plain": [
              "312"
            ]
          },
          "metadata": {},
          "execution_count": 13
        }
      ]
    },
    {
      "cell_type": "code",
      "source": [
        "totaltime_count([Node(32),Node(66)])"
      ],
      "metadata": {
        "colab": {
          "base_uri": "https://localhost:8080/"
        },
        "id": "oBUmsFT-fkCE",
        "outputId": "9a57a70a-db3f-4676-be1c-bbe9c12143fe"
      },
      "execution_count": 14,
      "outputs": [
        {
          "output_type": "execute_result",
          "data": {
            "text/plain": [
              "70"
            ]
          },
          "metadata": {},
          "execution_count": 14
        }
      ]
    },
    {
      "cell_type": "code",
      "source": [
        "# # Problem 3b: Implement get_best_path\n",
        "# def get_best_path(digraph, start, end, path, max_dist_outdoors, best_dist,\n",
        "#                   best_path):\n",
        "#     \"\"\"\n",
        "#     Finds the shortest path between buildings subject to constraints.\n",
        "\n",
        "#     Parameters:\n",
        "#         digraph: Digraph instance\n",
        "#             The graph on which to carry out the search\n",
        "#         start: string\n",
        "#             Building number at which to start\n",
        "#         end: string\n",
        "#             Building number at which to end\n",
        "#         path: list composed of [[list of strings], int, int]\n",
        "#             Represents the current path of nodes being traversed. Contains\n",
        "#             a list of node names, total distance traveled, and total\n",
        "#             distance outdoors.\n",
        "#         max_dist_outdoors: int\n",
        "#             Maximum distance spent outdoors on a path\n",
        "#         best_dist: int\n",
        "#             The smallest distance between the original start and end node\n",
        "#             for the initial problem that you are trying to solve\n",
        "#         best_path: list of strings\n",
        "#             The shortest path found so far between the original start\n",
        "#             and end node.\n",
        "\n",
        "#     Returns:\n",
        "#         A tuple with the shortest-path from start to end, represented by\n",
        "#         a list of building numbers (in strings), [n_1, n_2, ..., n_k],\n",
        "#         where there exists an edge from n_i to n_(i+1) in digraph,\n",
        "#         for all 1 <= i < k and the distance of that path.\n",
        "\n",
        "#         If there exists no path that satisfies max_total_dist and\n",
        "#         max_dist_outdoors constraints, then return None.\n",
        "#     \"\"\""
      ],
      "metadata": {
        "id": "a1OYOykHgXGd"
      },
      "execution_count": 15,
      "outputs": []
    },
    {
      "cell_type": "markdown",
      "source": [
        "The below code finds the optimum path from start to finish minimizing only the time spent outdoors"
      ],
      "metadata": {
        "id": "j2QZePS7zklj"
      }
    },
    {
      "cell_type": "code",
      "source": [
        "def test_function(graph,start,end,path=(),max_dist_outdoors = None , best_dist = None ,best_path = None):\n",
        "  if (start not in graph.nodes) or (end not in graph.nodes):\n",
        "    raise ValueError('Node not present in graph')\n",
        "  path= path + (start,)\n",
        "  if start==end:\n",
        "    return path\n",
        "  for node in graph.get_edges_for_node(start):\n",
        "    if node[0] not in path:\n",
        "      if best_path== None:\n",
        "        if outtime_count(path)<=max_dist_outdoors:\n",
        "          np = test_function(graph,node[0],end,path,max_dist_outdoors, best_dist ,best_path)\n",
        "          if np!= None and outtime_count(np) <= max_dist_outdoors:\n",
        "            best_path = np\n",
        "            best_dist=outtime_count(np)\n",
        "      else :\n",
        "        if outtime_count(path)<best_dist:\n",
        "          np = test_function(graph,node[0],end,path,max_dist_outdoors, best_dist ,best_path)\n",
        "          if np != None:\n",
        "            if outtime_count(np)<best_dist:\n",
        "              best_path = np\n",
        "              best_dist = outtime_count(np)\n",
        "  return best_path"
      ],
      "metadata": {
        "id": "StxFXONtu0OW"
      },
      "execution_count": 16,
      "outputs": []
    },
    {
      "cell_type": "code",
      "source": [
        "print(Map)"
      ],
      "metadata": {
        "colab": {
          "base_uri": "https://localhost:8080/"
        },
        "id": "Zuxo5vUzxNlj",
        "outputId": "666a3a2b-32a1-4cec-a71d-d5ad9d8c8b8e"
      },
      "execution_count": 17,
      "outputs": [
        {
          "output_type": "stream",
          "name": "stdout",
          "text": [
            "32->36(70, 0)\n",
            "32->57(30, 0)\n",
            "32->76(80, 50)\n",
            "32->68(110, 80)\n",
            "32->16(100, 50)\n",
            "32->12(100, 80)\n",
            "32->46(90, 40)\n",
            "32->48(80, 50)\n",
            "32->66(70, 60)\n",
            "32->56(80, 70)\n",
            "36->32(70, 0)\n",
            "36->26(34, 0)\n",
            "36->34(25, 0)\n",
            "36->46(80, 40)\n",
            "36->48(100, 80)\n",
            "57->32(30, 0)\n",
            "76->32(80, 50)\n",
            "76->68(72, 30)\n",
            "76->66(130, 100)\n",
            "68->32(110, 80)\n",
            "68->76(72, 30)\n",
            "68->66(51, 0)\n",
            "68->56(80, 70)\n",
            "66->68(51, 0)\n",
            "66->56(40, 0)\n",
            "66->76(130, 100)\n",
            "66->32(70, 60)\n",
            "56->68(80, 70)\n",
            "56->66(40, 0)\n",
            "56->18(35, 0)\n",
            "56->16(30, 0)\n",
            "56->32(80, 70)\n",
            "18->56(35, 0)\n",
            "18->54(20, 10)\n",
            "16->56(30, 0)\n",
            "16->32(100, 50)\n",
            "16->26(45, 0)\n",
            "16->8(25, 0)\n",
            "26->36(34, 0)\n",
            "26->16(45, 0)\n",
            "26->12(30, 25)\n",
            "26->24(25, 20)\n",
            "24->13(35, 30)\n",
            "24->26(25, 20)\n",
            "24->34(27, 0)\n",
            "24->12(33, 0)\n",
            "13->24(35, 30)\n",
            "13->39(70, 50)\n",
            "13->31(30, 25)\n",
            "13->10(30, 0)\n",
            "13->9(40, 0)\n",
            "34->36(25, 0)\n",
            "34->24(27, 0)\n",
            "34->38(25, 0)\n",
            "12->32(100, 80)\n",
            "12->26(30, 25)\n",
            "12->24(33, 0)\n",
            "12->4(56, 0)\n",
            "8->16(25, 0)\n",
            "8->6(39, 0)\n",
            "8->4(47, 0)\n",
            "4->12(56, 0)\n",
            "4->8(47, 0)\n",
            "4->2(36, 0)\n",
            "4->10(47, 0)\n",
            "4->3(60, 50)\n",
            "4->1(80, 65)\n",
            "6->8(39, 0)\n",
            "6->2(41, 0)\n",
            "39->37(32, 0)\n",
            "39->13(70, 50)\n",
            "37->39(32, 0)\n",
            "37->31(27, 0)\n",
            "37->35(29, 0)\n",
            "31->13(30, 25)\n",
            "31->37(27, 0)\n",
            "2->6(41, 0)\n",
            "2->14(51, 0)\n",
            "2->4(36, 0)\n",
            "2->10(70, 50)\n",
            "2->3(70, 50)\n",
            "2->1(75, 60)\n",
            "14->2(51, 0)\n",
            "14->50(50, 23)\n",
            "14->50(25, 20)\n",
            "50->14(50, 23)\n",
            "50->14(25, 20)\n",
            "10->4(47, 0)\n",
            "10->2(70, 50)\n",
            "10->3(32, 0)\n",
            "10->13(30, 0)\n",
            "3->10(32, 0)\n",
            "3->4(60, 50)\n",
            "3->2(70, 50)\n",
            "3->1(36, 0)\n",
            "3->7(25, 0)\n",
            "1->2(75, 60)\n",
            "1->4(80, 65)\n",
            "1->3(36, 0)\n",
            "1->5(32, 0)\n",
            "5->1(32, 0)\n",
            "5->7(20, 0)\n",
            "7->5(20, 0)\n",
            "7->3(25, 0)\n",
            "7->9(20, 0)\n",
            "9->13(40, 0)\n",
            "9->7(20, 0)\n",
            "9->33(29, 0)\n",
            "38->34(25, 0)\n",
            "38->39(34, 0)\n",
            "35->37(29, 0)\n",
            "35->33(25, 0)\n",
            "33->35(25, 0)\n",
            "33->9(29, 0)\n",
            "46->32(90, 40)\n",
            "46->36(80, 40)\n",
            "46->48(25, 10)\n",
            "48->32(80, 50)\n",
            "48->36(100, 80)\n",
            "48->46(25, 10)\n",
            "54->56(40, 30)\n",
            "54->66(45, 35)\n",
            "54->18(20, 10)\n",
            "54->62(20, 10)\n",
            "54->14(70, 60)\n",
            "54->50(80, 70)\n",
            "62->54(20, 10)\n",
            "62->64(30, 20)\n",
            "64->62(30, 20)\n"
          ]
        }
      ]
    },
    {
      "cell_type": "code",
      "source": [
        "totaltime_count(Test_function(Map,Node(2),Node(9),path=(),max_dist =220 , best_dist = None ,best_path = None))"
      ],
      "metadata": {
        "colab": {
          "base_uri": "https://localhost:8080/"
        },
        "id": "Q2HGiI6STHrj",
        "outputId": "da37a492-792d-4764-f984-acfe7e59aed0"
      },
      "execution_count": 48,
      "outputs": [
        {
          "output_type": "execute_result",
          "data": {
            "text/plain": [
              "115"
            ]
          },
          "metadata": {},
          "execution_count": 48
        }
      ]
    },
    {
      "cell_type": "code",
      "source": [
        "outtime_count(test_function(Map,Node(32),Node(76),path=(),max_dist_outdoors =100 , best_dist = None ,best_path = None))"
      ],
      "metadata": {
        "colab": {
          "base_uri": "https://localhost:8080/"
        },
        "id": "pmj_-ZfxxPVN",
        "outputId": "c08335b4-538c-4335-c1ff-9193852cd78f"
      },
      "execution_count": 19,
      "outputs": [
        {
          "output_type": "execute_result",
          "data": {
            "text/plain": [
              "30"
            ]
          },
          "metadata": {},
          "execution_count": 19
        }
      ]
    },
    {
      "cell_type": "code",
      "source": [
        "test_function(Map,Node(32),Node(56),path=(),max_dist_outdoors =0 , best_dist = None ,best_path = None)"
      ],
      "metadata": {
        "colab": {
          "base_uri": "https://localhost:8080/"
        },
        "id": "MEOJt2Ol_f6m",
        "outputId": "f1d86844-28f4-4c81-bb4a-3511c3badb5b"
      },
      "execution_count": 20,
      "outputs": [
        {
          "output_type": "execute_result",
          "data": {
            "text/plain": [
              "(32, 36, 26, 16, 56)"
            ]
          },
          "metadata": {},
          "execution_count": 20
        }
      ]
    },
    {
      "cell_type": "code",
      "source": [
        "outtime_count(test_function(Map,Node(1),Node(32),path=(),max_dist_outdoors =0 , best_dist = None ,best_path = None))"
      ],
      "metadata": {
        "colab": {
          "base_uri": "https://localhost:8080/"
        },
        "id": "zQRoDH_c_9Nm",
        "outputId": "ab696f60-bf2e-46ff-ed1f-de813d1b8adc"
      },
      "execution_count": 21,
      "outputs": [
        {
          "output_type": "execute_result",
          "data": {
            "text/plain": [
              "0"
            ]
          },
          "metadata": {},
          "execution_count": 21
        }
      ]
    },
    {
      "cell_type": "code",
      "source": [
        "def Test_function(graph,start,end,path=(),max_dist = None , best_dist = None ,best_path = None):\n",
        "  if (start not in graph.nodes) or (end not in graph.nodes):\n",
        "    raise ValueError('Nodes not in graph')\n",
        "  path= path + (start,)\n",
        "  if start==end:\n",
        "    return path\n",
        "  for node in graph.get_edges_for_node(start):\n",
        "    if node[0] not in path:\n",
        "      if best_path== None:\n",
        "        if totaltime_count(path)<= max_dist:\n",
        "          np = Test_function(graph,node[0],end,path,max_dist, best_dist ,best_path)\n",
        "          if np!= None :\n",
        "            if totaltime_count(np) <= max_dist:\n",
        "              best_path = np\n",
        "              best_dist=totaltime_count(np)\n",
        "      else :\n",
        "        if totaltime_count(path)<= best_dist:\n",
        "          np = Test_function(graph,node[0],end,path,max_dist, best_dist ,best_path)\n",
        "          if np != None:\n",
        "            if totaltime_count(np)<best_dist:\n",
        "              best_path = np\n",
        "              best_dist = totaltime_count(np)\n",
        "  return best_path"
      ],
      "metadata": {
        "id": "39ccIGwayaN9"
      },
      "execution_count": 22,
      "outputs": []
    },
    {
      "cell_type": "code",
      "source": [
        "totaltime_count(Test_function(Map,Node(36),Node(76),path=(),max_dist = 150 , best_dist = None ,best_path = None))"
      ],
      "metadata": {
        "colab": {
          "base_uri": "https://localhost:8080/"
        },
        "id": "CmS-OYB65-lm",
        "outputId": "444c5a0b-27c9-497a-b09f-f4ddd423e56a"
      },
      "execution_count": 23,
      "outputs": [
        {
          "output_type": "execute_result",
          "data": {
            "text/plain": [
              "150"
            ]
          },
          "metadata": {},
          "execution_count": 23
        }
      ]
    },
    {
      "cell_type": "code",
      "source": [
        "totaltime_count(Test_function(Map,Node(32),Node(76),path = (),max_dist = 100))"
      ],
      "metadata": {
        "colab": {
          "base_uri": "https://localhost:8080/"
        },
        "id": "eZ0Hnswg1Xam",
        "outputId": "c1733c74-5b8c-4b54-d7af-d5b4102c99dd"
      },
      "execution_count": 24,
      "outputs": [
        {
          "output_type": "execute_result",
          "data": {
            "text/plain": [
              "80"
            ]
          },
          "metadata": {},
          "execution_count": 24
        }
      ]
    },
    {
      "cell_type": "code",
      "source": [
        "# # Problem 3c: Implement directed_dfs\n",
        "# def directed_dfs(digraph, start, end, max_total_dist, max_dist_outdoors):\n",
        "#     \"\"\"\n",
        "#     Finds the shortest path from start to end using a directed depth-first\n",
        "#     search. The total distance traveled on the path must not\n",
        "#     exceed max_total_dist, and the distance spent outdoors on this path must\n",
        "#     not exceed max_dist_outdoors.\n",
        "\n",
        "#     Parameters:\n",
        "#         digraph: Digraph instance\n",
        "#             The graph on which to carry out the search\n",
        "#         start: string\n",
        "#             Building number at which to start\n",
        "#         end: string\n",
        "#             Building number at which to end\n",
        "#         max_total_dist: int\n",
        "#             Maximum total distance on a path\n",
        "#         max_dist_outdoors: int\n",
        "#             Maximum distance spent outdoors on a path\n",
        "\n",
        "#     Returns:\n",
        "#         The shortest-path from start to end, represented by\n",
        "#         a list of building numbers (in strings), [n_1, n_2, ..., n_k],\n",
        "#         where there exists an edge from n_i to n_(i+1) in digraph,\n",
        "#         for all 1 <= i < k\n",
        "\n",
        "#         If there exists no path that satisfies max_total_dist and\n",
        "#         max_dist_outdoors constraints, then raises a ValueError.\n",
        "#     \"\"\"\n",
        "#     # TODO\n",
        "#     pass"
      ],
      "metadata": {
        "id": "A5dAlLwU3YPn"
      },
      "execution_count": 25,
      "outputs": []
    },
    {
      "cell_type": "code",
      "source": [
        "def Test_Function(graph,start,end,path=(),max_dist = None ,max_dist_outdoors = None,best_path = None):\n",
        "  path= path + (start,)\n",
        "  if start==end:\n",
        "    return path\n",
        "  for node in graph.get_edges_for_node(start):\n",
        "    if node[0] not in path:\n",
        "      if best_path== None:\n",
        "        if totaltime_count(path)<= max_dist and outtime_count(path) <= max_dist_outdoors:\n",
        "          np = Test_Function(graph,node[0],end,path,max_dist,max_dist_outdoors,best_path)\n",
        "          if np!= None :\n",
        "            if totaltime_count(np) <= max_dist and outtime_count(path)<=max_dist_outdoors:\n",
        "              best_path = np\n",
        "      else :\n",
        "        if totaltime_count(path)< totaltime_count(best_path) and outtime_count(path)< outtime_count(best_path):\n",
        "          np = Test_Function(graph,node[0],end,path,max_dist, max_dist_outdoors ,best_path)\n",
        "          if np != None:\n",
        "            if totaltime_count(np)<totaltime_count(best_path) and outtime_count(path)<outtime_count(best_path):\n",
        "              best_path = np\n",
        "  return best_path"
      ],
      "metadata": {
        "id": "2dj-QIc51oos"
      },
      "execution_count": 26,
      "outputs": []
    },
    {
      "cell_type": "code",
      "source": [
        "Test_Function(Map,Node(32),Node(68),(),max_dist = 110,max_dist_outdoors = 0)"
      ],
      "metadata": {
        "id": "uSDEzyew6fVN",
        "colab": {
          "base_uri": "https://localhost:8080/"
        },
        "outputId": "e4706dd5-2d03-4167-fd3d-92c58b11d56f"
      },
      "execution_count": 37,
      "outputs": [
        {
          "output_type": "execute_result",
          "data": {
            "text/plain": [
              "(32, 68)"
            ]
          },
          "metadata": {},
          "execution_count": 37
        }
      ]
    },
    {
      "cell_type": "code",
      "source": [
        "Test_function(Map,Node(32),Node(76),(),max_dist = 120)"
      ],
      "metadata": {
        "colab": {
          "base_uri": "https://localhost:8080/"
        },
        "id": "rkH9rlVlRIN_",
        "outputId": "96c6bc53-c71c-46f0-bc4c-2ac89dce2d86"
      },
      "execution_count": 64,
      "outputs": [
        {
          "output_type": "execute_result",
          "data": {
            "text/plain": [
              "(32, 76)"
            ]
          },
          "metadata": {},
          "execution_count": 64
        }
      ]
    },
    {
      "cell_type": "code",
      "source": [
        "def directed_dfs(digraph, start, end, max_total_dist, max_dist_outdoors):\n",
        "  result  =Test_Function(digraph,start,end,(),max_total_dist ,max_dist_outdoors ,best_path = None)\n",
        "  if result == None:\n",
        "    raise ValueError('No such path exists that satisfies both constraints')\n",
        "  return result\n"
      ],
      "metadata": {
        "id": "stRVpV77RUu5"
      },
      "execution_count": 42,
      "outputs": []
    },
    {
      "cell_type": "code",
      "source": [
        "directed_dfs(Map,Node(32),Node(68),120,10)"
      ],
      "metadata": {
        "colab": {
          "base_uri": "https://localhost:8080/"
        },
        "id": "cuaz3f_jSZAu",
        "outputId": "eccc1fc2-ade2-42cf-ff9a-176c6b0ab2ba"
      },
      "execution_count": 43,
      "outputs": [
        {
          "output_type": "execute_result",
          "data": {
            "text/plain": [
              "(32, 68)"
            ]
          },
          "metadata": {},
          "execution_count": 43
        }
      ]
    },
    {
      "cell_type": "code",
      "source": [
        "directed_dfs(Map,Node(2),Node(9),120,60)"
      ],
      "metadata": {
        "colab": {
          "base_uri": "https://localhost:8080/"
        },
        "id": "LKhOaVeaSjNv",
        "outputId": "1b953ff6-5435-40db-d358-13f34a46b060"
      },
      "execution_count": 50,
      "outputs": [
        {
          "output_type": "execute_result",
          "data": {
            "text/plain": [
              "(2, 3, 7, 9)"
            ]
          },
          "metadata": {},
          "execution_count": 50
        }
      ]
    }
  ]
}