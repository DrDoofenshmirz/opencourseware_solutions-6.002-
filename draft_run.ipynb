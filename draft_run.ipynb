{
  "nbformat": 4,
  "nbformat_minor": 0,
  "metadata": {
    "colab": {
      "name": "draft_run",
      "provenance": []
    },
    "kernelspec": {
      "name": "python3",
      "display_name": "Python 3"
    },
    "language_info": {
      "name": "python"
    }
  },
  "cells": [
    {
      "cell_type": "code",
      "execution_count": 1,
      "metadata": {
        "id": "TgE9RoMqpxn8"
      },
      "outputs": [],
      "source": [
        "class Node(object):\n",
        "    def __init__(self, name):\n",
        "        \"\"\"Assumes name is a string\"\"\"\n",
        "        self.name = name\n",
        "    def getName(self):\n",
        "        return self.name\n",
        "    def __str__(self):\n",
        "        return self.name"
      ]
    },
    {
      "cell_type": "code",
      "source": [
        "class Edge(object):\n",
        "    def __init__(self, src, dest,weight):\n",
        "        \"\"\"Assumes src and dest are nodes\"\"\"\n",
        "        self.src = src\n",
        "        self.dest = dest\n",
        "        self.weight = weight\n",
        "    def get_weight(self):\n",
        "      return self.weight\n",
        "    def getSource(self):\n",
        "        return self.src\n",
        "    def getDestination(self):\n",
        "        return self.dest\n",
        "    def __str__(self):\n",
        "        return self.src.getName() + '->' + self.dest.getName() + \" : \" + str(self.weight)"
      ],
      "metadata": {
        "id": "EUd4mEZiqIVS"
      },
      "execution_count": 19,
      "outputs": []
    },
    {
      "cell_type": "code",
      "source": [
        "class Edge(object):\n",
        "    def __init__(self, src, dest):\n",
        "        \"\"\"Assumes src and dest are nodes\"\"\"\n",
        "        self.src = src\n",
        "        self.dest = dest\n",
        "    def getSource(self):\n",
        "        return self.src\n",
        "    def getDestination(self):\n",
        "        return self.dest\n",
        "    def __str__(self):\n",
        "        return self.src.getName() + '->' + self.dest.getName()\n",
        "               "
      ],
      "metadata": {
        "id": "rYNIY38WvQoS"
      },
      "execution_count": 16,
      "outputs": []
    },
    {
      "cell_type": "code",
      "source": [
        "class Digraph(object):\n",
        "    \"\"\"edges is a dict mapping each node to a list of\n",
        "    its children\"\"\"\n",
        "    def __init__(self):\n",
        "        self.edges = {}\n",
        "    def addNode(self, node):\n",
        "        if node in self.edges:\n",
        "            raise ValueError('Duplicate node')\n",
        "        else:\n",
        "            self.edges[node] = []\n",
        "    def addEdge(self, edge):\n",
        "        src = edge.getSource()\n",
        "        dest = edge.getDestination()\n",
        "        weight = edge.get_weight()\n",
        "        if not (src in self.edges and dest in self.edges):\n",
        "            raise ValueError('Node not in graph')\n",
        "        self.edges[src].append((dest,weight))\n",
        "    def childrenOf(self, node):\n",
        "        return self.edges[node]\n",
        "    def hasNode(self, node):\n",
        "        return node in self.edges\n",
        "    def Weight(self,node1,node2=None):\n",
        "      for i in self.edges :\n",
        "        if i == node1:\n",
        "          for j in self.edges[i]:\n",
        "            if j[0]==node2:\n",
        "              return j[1]\n",
        "    def getNode(self, name):\n",
        "        for n in self.edges:\n",
        "            if n.getName() == name:\n",
        "                return n\n",
        "        raise NameError(name)\n",
        "    def __str__(self):\n",
        "        result = ''\n",
        "        for src in self.edges:\n",
        "            for i in self.edges[src]:\n",
        "                result = result + src.getName() + '->'\\\n",
        "                         + i[0].getName() + '(' + str(i[1]) + ')'  + '\\n'\n",
        "        return result[:-1] #omit final newline\n",
        "\n",
        "class digraph(object):\n",
        "    \"\"\"edges is a dict mapping each node to a list of\n",
        "    its children\"\"\"\n",
        "    def __init__(self):\n",
        "        self.edges = {}\n",
        "    def addNode(self, node):\n",
        "        if node in self.edges:\n",
        "            raise ValueError('Duplicate node')\n",
        "        else:\n",
        "            self.edges[node] = []\n",
        "    def addEdge(self, edge):\n",
        "        src = edge.getSource()\n",
        "        dest = edge.getDestination()\n",
        "        if not (src in self.edges and dest in self.edges):\n",
        "            raise ValueError('Node not in graph')\n",
        "        self.edges[src].append(dest)\n",
        "    def childrenOf(self, node):\n",
        "        return self.edges[node]\n",
        "    def hasNode(self, node):\n",
        "        return node in self.edges\n",
        "    def getNode(self, name):\n",
        "        for n in self.edges:\n",
        "            if n.getName() == name:\n",
        "                return n\n",
        "        raise NameError(name)\n",
        "    def __str__(self):\n",
        "        result = ''\n",
        "        for src in self.edges:\n",
        "            for dest in self.edges[src]:\n",
        "                result = result + src.getName() + '->'\\\n",
        "                         + dest.getName() + '\\n'\n",
        "        return result[:-1] #omit final newline"
      ],
      "metadata": {
        "id": "RwO5UqNLq8Y6"
      },
      "execution_count": 20,
      "outputs": []
    },
    {
      "cell_type": "code",
      "source": [
        "def buildCityGraph(graphType):\n",
        "    g = graphType()\n",
        "    for name in ('Boston', 'Providence', 'New York', 'Chicago',\n",
        "                 'Denver', 'Phoenix', 'Los Angeles'): #Create 7 nodes\n",
        "        g.addNode(Node(name))\n",
        "    g.addEdge(Edge(g.getNode('Boston'), g.getNode('Providence'),5))\n",
        "    g.addEdge(Edge(g.getNode('Boston'), g.getNode('New York'),10))\n",
        "    g.addEdge(Edge(g.getNode('Providence'), g.getNode('Boston'),7))\n",
        "    g.addEdge(Edge(g.getNode('Providence'), g.getNode('New York'),3))\n",
        "    g.addEdge(Edge(g.getNode('New York'), g.getNode('Chicago'),7))\n",
        "    g.addEdge(Edge(g.getNode('Chicago'), g.getNode('Denver'),8))\n",
        "    g.addEdge(Edge(g.getNode('Chicago'), g.getNode('Phoenix'),50))\n",
        "    g.addEdge(Edge(g.getNode('Denver'), g.getNode('Phoenix'),5))\n",
        "    g.addEdge(Edge(g.getNode('Denver'), g.getNode('New York'),7))\n",
        "    g.addEdge(Edge(g.getNode('Los Angeles'), g.getNode('Boston'),4))\n",
        "    return g\n",
        "map = buildCityGraph(Digraph)\n"
      ],
      "metadata": {
        "id": "xcqN_RwZrwjY"
      },
      "execution_count": 53,
      "outputs": []
    },
    {
      "cell_type": "code",
      "source": [
        "def BuildCityGraph(graphType):\n",
        "    g = graphType()\n",
        "    for name in ('Boston', 'Providence', 'New York', 'Chicago',\n",
        "                 'Denver', 'Phoenix', 'Los Angeles'): #Create 7 nodes\n",
        "        g.addNode(Node(name))\n",
        "    g.addEdge(Edge(g.getNode('Boston'), g.getNode('Providence')))\n",
        "    g.addEdge(Edge(g.getNode('Boston'), g.getNode('New York')))\n",
        "    g.addEdge(Edge(g.getNode('Providence'), g.getNode('Boston')))\n",
        "    g.addEdge(Edge(g.getNode('Providence'), g.getNode('New York')))\n",
        "    g.addEdge(Edge(g.getNode('New York'), g.getNode('Chicago')))\n",
        "    g.addEdge(Edge(g.getNode('Chicago'), g.getNode('Denver')))\n",
        "    g.addEdge(Edge(g.getNode('Chicago'), g.getNode('Phoenix')))\n",
        "    g.addEdge(Edge(g.getNode('Denver'), g.getNode('Phoenix')))\n",
        "    g.addEdge(Edge(g.getNode('Denver'), g.getNode('New York')))\n",
        "    g.addEdge(Edge(g.getNode('Los Angeles'), g.getNode('Boston')))\n",
        "    return g\n",
        "globe=BuildCityGraph(digraph)"
      ],
      "metadata": {
        "id": "qpAurmY5vlmt"
      },
      "execution_count": 17,
      "outputs": []
    },
    {
      "cell_type": "code",
      "source": [
        "def weight_count(path):\n",
        "  if len(path)==1 :\n",
        "    return 0 \n",
        "  x = 0\n",
        "  for i in range(len(path)-1):\n",
        "    x+=map.Weight(path[i],path[i+1])\n",
        "  return x\n",
        "    "
      ],
      "metadata": {
        "id": "sxZglqNWx0lo"
      },
      "execution_count": 34,
      "outputs": []
    },
    {
      "cell_type": "code",
      "source": [
        "def printPath(path):\n",
        "    \"\"\"Assumes path is a list of nodes\"\"\"\n",
        "    result = ''\n",
        "    for i in range(len(path)):\n",
        "        result = result + str(path[i])\n",
        "        if i != len(path) - 1:\n",
        "            result = result + '->'\n",
        "    return result "
      ],
      "metadata": {
        "id": "n-kJTuU8tV43"
      },
      "execution_count": 8,
      "outputs": []
    },
    {
      "cell_type": "code",
      "source": [
        "print(map)"
      ],
      "metadata": {
        "colab": {
          "base_uri": "https://localhost:8080/"
        },
        "id": "o3jHk_GiwQv9",
        "outputId": "fcd96f6b-9c99-45e2-d20a-312b1eaba2f4"
      },
      "execution_count": 22,
      "outputs": [
        {
          "output_type": "stream",
          "name": "stdout",
          "text": [
            "Boston->Providence(5)\n",
            "Boston->New York(9)\n",
            "Providence->Boston(7)\n",
            "Providence->New York(3)\n",
            "New York->Chicago(7)\n",
            "Chicago->Denver(8)\n",
            "Chicago->Phoenix(50)\n",
            "Denver->Phoenix(5)\n",
            "Denver->New York(7)\n",
            "Los Angeles->Boston(4)\n"
          ]
        }
      ]
    },
    {
      "cell_type": "code",
      "source": [
        "def DFS(graph, start, end, path, shortest, toPrint = False):\n",
        "    \"\"\"Assumes graph is a Digraph; start and end are nodes;\n",
        "          path and shortest are lists of nodes\n",
        "       Returns a shortest path from start to end in graph\"\"\"\n",
        "    path = path + [start]\n",
        "    if toPrint:\n",
        "        print('Current DFS path:', printPath(path))\n",
        "    if start == end:\n",
        "        return path\n",
        "    for node in graph.childrenOf(start):\n",
        "        if node not in path: #avoid cycles\n",
        "            if shortest == None or len(path) < len(shortest):\n",
        "                newPath = DFS(graph, node, end, path, shortest,\n",
        "                              toPrint)\n",
        "                if newPath != None:\n",
        "                    shortest = newPath\n",
        "        elif toPrint:\n",
        "            print('Already visited', node)\n",
        "    return shortest"
      ],
      "metadata": {
        "id": "nzxFmQr3r_4x"
      },
      "execution_count": 7,
      "outputs": []
    },
    {
      "cell_type": "code",
      "source": [
        "def f(graph,start,end,path=[],valid=None,shortest=None):\n",
        "  path= path + [start]\n",
        "  if start==end:\n",
        "    return path\n",
        "  for node in graph.childrenOf(start):\n",
        "    if node[0] not in path:\n",
        "      if shortest == None:\n",
        "        np = f(graph,node[0],end,path,valid,shortest)\n",
        "        if np!= None:\n",
        "          shortest = np\n",
        "      else :\n",
        "        np = f(graph,node[0],end,path,valid,shortest)\n",
        "        if np != None:\n",
        "          valid= np\n",
        "        if weight_count(valid)<weight_count(shortest):\n",
        "          shortest = valid\n",
        "  return shortest"
      ],
      "metadata": {
        "id": "1ZKX98Y9vz9z"
      },
      "execution_count": 48,
      "outputs": []
    },
    {
      "cell_type": "code",
      "source": [
        "printPath(f(map,map.getNode('Boston'),map.getNode('Phoenix')))"
      ],
      "metadata": {
        "colab": {
          "base_uri": "https://localhost:8080/",
          "height": 35
        },
        "id": "us4NQhnAzDYL",
        "outputId": "75db0fc8-dc12-4cc9-ceb5-1d292f1ee2e9"
      },
      "execution_count": 54,
      "outputs": [
        {
          "output_type": "execute_result",
          "data": {
            "text/plain": [
              "'Boston->Providence->New York->Chicago->Denver->Phoenix'"
            ],
            "application/vnd.google.colaboratory.intrinsic+json": {
              "type": "string"
            }
          },
          "metadata": {},
          "execution_count": 54
        }
      ]
    },
    {
      "cell_type": "code",
      "source": [
        ""
      ],
      "metadata": {
        "id": "PwkXdbtHEC7I"
      },
      "execution_count": null,
      "outputs": []
    }
  ]
}